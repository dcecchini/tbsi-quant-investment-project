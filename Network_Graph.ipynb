{
 "cells": [
  {
   "cell_type": "markdown",
   "metadata": {
    "colab_type": "text",
    "id": "Eq4Uax4RReJr"
   },
   "source": [
    "# Building a Minimally Correlated Portfolio with Data Science\n",
    "\n",
    "The difficulty with modern portfolio theory is that correlations are non-stationary and harbours non-linear effects. On top of that financial data is incredibly sparse and Pearson's correlation only works on time series with equal dimensions. There is accumulating evidence that asset correlation networks, whose nodes are assets and whose edges are the pairwise correlations between the asset's historical returns follows a power-law distribution and show evidence of stationarity. In some sense one can say that these networks are governed by simple scale-free laws. It is known to be hard to forecast financial time series, but maybe the evolution of asset correlation networks is easier to predict if they are driven by simple laws, in which case these laws can be learned by a machine learning algorithm.\n",
    "\n",
    "In the case of asset correlation networks, we are interested in how volatility spreads between assets between assets and how we can use these insights to optimize our portfolio. To do this we can look at the concept of communicability of complex networks to investigate how things spread and which nodes have the greatest influence in the process. Overall, we will use insights from network science to build centrality-based risk model to generate portfolio asset weights. \n",
    "\n",
    "\n",
    "## Summary\n",
    "\n",
    "Using insights from [Network Science](https://en.wikipedia.org/wiki/Network_science), we build a [centrality-based](https://en.wikipedia.org/wiki/Centrality) risk model for generating portfolio asset weights. The model is trained with the daily prices of 31 stocks from 2006-2014 and validated in years 2015, 2016, and 2017. As a benchmark, we compare the model with a portolfio constructed with [Modern Portfolio Theory (MPT)](https://en.wikipedia.org/wiki/Modern_portfolio_theory). Our proposed asset allocation algorithm significantly outperformed both the DIJIA and S&P500 indexes in every validation year with an average annual return rate of 38.7%, a 18.85% annual volatility, a 1.95 Sharpe ratio, a -12.22% maximum drawdown, a return over maximum drawdown of 9.75, and a growth-risk-ratio of 4.32. In comparison, the MPT portfolio had a 9.64% average annual return rate, a 16.4% annual standard deviation, a Sharpe ratio of 0.47, a maximum drawdown of -20.32%, a return over maximum drawdown of 1.5, and a growth-risk-ratio of 0.69.\n",
    "\n",
    "\n",
    "### Asset Diversification and Allocation\n",
    "\n",
    "The building blocks of a portfolio are assets (resources with economic value expected to increase over time). Each asset belongs to one of seven primary asset classes: cash, equitiy, fixed income, commodities, real-estate, alternative assets, and more recently, digital (such as cryptocurrency and blockchain). Within each class are different asset types. For example: stocks, index funds, and equity mutual funds all belong to the equity class while gold, oil, and corn belong to the commodities class. An emerging consensus in the financial sector is this: a portfolio containing assets of many classes and types hedges against potential losses by increasing the number of revenue streams. In general the more diverse the portfolio the less likely it is to lose money. Take stocks for example. A diversified stock portfolio contains positions in multiple sectors. We call this *asset diversification*, or more simply *diversification*. Below is a table summarizing the asset classes and some of their respective types.\n",
    "\n",
    "Cash | Equity | Fixed Income | Commodities | Real-Estate | Alternative Assets | Digital |\n",
    "-----|--------|--------------|-------------|-------------|--------------------|---------|\n",
    "US Dollar | US Stocks | US Bonds | Gold | REIT's | Structured Credit | Cryptocurrencies\n",
    "Japenese Yen | Foreign Stocks | Foreign Bonds | Oil | Commerical Properties | Liquidations | Security Tokens\n",
    "Chinese Yaun | Index Funds | Deposits | Wheat | Land | Aviation Assets | Online Stores\n",
    "UK Pound | Mutual Funds | Debentures | Corn | Industrial Properties | Collectables | Online Media\n",
    " &bull;<p> | &bull;<p> | &bull;<p> | &bull;<p> | &bull;<p> | &bull;<p> | &bull;<p> |\n",
    " &bull;<p> | &bull;<p> | &bull;<p> | &bull;<p> | &bull;<p> | &bull;<p> | &bull;<p> |\n",
    "\n",
    "**An investor solves the following (asset allocation) problem: given X dollars and N assets find the best possible way of breaking X into N pieces.** By \"best possible\" we mean maximizing our returns subject to minimizing the risk of our initial investment. In other words, we aim to consistently grow X irrespective of the overall state of the market. \n",
    "   \n",
    "   A lower annual standard deviation indicates smaller fluctuations in each revenue stream, and in turn a diminished risk exposure. The \"Holy Grail\" so to speak, is to (1) find the largest number of assets that are the **least** correlated and (2) allocate X dollars to those assets such that the probability of losing money any given year is minimized. The underlying principle is this: the portfolio most robust against large market fluctuations and economic downturns is a portfolio with assets that are the **most independent** of eachother."
   ]
  },
  {
   "cell_type": "code",
   "execution_count": 1,
   "metadata": {
    "colab": {
     "base_uri": "https://localhost:8080/"
    },
    "colab_type": "code",
    "execution": {
     "iopub.execute_input": "2020-06-30T02:37:03.109Z",
     "iopub.status.busy": "2020-06-30T02:37:03.058Z",
     "iopub.status.idle": "2020-06-30T02:37:17.930Z",
     "shell.execute_reply": "2020-06-30T02:37:18.088Z"
    },
    "id": "bozGgebaReJu",
    "outputId": "4d94662d-f57e-4cdc-87a1-1d8ca2ccd54b",
    "scrolled": true
   },
   "outputs": [],
   "source": [
    "#import data manipulation (pandas) and numerical manipulation (numpy) modules\n",
    "import pandas as pd\n",
    "import numpy as np\n",
    "import matplotlib.pyplot as plt\n",
    "import seaborn as sns\n",
    "%matplotlib inline\n",
    "\n",
    "\n",
    "#silence warnings\n",
    "import warnings\n",
    "warnings.filterwarnings(\"ignore\")"
   ]
  },
  {
   "cell_type": "code",
   "execution_count": 2,
   "metadata": {
    "execution": {
     "iopub.execute_input": "2020-06-30T02:37:18.027Z",
     "iopub.status.busy": "2020-06-30T02:37:17.994Z",
     "iopub.status.idle": "2020-06-30T02:37:18.747Z",
     "shell.execute_reply": "2020-06-30T02:37:18.852Z"
    }
   },
   "outputs": [
    {
     "data": {
      "text/html": [
       "<div>\n",
       "<style scoped>\n",
       "    .dataframe tbody tr th:only-of-type {\n",
       "        vertical-align: middle;\n",
       "    }\n",
       "\n",
       "    .dataframe tbody tr th {\n",
       "        vertical-align: top;\n",
       "    }\n",
       "\n",
       "    .dataframe thead th {\n",
       "        text-align: right;\n",
       "    }\n",
       "</style>\n",
       "<table border=\"1\" class=\"dataframe\">\n",
       "  <thead>\n",
       "    <tr style=\"text-align: right;\">\n",
       "      <th></th>\n",
       "      <th>Ticker</th>\n",
       "      <th>Open</th>\n",
       "      <th>Low</th>\n",
       "      <th>High</th>\n",
       "      <th>Close</th>\n",
       "      <th>Volume</th>\n",
       "      <th>Name</th>\n",
       "    </tr>\n",
       "    <tr>\n",
       "      <th>Day</th>\n",
       "      <th></th>\n",
       "      <th></th>\n",
       "      <th></th>\n",
       "      <th></th>\n",
       "      <th></th>\n",
       "      <th></th>\n",
       "      <th></th>\n",
       "    </tr>\n",
       "  </thead>\n",
       "  <tbody>\n",
       "    <tr>\n",
       "      <th>2013-01-02</th>\n",
       "      <td>ABCB4</td>\n",
       "      <td>14.00</td>\n",
       "      <td>14.00</td>\n",
       "      <td>14.27</td>\n",
       "      <td>14.15</td>\n",
       "      <td>5224632.0</td>\n",
       "      <td>ABC BRASIL</td>\n",
       "    </tr>\n",
       "    <tr>\n",
       "      <th>2013-01-02</th>\n",
       "      <td>ALPA4</td>\n",
       "      <td>15.10</td>\n",
       "      <td>14.98</td>\n",
       "      <td>15.30</td>\n",
       "      <td>15.16</td>\n",
       "      <td>2719722.0</td>\n",
       "      <td>ALPARGATAS</td>\n",
       "    </tr>\n",
       "    <tr>\n",
       "      <th>2013-01-02</th>\n",
       "      <td>AMAR3</td>\n",
       "      <td>32.55</td>\n",
       "      <td>32.54</td>\n",
       "      <td>33.01</td>\n",
       "      <td>32.63</td>\n",
       "      <td>7420976.0</td>\n",
       "      <td>LOJAS MARISA</td>\n",
       "    </tr>\n",
       "    <tr>\n",
       "      <th>2013-01-02</th>\n",
       "      <td>BBAS3</td>\n",
       "      <td>26.00</td>\n",
       "      <td>25.46</td>\n",
       "      <td>26.19</td>\n",
       "      <td>25.80</td>\n",
       "      <td>220234920.0</td>\n",
       "      <td>BRASIL</td>\n",
       "    </tr>\n",
       "    <tr>\n",
       "      <th>2013-01-02</th>\n",
       "      <td>BBDC3</td>\n",
       "      <td>34.30</td>\n",
       "      <td>34.30</td>\n",
       "      <td>35.43</td>\n",
       "      <td>35.11</td>\n",
       "      <td>39184241.0</td>\n",
       "      <td>BRADESCO</td>\n",
       "    </tr>\n",
       "  </tbody>\n",
       "</table>\n",
       "</div>"
      ],
      "text/plain": [
       "           Ticker   Open    Low   High  Close       Volume          Name\n",
       "Day                                                                     \n",
       "2013-01-02  ABCB4  14.00  14.00  14.27  14.15    5224632.0    ABC BRASIL\n",
       "2013-01-02  ALPA4  15.10  14.98  15.30  15.16    2719722.0    ALPARGATAS\n",
       "2013-01-02  AMAR3  32.55  32.54  33.01  32.63    7420976.0  LOJAS MARISA\n",
       "2013-01-02  BBAS3  26.00  25.46  26.19  25.80  220234920.0        BRASIL\n",
       "2013-01-02  BBDC3  34.30  34.30  35.43  35.11   39184241.0      BRADESCO"
      ]
     },
     "execution_count": 2,
     "metadata": {},
     "output_type": "execute_result"
    }
   ],
   "source": [
    "# Get the data\n",
    "df = pd.read_csv(r\"data/20130102_20200529_daily.csv\", index_col=0)\n",
    "df.head()"
   ]
  },
  {
   "cell_type": "code",
   "execution_count": 3,
   "metadata": {
    "colab": {},
    "colab_type": "code",
    "execution": {
     "iopub.execute_input": "2020-06-30T02:37:22.152Z",
     "iopub.status.busy": "2020-06-30T02:37:22.117Z",
     "iopub.status.idle": "2020-06-30T02:37:22.216Z",
     "shell.execute_reply": "2020-06-30T02:37:22.244Z"
    },
    "id": "DFNBMbrlReJ5"
   },
   "outputs": [
    {
     "data": {
      "text/plain": [
       "array(['ABCB4', 'BBAS3', 'BBDC4', 'BRAP4', 'BRML3', 'BRPR3', 'CCRO3',\n",
       "       'CMIG4', 'CPFE3', 'CSAN3', 'CSNA3', 'CYRE3', 'DTEX3', 'ECOR3',\n",
       "       'ELET3', 'ENBR3', 'EQTL3', 'EVEN3', 'EZTC3', 'GFSA3', 'GGBR4',\n",
       "       'GOAU4', 'GOLL4', 'HYPE3', 'IGTA3', 'ITSA4', 'ITUB4', 'LAME4',\n",
       "       'LIGT3', 'LREN3', 'MRVE3', 'MULT3', 'PETR4', 'RENT3', 'SBSP3',\n",
       "       'TCSA3', 'TIMP3', 'UGPA3', 'VALE3', 'VIVT4'], dtype='<U5')"
      ]
     },
     "execution_count": 3,
     "metadata": {},
     "output_type": "execute_result"
    }
   ],
   "source": [
    "stocks = open(r\"data/selected_tickers.txt\").read().split(\",\")\n",
    "np.array(stocks)"
   ]
  },
  {
   "cell_type": "code",
   "execution_count": 4,
   "metadata": {
    "execution": {
     "iopub.execute_input": "2020-06-30T02:37:26.017Z",
     "iopub.status.busy": "2020-06-30T02:37:25.984Z",
     "iopub.status.idle": "2020-06-30T02:37:26.099Z",
     "shell.execute_reply": "2020-06-30T02:37:26.147Z"
    }
   },
   "outputs": [],
   "source": [
    "# Filter data with the selected stocks\n",
    "df = df.loc[df.Ticker.apply(lambda x: x in stocks)]"
   ]
  },
  {
   "cell_type": "code",
   "execution_count": 5,
   "metadata": {
    "execution": {
     "iopub.execute_input": "2020-06-30T02:37:28.385Z",
     "iopub.status.busy": "2020-06-30T02:37:28.348Z",
     "iopub.status.idle": "2020-06-30T02:37:28.463Z",
     "shell.execute_reply": "2020-06-30T02:37:28.542Z"
    }
   },
   "outputs": [
    {
     "data": {
      "text/plain": [
       "'2017-01-02'"
      ]
     },
     "execution_count": 5,
     "metadata": {},
     "output_type": "execute_result"
    }
   ],
   "source": [
    "df.loc[df.index <= \"2017-01-02\"].index.max()"
   ]
  },
  {
   "cell_type": "code",
   "execution_count": 6,
   "metadata": {
    "colab": {
     "base_uri": "https://localhost:8080/",
     "height": 235
    },
    "colab_type": "code",
    "execution": {
     "iopub.execute_input": "2020-06-30T02:37:30.938Z",
     "iopub.status.busy": "2020-06-30T02:37:30.891Z",
     "iopub.status.idle": "2020-06-30T02:37:34.524Z",
     "shell.execute_reply": "2020-06-30T02:37:34.804Z"
    },
    "id": "5RY9tBoAReKD",
    "outputId": "79f79e39-00fa-4973-c851-ec329bfadaa1"
   },
   "outputs": [
    {
     "name": "stdout",
     "output_type": "stream",
     "text": [
      "('2013-01-02', '2016-12-29')\n",
      "('2017-01-02', '2020-05-29')\n"
     ]
    },
    {
     "data": {
      "text/html": [
       "<div>\n",
       "<style scoped>\n",
       "    .dataframe tbody tr th:only-of-type {\n",
       "        vertical-align: middle;\n",
       "    }\n",
       "\n",
       "    .dataframe tbody tr th {\n",
       "        vertical-align: top;\n",
       "    }\n",
       "\n",
       "    .dataframe thead th {\n",
       "        text-align: right;\n",
       "    }\n",
       "</style>\n",
       "<table border=\"1\" class=\"dataframe\">\n",
       "  <thead>\n",
       "    <tr style=\"text-align: right;\">\n",
       "      <th></th>\n",
       "      <th>Ticker</th>\n",
       "      <th>Open</th>\n",
       "      <th>Low</th>\n",
       "      <th>High</th>\n",
       "      <th>Close</th>\n",
       "      <th>Volume</th>\n",
       "      <th>Name</th>\n",
       "    </tr>\n",
       "    <tr>\n",
       "      <th>Day</th>\n",
       "      <th></th>\n",
       "      <th></th>\n",
       "      <th></th>\n",
       "      <th></th>\n",
       "      <th></th>\n",
       "      <th></th>\n",
       "      <th></th>\n",
       "    </tr>\n",
       "  </thead>\n",
       "  <tbody>\n",
       "    <tr>\n",
       "      <th>2016-12-29</th>\n",
       "      <td>TCSA3</td>\n",
       "      <td>2.20</td>\n",
       "      <td>2.13</td>\n",
       "      <td>2.21</td>\n",
       "      <td>2.16</td>\n",
       "      <td>3378789.0</td>\n",
       "      <td>TECNISA</td>\n",
       "    </tr>\n",
       "    <tr>\n",
       "      <th>2016-12-29</th>\n",
       "      <td>TIMP3</td>\n",
       "      <td>7.78</td>\n",
       "      <td>7.63</td>\n",
       "      <td>7.86</td>\n",
       "      <td>7.83</td>\n",
       "      <td>15766673.0</td>\n",
       "      <td>TIM PART S/A</td>\n",
       "    </tr>\n",
       "    <tr>\n",
       "      <th>2016-12-29</th>\n",
       "      <td>UGPA3</td>\n",
       "      <td>67.24</td>\n",
       "      <td>66.60</td>\n",
       "      <td>69.30</td>\n",
       "      <td>68.45</td>\n",
       "      <td>65737657.0</td>\n",
       "      <td>ULTRAPAR</td>\n",
       "    </tr>\n",
       "    <tr>\n",
       "      <th>2016-12-29</th>\n",
       "      <td>VALE3</td>\n",
       "      <td>26.68</td>\n",
       "      <td>25.50</td>\n",
       "      <td>26.85</td>\n",
       "      <td>25.68</td>\n",
       "      <td>123590835.0</td>\n",
       "      <td>VALE</td>\n",
       "    </tr>\n",
       "    <tr>\n",
       "      <th>2016-12-29</th>\n",
       "      <td>VIVT4</td>\n",
       "      <td>43.38</td>\n",
       "      <td>42.99</td>\n",
       "      <td>44.26</td>\n",
       "      <td>44.08</td>\n",
       "      <td>50084766.0</td>\n",
       "      <td>TELEF BRASIL</td>\n",
       "    </tr>\n",
       "  </tbody>\n",
       "</table>\n",
       "</div>"
      ],
      "text/plain": [
       "           Ticker   Open    Low   High  Close       Volume          Name\n",
       "Day                                                                     \n",
       "2016-12-29  TCSA3   2.20   2.13   2.21   2.16    3378789.0       TECNISA\n",
       "2016-12-29  TIMP3   7.78   7.63   7.86   7.83   15766673.0  TIM PART S/A\n",
       "2016-12-29  UGPA3  67.24  66.60  69.30  68.45   65737657.0      ULTRAPAR\n",
       "2016-12-29  VALE3  26.68  25.50  26.85  25.68  123590835.0          VALE\n",
       "2016-12-29  VIVT4  43.38  42.99  44.26  44.08   50084766.0  TELEF BRASIL"
      ]
     },
     "execution_count": 6,
     "metadata": {},
     "output_type": "execute_result"
    }
   ],
   "source": [
    "# Set the ranges for training and testing\n",
    "from header import TRAIN_RANGE, TEST_RANGE\n",
    "print(TRAIN_RANGE)\n",
    "print(TEST_RANGE)\n",
    "\n",
    "df_train = df.loc[TRAIN_RANGE[0]:TRAIN_RANGE[1]]\n",
    "df_train.tail()"
   ]
  },
  {
   "cell_type": "code",
   "execution_count": 7,
   "metadata": {
    "colab": {
     "base_uri": "https://localhost:8080/",
     "height": 235
    },
    "colab_type": "code",
    "execution": {
     "iopub.execute_input": "2020-06-30T02:37:34.607Z",
     "iopub.status.busy": "2020-06-30T02:37:34.574Z",
     "iopub.status.idle": "2020-06-30T02:37:34.679Z",
     "shell.execute_reply": "2020-06-30T02:37:34.860Z"
    },
    "id": "pKmCRIAIReKF",
    "outputId": "9d195b9a-31b5-447b-e419-06a154414f3f",
    "scrolled": true
   },
   "outputs": [
    {
     "data": {
      "text/html": [
       "<div>\n",
       "<style scoped>\n",
       "    .dataframe tbody tr th:only-of-type {\n",
       "        vertical-align: middle;\n",
       "    }\n",
       "\n",
       "    .dataframe tbody tr th {\n",
       "        vertical-align: top;\n",
       "    }\n",
       "\n",
       "    .dataframe thead th {\n",
       "        text-align: right;\n",
       "    }\n",
       "</style>\n",
       "<table border=\"1\" class=\"dataframe\">\n",
       "  <thead>\n",
       "    <tr style=\"text-align: right;\">\n",
       "      <th></th>\n",
       "      <th>Ticker</th>\n",
       "      <th>Open</th>\n",
       "      <th>Low</th>\n",
       "      <th>High</th>\n",
       "      <th>Close</th>\n",
       "      <th>Volume</th>\n",
       "      <th>Name</th>\n",
       "    </tr>\n",
       "    <tr>\n",
       "      <th>Day</th>\n",
       "      <th></th>\n",
       "      <th></th>\n",
       "      <th></th>\n",
       "      <th></th>\n",
       "      <th></th>\n",
       "      <th></th>\n",
       "      <th></th>\n",
       "    </tr>\n",
       "  </thead>\n",
       "  <tbody>\n",
       "    <tr>\n",
       "      <th>2020-05-29</th>\n",
       "      <td>TCSA3</td>\n",
       "      <td>0.74</td>\n",
       "      <td>0.72</td>\n",
       "      <td>0.75</td>\n",
       "      <td>0.75</td>\n",
       "      <td>6.657817e+06</td>\n",
       "      <td>TECNISA</td>\n",
       "    </tr>\n",
       "    <tr>\n",
       "      <th>2020-05-29</th>\n",
       "      <td>TIMP3</td>\n",
       "      <td>13.46</td>\n",
       "      <td>13.16</td>\n",
       "      <td>13.62</td>\n",
       "      <td>13.62</td>\n",
       "      <td>1.465600e+08</td>\n",
       "      <td>TIM PART S/A</td>\n",
       "    </tr>\n",
       "    <tr>\n",
       "      <th>2020-05-29</th>\n",
       "      <td>UGPA3</td>\n",
       "      <td>17.39</td>\n",
       "      <td>16.83</td>\n",
       "      <td>17.62</td>\n",
       "      <td>17.12</td>\n",
       "      <td>2.456379e+08</td>\n",
       "      <td>ULTRAPAR</td>\n",
       "    </tr>\n",
       "    <tr>\n",
       "      <th>2020-05-29</th>\n",
       "      <td>VALE3</td>\n",
       "      <td>51.40</td>\n",
       "      <td>51.06</td>\n",
       "      <td>53.00</td>\n",
       "      <td>53.00</td>\n",
       "      <td>4.853776e+09</td>\n",
       "      <td>VALE</td>\n",
       "    </tr>\n",
       "    <tr>\n",
       "      <th>2020-05-29</th>\n",
       "      <td>VIVT4</td>\n",
       "      <td>47.39</td>\n",
       "      <td>46.39</td>\n",
       "      <td>47.53</td>\n",
       "      <td>47.14</td>\n",
       "      <td>2.268595e+08</td>\n",
       "      <td>TELEF BRASIL</td>\n",
       "    </tr>\n",
       "  </tbody>\n",
       "</table>\n",
       "</div>"
      ],
      "text/plain": [
       "           Ticker   Open    Low   High  Close        Volume          Name\n",
       "Day                                                                      \n",
       "2020-05-29  TCSA3   0.74   0.72   0.75   0.75  6.657817e+06       TECNISA\n",
       "2020-05-29  TIMP3  13.46  13.16  13.62  13.62  1.465600e+08  TIM PART S/A\n",
       "2020-05-29  UGPA3  17.39  16.83  17.62  17.12  2.456379e+08      ULTRAPAR\n",
       "2020-05-29  VALE3  51.40  51.06  53.00  53.00  4.853776e+09          VALE\n",
       "2020-05-29  VIVT4  47.39  46.39  47.53  47.14  2.268595e+08  TELEF BRASIL"
      ]
     },
     "execution_count": 7,
     "metadata": {},
     "output_type": "execute_result"
    }
   ],
   "source": [
    "#testing dataset\n",
    "df_validate = df.loc[TEST_RANGE[0]:TEST_RANGE[1]]\n",
    "df_validate.tail()"
   ]
  },
  {
   "cell_type": "markdown",
   "metadata": {
    "colab_type": "text",
    "id": "eLaxCMR4ReKI"
   },
   "source": [
    "It's always a good idea to check we didn't lose any data after the split."
   ]
  },
  {
   "cell_type": "code",
   "execution_count": 8,
   "metadata": {
    "colab": {
     "base_uri": "https://localhost:8080/",
     "height": 34
    },
    "colab_type": "code",
    "execution": {
     "iopub.execute_input": "2020-06-30T02:37:40.378Z",
     "iopub.status.busy": "2020-06-30T02:37:40.324Z",
     "iopub.status.idle": "2020-06-30T02:37:40.484Z",
     "shell.execute_reply": "2020-06-30T02:37:40.544Z"
    },
    "id": "vPWwf9kiReKI",
    "outputId": "9beb930f-e966-4df6-cd77-f3b190f2ebbd"
   },
   "outputs": [
    {
     "data": {
      "text/plain": [
       "True"
      ]
     },
     "execution_count": 8,
     "metadata": {},
     "output_type": "execute_result"
    }
   ],
   "source": [
    "#returns True if no data was lost after the split and False otherwise.\n",
    "df_train.shape[0] + df_validate.shape[0] == df.shape[0]"
   ]
  },
  {
   "cell_type": "code",
   "execution_count": 9,
   "metadata": {
    "colab": {
     "base_uri": "https://localhost:8080/",
     "height": 374
    },
    "colab_type": "code",
    "collapsed": true,
    "execution": {
     "iopub.execute_input": "2020-06-30T02:37:42.637Z",
     "iopub.status.busy": "2020-06-30T02:37:42.602Z",
     "iopub.status.idle": "2020-06-30T02:37:42.720Z",
     "shell.execute_reply": "2020-06-30T02:37:42.835Z"
    },
    "id": "Lj_AKUNnReKM",
    "outputId": "8cb196d8-f7cd-4ae8-9e2a-9c994073d022"
   },
   "outputs": [
    {
     "data": {
      "text/html": [
       "<div>\n",
       "<style scoped>\n",
       "    .dataframe tbody tr th:only-of-type {\n",
       "        vertical-align: middle;\n",
       "    }\n",
       "\n",
       "    .dataframe tbody tr th {\n",
       "        vertical-align: top;\n",
       "    }\n",
       "\n",
       "    .dataframe thead th {\n",
       "        text-align: right;\n",
       "    }\n",
       "</style>\n",
       "<table border=\"1\" class=\"dataframe\">\n",
       "  <thead>\n",
       "    <tr style=\"text-align: right;\">\n",
       "      <th>Ticker</th>\n",
       "      <th>ABCB4</th>\n",
       "      <th>BBAS3</th>\n",
       "      <th>BBDC4</th>\n",
       "      <th>BRAP4</th>\n",
       "      <th>BRML3</th>\n",
       "      <th>BRPR3</th>\n",
       "      <th>CCRO3</th>\n",
       "      <th>CMIG4</th>\n",
       "      <th>CPFE3</th>\n",
       "      <th>CSAN3</th>\n",
       "      <th>...</th>\n",
       "      <th>MRVE3</th>\n",
       "      <th>MULT3</th>\n",
       "      <th>PETR4</th>\n",
       "      <th>RENT3</th>\n",
       "      <th>SBSP3</th>\n",
       "      <th>TCSA3</th>\n",
       "      <th>TIMP3</th>\n",
       "      <th>UGPA3</th>\n",
       "      <th>VALE3</th>\n",
       "      <th>VIVT4</th>\n",
       "    </tr>\n",
       "    <tr>\n",
       "      <th>Day</th>\n",
       "      <th></th>\n",
       "      <th></th>\n",
       "      <th></th>\n",
       "      <th></th>\n",
       "      <th></th>\n",
       "      <th></th>\n",
       "      <th></th>\n",
       "      <th></th>\n",
       "      <th></th>\n",
       "      <th></th>\n",
       "      <th></th>\n",
       "      <th></th>\n",
       "      <th></th>\n",
       "      <th></th>\n",
       "      <th></th>\n",
       "      <th></th>\n",
       "      <th></th>\n",
       "      <th></th>\n",
       "      <th></th>\n",
       "      <th></th>\n",
       "      <th></th>\n",
       "    </tr>\n",
       "  </thead>\n",
       "  <tbody>\n",
       "    <tr>\n",
       "      <th>2017-01-02</th>\n",
       "      <td>13.31</td>\n",
       "      <td>27.54</td>\n",
       "      <td>28.80</td>\n",
       "      <td>14.50</td>\n",
       "      <td>12.08</td>\n",
       "      <td>7.47</td>\n",
       "      <td>15.79</td>\n",
       "      <td>7.72</td>\n",
       "      <td>25.26</td>\n",
       "      <td>37.15</td>\n",
       "      <td>...</td>\n",
       "      <td>11.05</td>\n",
       "      <td>59.20</td>\n",
       "      <td>14.66</td>\n",
       "      <td>34.94</td>\n",
       "      <td>28.37</td>\n",
       "      <td>2.24</td>\n",
       "      <td>7.73</td>\n",
       "      <td>67.9</td>\n",
       "      <td>25.06</td>\n",
       "      <td>44.08</td>\n",
       "    </tr>\n",
       "    <tr>\n",
       "      <th>2017-01-03</th>\n",
       "      <td>13.88</td>\n",
       "      <td>28.80</td>\n",
       "      <td>30.00</td>\n",
       "      <td>15.11</td>\n",
       "      <td>12.74</td>\n",
       "      <td>7.67</td>\n",
       "      <td>16.39</td>\n",
       "      <td>7.89</td>\n",
       "      <td>25.32</td>\n",
       "      <td>38.88</td>\n",
       "      <td>...</td>\n",
       "      <td>11.30</td>\n",
       "      <td>61.19</td>\n",
       "      <td>15.50</td>\n",
       "      <td>36.41</td>\n",
       "      <td>28.70</td>\n",
       "      <td>2.35</td>\n",
       "      <td>8.07</td>\n",
       "      <td>69.0</td>\n",
       "      <td>26.17</td>\n",
       "      <td>44.53</td>\n",
       "    </tr>\n",
       "    <tr>\n",
       "      <th>2017-01-04</th>\n",
       "      <td>14.28</td>\n",
       "      <td>28.65</td>\n",
       "      <td>29.81</td>\n",
       "      <td>14.78</td>\n",
       "      <td>12.72</td>\n",
       "      <td>8.00</td>\n",
       "      <td>16.50</td>\n",
       "      <td>7.67</td>\n",
       "      <td>25.26</td>\n",
       "      <td>38.90</td>\n",
       "      <td>...</td>\n",
       "      <td>11.30</td>\n",
       "      <td>62.12</td>\n",
       "      <td>15.50</td>\n",
       "      <td>36.99</td>\n",
       "      <td>29.53</td>\n",
       "      <td>2.41</td>\n",
       "      <td>8.23</td>\n",
       "      <td>67.9</td>\n",
       "      <td>25.70</td>\n",
       "      <td>44.35</td>\n",
       "    </tr>\n",
       "    <tr>\n",
       "      <th>2017-01-05</th>\n",
       "      <td>14.51</td>\n",
       "      <td>28.58</td>\n",
       "      <td>30.14</td>\n",
       "      <td>15.52</td>\n",
       "      <td>13.01</td>\n",
       "      <td>8.05</td>\n",
       "      <td>16.47</td>\n",
       "      <td>7.55</td>\n",
       "      <td>25.21</td>\n",
       "      <td>38.83</td>\n",
       "      <td>...</td>\n",
       "      <td>11.35</td>\n",
       "      <td>62.38</td>\n",
       "      <td>15.75</td>\n",
       "      <td>36.43</td>\n",
       "      <td>29.61</td>\n",
       "      <td>2.50</td>\n",
       "      <td>8.33</td>\n",
       "      <td>68.3</td>\n",
       "      <td>26.68</td>\n",
       "      <td>43.60</td>\n",
       "    </tr>\n",
       "    <tr>\n",
       "      <th>2017-01-06</th>\n",
       "      <td>14.65</td>\n",
       "      <td>28.89</td>\n",
       "      <td>30.33</td>\n",
       "      <td>15.25</td>\n",
       "      <td>12.88</td>\n",
       "      <td>7.97</td>\n",
       "      <td>16.23</td>\n",
       "      <td>7.45</td>\n",
       "      <td>25.23</td>\n",
       "      <td>37.93</td>\n",
       "      <td>...</td>\n",
       "      <td>11.36</td>\n",
       "      <td>61.99</td>\n",
       "      <td>15.66</td>\n",
       "      <td>36.42</td>\n",
       "      <td>29.18</td>\n",
       "      <td>2.46</td>\n",
       "      <td>8.23</td>\n",
       "      <td>68.0</td>\n",
       "      <td>25.97</td>\n",
       "      <td>43.71</td>\n",
       "    </tr>\n",
       "  </tbody>\n",
       "</table>\n",
       "<p>5 rows × 40 columns</p>\n",
       "</div>"
      ],
      "text/plain": [
       "Ticker      ABCB4  BBAS3  BBDC4  BRAP4  BRML3  BRPR3  CCRO3  CMIG4  CPFE3  \\\n",
       "Day                                                                         \n",
       "2017-01-02  13.31  27.54  28.80  14.50  12.08   7.47  15.79   7.72  25.26   \n",
       "2017-01-03  13.88  28.80  30.00  15.11  12.74   7.67  16.39   7.89  25.32   \n",
       "2017-01-04  14.28  28.65  29.81  14.78  12.72   8.00  16.50   7.67  25.26   \n",
       "2017-01-05  14.51  28.58  30.14  15.52  13.01   8.05  16.47   7.55  25.21   \n",
       "2017-01-06  14.65  28.89  30.33  15.25  12.88   7.97  16.23   7.45  25.23   \n",
       "\n",
       "Ticker      CSAN3  ...  MRVE3  MULT3  PETR4  RENT3  SBSP3  TCSA3  TIMP3  \\\n",
       "Day                ...                                                    \n",
       "2017-01-02  37.15  ...  11.05  59.20  14.66  34.94  28.37   2.24   7.73   \n",
       "2017-01-03  38.88  ...  11.30  61.19  15.50  36.41  28.70   2.35   8.07   \n",
       "2017-01-04  38.90  ...  11.30  62.12  15.50  36.99  29.53   2.41   8.23   \n",
       "2017-01-05  38.83  ...  11.35  62.38  15.75  36.43  29.61   2.50   8.33   \n",
       "2017-01-06  37.93  ...  11.36  61.99  15.66  36.42  29.18   2.46   8.23   \n",
       "\n",
       "Ticker      UGPA3  VALE3  VIVT4  \n",
       "Day                              \n",
       "2017-01-02   67.9  25.06  44.08  \n",
       "2017-01-03   69.0  26.17  44.53  \n",
       "2017-01-04   67.9  25.70  44.35  \n",
       "2017-01-05   68.3  26.68  43.60  \n",
       "2017-01-06   68.0  25.97  43.71  \n",
       "\n",
       "[5 rows x 40 columns]"
      ]
     },
     "execution_count": 9,
     "metadata": {},
     "output_type": "execute_result"
    }
   ],
   "source": [
    "# sets each column as a stock and every row as a daily closing price\n",
    "df_validate = df_validate.pivot(columns='Ticker', values='Close')\n",
    "df_validate.head()"
   ]
  },
  {
   "cell_type": "code",
   "execution_count": 10,
   "metadata": {
    "colab": {
     "base_uri": "https://localhost:8080/",
     "height": 374
    },
    "colab_type": "code",
    "execution": {
     "iopub.execute_input": "2020-06-30T02:38:11.356Z",
     "iopub.status.busy": "2020-06-30T02:38:11.309Z",
     "iopub.status.idle": "2020-06-30T02:38:11.462Z",
     "shell.execute_reply": "2020-06-30T02:38:11.502Z"
    },
    "id": "SqCHORQ-ReKT",
    "outputId": "70c8c4ed-06d1-48f3-b86d-1e003c508570"
   },
   "outputs": [
    {
     "data": {
      "text/html": [
       "<div>\n",
       "<style scoped>\n",
       "    .dataframe tbody tr th:only-of-type {\n",
       "        vertical-align: middle;\n",
       "    }\n",
       "\n",
       "    .dataframe tbody tr th {\n",
       "        vertical-align: top;\n",
       "    }\n",
       "\n",
       "    .dataframe thead th {\n",
       "        text-align: right;\n",
       "    }\n",
       "</style>\n",
       "<table border=\"1\" class=\"dataframe\">\n",
       "  <thead>\n",
       "    <tr style=\"text-align: right;\">\n",
       "      <th>Ticker</th>\n",
       "      <th>ABCB4</th>\n",
       "      <th>BBAS3</th>\n",
       "      <th>BBDC4</th>\n",
       "      <th>BRAP4</th>\n",
       "      <th>BRML3</th>\n",
       "      <th>BRPR3</th>\n",
       "      <th>CCRO3</th>\n",
       "      <th>CMIG4</th>\n",
       "      <th>CPFE3</th>\n",
       "      <th>CSAN3</th>\n",
       "      <th>...</th>\n",
       "      <th>MRVE3</th>\n",
       "      <th>MULT3</th>\n",
       "      <th>PETR4</th>\n",
       "      <th>RENT3</th>\n",
       "      <th>SBSP3</th>\n",
       "      <th>TCSA3</th>\n",
       "      <th>TIMP3</th>\n",
       "      <th>UGPA3</th>\n",
       "      <th>VALE3</th>\n",
       "      <th>VIVT4</th>\n",
       "    </tr>\n",
       "    <tr>\n",
       "      <th>Day</th>\n",
       "      <th></th>\n",
       "      <th></th>\n",
       "      <th></th>\n",
       "      <th></th>\n",
       "      <th></th>\n",
       "      <th></th>\n",
       "      <th></th>\n",
       "      <th></th>\n",
       "      <th></th>\n",
       "      <th></th>\n",
       "      <th></th>\n",
       "      <th></th>\n",
       "      <th></th>\n",
       "      <th></th>\n",
       "      <th></th>\n",
       "      <th></th>\n",
       "      <th></th>\n",
       "      <th></th>\n",
       "      <th></th>\n",
       "      <th></th>\n",
       "      <th></th>\n",
       "    </tr>\n",
       "  </thead>\n",
       "  <tbody>\n",
       "    <tr>\n",
       "      <th>2013-01-02</th>\n",
       "      <td>14.15</td>\n",
       "      <td>25.80</td>\n",
       "      <td>36.02</td>\n",
       "      <td>34.23</td>\n",
       "      <td>27.75</td>\n",
       "      <td>25.80</td>\n",
       "      <td>19.05</td>\n",
       "      <td>23.00</td>\n",
       "      <td>22.16</td>\n",
       "      <td>42.50</td>\n",
       "      <td>...</td>\n",
       "      <td>11.65</td>\n",
       "      <td>59.99</td>\n",
       "      <td>19.69</td>\n",
       "      <td>38.55</td>\n",
       "      <td>86.83</td>\n",
       "      <td>8.22</td>\n",
       "      <td>8.05</td>\n",
       "      <td>45.80</td>\n",
       "      <td>44.10</td>\n",
       "      <td>49.62</td>\n",
       "    </tr>\n",
       "    <tr>\n",
       "      <th>2013-01-03</th>\n",
       "      <td>14.19</td>\n",
       "      <td>26.31</td>\n",
       "      <td>38.12</td>\n",
       "      <td>33.87</td>\n",
       "      <td>27.81</td>\n",
       "      <td>25.55</td>\n",
       "      <td>19.39</td>\n",
       "      <td>23.03</td>\n",
       "      <td>21.95</td>\n",
       "      <td>42.24</td>\n",
       "      <td>...</td>\n",
       "      <td>11.85</td>\n",
       "      <td>59.62</td>\n",
       "      <td>20.40</td>\n",
       "      <td>38.30</td>\n",
       "      <td>85.50</td>\n",
       "      <td>8.28</td>\n",
       "      <td>7.98</td>\n",
       "      <td>45.28</td>\n",
       "      <td>43.35</td>\n",
       "      <td>50.12</td>\n",
       "    </tr>\n",
       "    <tr>\n",
       "      <th>2013-01-04</th>\n",
       "      <td>13.99</td>\n",
       "      <td>26.00</td>\n",
       "      <td>37.45</td>\n",
       "      <td>33.20</td>\n",
       "      <td>27.65</td>\n",
       "      <td>25.79</td>\n",
       "      <td>19.88</td>\n",
       "      <td>21.92</td>\n",
       "      <td>21.29</td>\n",
       "      <td>42.11</td>\n",
       "      <td>...</td>\n",
       "      <td>11.64</td>\n",
       "      <td>59.92</td>\n",
       "      <td>20.48</td>\n",
       "      <td>38.40</td>\n",
       "      <td>85.88</td>\n",
       "      <td>8.17</td>\n",
       "      <td>7.98</td>\n",
       "      <td>46.70</td>\n",
       "      <td>42.53</td>\n",
       "      <td>50.19</td>\n",
       "    </tr>\n",
       "    <tr>\n",
       "      <th>2013-01-07</th>\n",
       "      <td>14.10</td>\n",
       "      <td>26.15</td>\n",
       "      <td>37.29</td>\n",
       "      <td>32.00</td>\n",
       "      <td>27.41</td>\n",
       "      <td>25.70</td>\n",
       "      <td>19.71</td>\n",
       "      <td>21.19</td>\n",
       "      <td>20.59</td>\n",
       "      <td>42.30</td>\n",
       "      <td>...</td>\n",
       "      <td>11.41</td>\n",
       "      <td>59.00</td>\n",
       "      <td>20.08</td>\n",
       "      <td>37.59</td>\n",
       "      <td>86.20</td>\n",
       "      <td>8.10</td>\n",
       "      <td>7.90</td>\n",
       "      <td>47.00</td>\n",
       "      <td>41.84</td>\n",
       "      <td>50.20</td>\n",
       "    </tr>\n",
       "    <tr>\n",
       "      <th>2013-01-08</th>\n",
       "      <td>14.25</td>\n",
       "      <td>26.45</td>\n",
       "      <td>37.42</td>\n",
       "      <td>32.00</td>\n",
       "      <td>27.15</td>\n",
       "      <td>25.75</td>\n",
       "      <td>19.70</td>\n",
       "      <td>20.61</td>\n",
       "      <td>20.15</td>\n",
       "      <td>42.75</td>\n",
       "      <td>...</td>\n",
       "      <td>11.15</td>\n",
       "      <td>59.00</td>\n",
       "      <td>19.50</td>\n",
       "      <td>37.60</td>\n",
       "      <td>85.00</td>\n",
       "      <td>8.00</td>\n",
       "      <td>7.90</td>\n",
       "      <td>47.20</td>\n",
       "      <td>41.51</td>\n",
       "      <td>50.40</td>\n",
       "    </tr>\n",
       "  </tbody>\n",
       "</table>\n",
       "<p>5 rows × 40 columns</p>\n",
       "</div>"
      ],
      "text/plain": [
       "Ticker      ABCB4  BBAS3  BBDC4  BRAP4  BRML3  BRPR3  CCRO3  CMIG4  CPFE3  \\\n",
       "Day                                                                         \n",
       "2013-01-02  14.15  25.80  36.02  34.23  27.75  25.80  19.05  23.00  22.16   \n",
       "2013-01-03  14.19  26.31  38.12  33.87  27.81  25.55  19.39  23.03  21.95   \n",
       "2013-01-04  13.99  26.00  37.45  33.20  27.65  25.79  19.88  21.92  21.29   \n",
       "2013-01-07  14.10  26.15  37.29  32.00  27.41  25.70  19.71  21.19  20.59   \n",
       "2013-01-08  14.25  26.45  37.42  32.00  27.15  25.75  19.70  20.61  20.15   \n",
       "\n",
       "Ticker      CSAN3  ...  MRVE3  MULT3  PETR4  RENT3  SBSP3  TCSA3  TIMP3  \\\n",
       "Day                ...                                                    \n",
       "2013-01-02  42.50  ...  11.65  59.99  19.69  38.55  86.83   8.22   8.05   \n",
       "2013-01-03  42.24  ...  11.85  59.62  20.40  38.30  85.50   8.28   7.98   \n",
       "2013-01-04  42.11  ...  11.64  59.92  20.48  38.40  85.88   8.17   7.98   \n",
       "2013-01-07  42.30  ...  11.41  59.00  20.08  37.59  86.20   8.10   7.90   \n",
       "2013-01-08  42.75  ...  11.15  59.00  19.50  37.60  85.00   8.00   7.90   \n",
       "\n",
       "Ticker      UGPA3  VALE3  VIVT4  \n",
       "Day                              \n",
       "2013-01-02  45.80  44.10  49.62  \n",
       "2013-01-03  45.28  43.35  50.12  \n",
       "2013-01-04  46.70  42.53  50.19  \n",
       "2013-01-07  47.00  41.84  50.20  \n",
       "2013-01-08  47.20  41.51  50.40  \n",
       "\n",
       "[5 rows x 40 columns]"
      ]
     },
     "execution_count": 10,
     "metadata": {},
     "output_type": "execute_result"
    }
   ],
   "source": [
    "#creates a DataFrame for each time-series (see In [11])\n",
    "df_train_close = df_train.pivot(columns='Ticker', values='Close')\n",
    "\n",
    "#makes a copy of the traning dataset\n",
    "df_train_close_copy = df_train_close.copy()\n",
    "\n",
    "df_train_close.head()"
   ]
  },
  {
   "cell_type": "code",
   "execution_count": 11,
   "metadata": {
    "execution": {
     "iopub.execute_input": "2020-06-30T02:38:16.757Z",
     "iopub.status.busy": "2020-06-30T02:38:16.695Z",
     "iopub.status.idle": "2020-06-30T02:38:16.873Z",
     "shell.execute_reply": "2020-06-30T02:38:16.932Z"
    }
   },
   "outputs": [
    {
     "data": {
      "text/plain": [
       "Ticker\n",
       "ABCB4    0\n",
       "BBAS3    0\n",
       "BBDC4    0\n",
       "BRAP4    0\n",
       "BRML3    0\n",
       "BRPR3    0\n",
       "CCRO3    0\n",
       "CMIG4    0\n",
       "CPFE3    0\n",
       "CSAN3    0\n",
       "CSNA3    0\n",
       "CYRE3    0\n",
       "DTEX3    0\n",
       "ECOR3    0\n",
       "ELET3    0\n",
       "ENBR3    0\n",
       "EQTL3    0\n",
       "EVEN3    0\n",
       "EZTC3    0\n",
       "GFSA3    0\n",
       "GGBR4    0\n",
       "GOAU4    0\n",
       "GOLL4    0\n",
       "HYPE3    0\n",
       "IGTA3    0\n",
       "ITSA4    0\n",
       "ITUB4    0\n",
       "LAME4    0\n",
       "LIGT3    0\n",
       "LREN3    0\n",
       "MRVE3    0\n",
       "MULT3    0\n",
       "PETR4    0\n",
       "RENT3    0\n",
       "SBSP3    0\n",
       "TCSA3    0\n",
       "TIMP3    0\n",
       "UGPA3    0\n",
       "VALE3    0\n",
       "VIVT4    0\n",
       "dtype: int64"
      ]
     },
     "execution_count": 11,
     "metadata": {},
     "output_type": "execute_result"
    }
   ],
   "source": [
    "df_train_close.isnull().sum()"
   ]
  },
  {
   "cell_type": "code",
   "execution_count": 12,
   "metadata": {
    "execution": {
     "iopub.execute_input": "2020-06-30T02:38:25.995Z",
     "iopub.status.busy": "2020-06-30T02:38:25.960Z",
     "iopub.status.idle": "2020-06-30T02:38:26.054Z",
     "shell.execute_reply": "2020-06-30T02:38:26.089Z"
    }
   },
   "outputs": [],
   "source": [
    "#idx = df_train_close.loc[df_train_close[\"RAPT4\"].isnull()].index\n",
    "#df_train_close.loc[idx].\n",
    "df_train_close.fillna(value=0, inplace=True)\n",
    "df_train_close_copy.fillna(value=0, inplace=True)\n",
    "df_validate.fillna(value=0, inplace=True)"
   ]
  },
  {
   "cell_type": "code",
   "execution_count": 13,
   "metadata": {
    "execution": {
     "iopub.execute_input": "2020-06-30T02:38:29.158Z",
     "iopub.status.busy": "2020-06-30T02:38:29.132Z",
     "iopub.status.idle": "2020-06-30T02:38:29.208Z",
     "shell.execute_reply": "2020-06-30T02:38:29.233Z"
    }
   },
   "outputs": [
    {
     "name": "stdout",
     "output_type": "stream",
     "text": [
      "(841, 40)\n",
      "(991, 40)\n"
     ]
    }
   ],
   "source": [
    "print(df_validate.shape)\n",
    "print(df_train_close.shape)"
   ]
  },
  {
   "cell_type": "code",
   "execution_count": 14,
   "metadata": {
    "execution": {
     "iopub.execute_input": "2020-06-30T02:38:33.104Z",
     "iopub.status.busy": "2020-06-30T02:38:33.080Z",
     "iopub.status.idle": "2020-06-30T02:38:33.165Z",
     "shell.execute_reply": "2020-06-30T02:38:33.259Z"
    }
   },
   "outputs": [
    {
     "data": {
      "text/html": [
       "<div>\n",
       "<style scoped>\n",
       "    .dataframe tbody tr th:only-of-type {\n",
       "        vertical-align: middle;\n",
       "    }\n",
       "\n",
       "    .dataframe tbody tr th {\n",
       "        vertical-align: top;\n",
       "    }\n",
       "\n",
       "    .dataframe thead th {\n",
       "        text-align: right;\n",
       "    }\n",
       "</style>\n",
       "<table border=\"1\" class=\"dataframe\">\n",
       "  <thead>\n",
       "    <tr style=\"text-align: right;\">\n",
       "      <th>Ticker</th>\n",
       "      <th>ABCB4</th>\n",
       "      <th>BBAS3</th>\n",
       "      <th>BBDC4</th>\n",
       "      <th>BRAP4</th>\n",
       "      <th>BRML3</th>\n",
       "      <th>BRPR3</th>\n",
       "      <th>CCRO3</th>\n",
       "      <th>CMIG4</th>\n",
       "      <th>CPFE3</th>\n",
       "      <th>CSAN3</th>\n",
       "      <th>...</th>\n",
       "      <th>MRVE3</th>\n",
       "      <th>MULT3</th>\n",
       "      <th>PETR4</th>\n",
       "      <th>RENT3</th>\n",
       "      <th>SBSP3</th>\n",
       "      <th>TCSA3</th>\n",
       "      <th>TIMP3</th>\n",
       "      <th>UGPA3</th>\n",
       "      <th>VALE3</th>\n",
       "      <th>VIVT4</th>\n",
       "    </tr>\n",
       "    <tr>\n",
       "      <th>Day</th>\n",
       "      <th></th>\n",
       "      <th></th>\n",
       "      <th></th>\n",
       "      <th></th>\n",
       "      <th></th>\n",
       "      <th></th>\n",
       "      <th></th>\n",
       "      <th></th>\n",
       "      <th></th>\n",
       "      <th></th>\n",
       "      <th></th>\n",
       "      <th></th>\n",
       "      <th></th>\n",
       "      <th></th>\n",
       "      <th></th>\n",
       "      <th></th>\n",
       "      <th></th>\n",
       "      <th></th>\n",
       "      <th></th>\n",
       "      <th></th>\n",
       "      <th></th>\n",
       "    </tr>\n",
       "  </thead>\n",
       "  <tbody>\n",
       "    <tr>\n",
       "      <th>2013-01-02</th>\n",
       "      <td>NaN</td>\n",
       "      <td>NaN</td>\n",
       "      <td>NaN</td>\n",
       "      <td>NaN</td>\n",
       "      <td>NaN</td>\n",
       "      <td>NaN</td>\n",
       "      <td>NaN</td>\n",
       "      <td>NaN</td>\n",
       "      <td>NaN</td>\n",
       "      <td>NaN</td>\n",
       "      <td>...</td>\n",
       "      <td>NaN</td>\n",
       "      <td>NaN</td>\n",
       "      <td>NaN</td>\n",
       "      <td>NaN</td>\n",
       "      <td>NaN</td>\n",
       "      <td>NaN</td>\n",
       "      <td>NaN</td>\n",
       "      <td>NaN</td>\n",
       "      <td>NaN</td>\n",
       "      <td>NaN</td>\n",
       "    </tr>\n",
       "    <tr>\n",
       "      <th>2013-01-03</th>\n",
       "      <td>0.002823</td>\n",
       "      <td>0.019575</td>\n",
       "      <td>0.056665</td>\n",
       "      <td>-0.010573</td>\n",
       "      <td>0.002160</td>\n",
       "      <td>-0.009737</td>\n",
       "      <td>0.017690</td>\n",
       "      <td>0.001303</td>\n",
       "      <td>-0.009522</td>\n",
       "      <td>-0.006136</td>\n",
       "      <td>...</td>\n",
       "      <td>0.017022</td>\n",
       "      <td>-0.006187</td>\n",
       "      <td>0.035424</td>\n",
       "      <td>-0.006506</td>\n",
       "      <td>-0.015436</td>\n",
       "      <td>0.007273</td>\n",
       "      <td>-0.008734</td>\n",
       "      <td>-0.011419</td>\n",
       "      <td>-0.017153</td>\n",
       "      <td>0.010026</td>\n",
       "    </tr>\n",
       "    <tr>\n",
       "      <th>2013-01-04</th>\n",
       "      <td>-0.014195</td>\n",
       "      <td>-0.011853</td>\n",
       "      <td>-0.017732</td>\n",
       "      <td>-0.019980</td>\n",
       "      <td>-0.005770</td>\n",
       "      <td>0.009350</td>\n",
       "      <td>0.024957</td>\n",
       "      <td>-0.049398</td>\n",
       "      <td>-0.030530</td>\n",
       "      <td>-0.003082</td>\n",
       "      <td>...</td>\n",
       "      <td>-0.017880</td>\n",
       "      <td>0.005019</td>\n",
       "      <td>0.003914</td>\n",
       "      <td>0.002608</td>\n",
       "      <td>0.004435</td>\n",
       "      <td>-0.013374</td>\n",
       "      <td>0.000000</td>\n",
       "      <td>0.030879</td>\n",
       "      <td>-0.019097</td>\n",
       "      <td>0.001396</td>\n",
       "    </tr>\n",
       "    <tr>\n",
       "      <th>2013-01-07</th>\n",
       "      <td>0.007832</td>\n",
       "      <td>0.005753</td>\n",
       "      <td>-0.004282</td>\n",
       "      <td>-0.036814</td>\n",
       "      <td>-0.008718</td>\n",
       "      <td>-0.003496</td>\n",
       "      <td>-0.008588</td>\n",
       "      <td>-0.033870</td>\n",
       "      <td>-0.033432</td>\n",
       "      <td>0.004502</td>\n",
       "      <td>...</td>\n",
       "      <td>-0.019957</td>\n",
       "      <td>-0.015473</td>\n",
       "      <td>-0.019725</td>\n",
       "      <td>-0.021319</td>\n",
       "      <td>0.003719</td>\n",
       "      <td>-0.008605</td>\n",
       "      <td>-0.010076</td>\n",
       "      <td>0.006403</td>\n",
       "      <td>-0.016357</td>\n",
       "      <td>0.000199</td>\n",
       "    </tr>\n",
       "    <tr>\n",
       "      <th>2013-01-08</th>\n",
       "      <td>0.010582</td>\n",
       "      <td>0.011407</td>\n",
       "      <td>0.003480</td>\n",
       "      <td>0.000000</td>\n",
       "      <td>-0.009531</td>\n",
       "      <td>0.001944</td>\n",
       "      <td>-0.000507</td>\n",
       "      <td>-0.027753</td>\n",
       "      <td>-0.021601</td>\n",
       "      <td>0.010582</td>\n",
       "      <td>...</td>\n",
       "      <td>-0.023051</td>\n",
       "      <td>0.000000</td>\n",
       "      <td>-0.029310</td>\n",
       "      <td>0.000266</td>\n",
       "      <td>-0.014019</td>\n",
       "      <td>-0.012423</td>\n",
       "      <td>0.000000</td>\n",
       "      <td>0.004246</td>\n",
       "      <td>-0.007918</td>\n",
       "      <td>0.003976</td>\n",
       "    </tr>\n",
       "    <tr>\n",
       "      <th>...</th>\n",
       "      <td>...</td>\n",
       "      <td>...</td>\n",
       "      <td>...</td>\n",
       "      <td>...</td>\n",
       "      <td>...</td>\n",
       "      <td>...</td>\n",
       "      <td>...</td>\n",
       "      <td>...</td>\n",
       "      <td>...</td>\n",
       "      <td>...</td>\n",
       "      <td>...</td>\n",
       "      <td>...</td>\n",
       "      <td>...</td>\n",
       "      <td>...</td>\n",
       "      <td>...</td>\n",
       "      <td>...</td>\n",
       "      <td>...</td>\n",
       "      <td>...</td>\n",
       "      <td>...</td>\n",
       "      <td>...</td>\n",
       "      <td>...</td>\n",
       "    </tr>\n",
       "    <tr>\n",
       "      <th>2016-12-23</th>\n",
       "      <td>0.020370</td>\n",
       "      <td>0.028064</td>\n",
       "      <td>0.020718</td>\n",
       "      <td>0.000000</td>\n",
       "      <td>0.021883</td>\n",
       "      <td>0.013210</td>\n",
       "      <td>-0.002613</td>\n",
       "      <td>0.014736</td>\n",
       "      <td>0.000398</td>\n",
       "      <td>-0.006215</td>\n",
       "      <td>...</td>\n",
       "      <td>-0.000931</td>\n",
       "      <td>0.008906</td>\n",
       "      <td>0.016284</td>\n",
       "      <td>0.019026</td>\n",
       "      <td>0.002921</td>\n",
       "      <td>0.041385</td>\n",
       "      <td>-0.001313</td>\n",
       "      <td>-0.001213</td>\n",
       "      <td>-0.007514</td>\n",
       "      <td>-0.006065</td>\n",
       "    </tr>\n",
       "    <tr>\n",
       "      <th>2016-12-26</th>\n",
       "      <td>0.002983</td>\n",
       "      <td>0.015585</td>\n",
       "      <td>0.018143</td>\n",
       "      <td>0.036343</td>\n",
       "      <td>0.010336</td>\n",
       "      <td>0.013038</td>\n",
       "      <td>0.008466</td>\n",
       "      <td>-0.016086</td>\n",
       "      <td>-0.001990</td>\n",
       "      <td>-0.010628</td>\n",
       "      <td>...</td>\n",
       "      <td>0.007421</td>\n",
       "      <td>-0.000174</td>\n",
       "      <td>0.012561</td>\n",
       "      <td>-0.014603</td>\n",
       "      <td>0.019495</td>\n",
       "      <td>0.004494</td>\n",
       "      <td>0.003934</td>\n",
       "      <td>0.001516</td>\n",
       "      <td>0.031265</td>\n",
       "      <td>0.005832</td>\n",
       "    </tr>\n",
       "    <tr>\n",
       "      <th>2016-12-27</th>\n",
       "      <td>0.022092</td>\n",
       "      <td>0.006971</td>\n",
       "      <td>-0.009756</td>\n",
       "      <td>-0.008793</td>\n",
       "      <td>0.015306</td>\n",
       "      <td>-0.022267</td>\n",
       "      <td>-0.007813</td>\n",
       "      <td>-0.002706</td>\n",
       "      <td>0.000796</td>\n",
       "      <td>-0.021881</td>\n",
       "      <td>...</td>\n",
       "      <td>-0.000925</td>\n",
       "      <td>0.002431</td>\n",
       "      <td>-0.000694</td>\n",
       "      <td>-0.003832</td>\n",
       "      <td>-0.014767</td>\n",
       "      <td>0.008929</td>\n",
       "      <td>-0.001310</td>\n",
       "      <td>0.005440</td>\n",
       "      <td>-0.005014</td>\n",
       "      <td>0.000233</td>\n",
       "    </tr>\n",
       "    <tr>\n",
       "      <th>2016-12-28</th>\n",
       "      <td>0.017329</td>\n",
       "      <td>0.012355</td>\n",
       "      <td>0.035317</td>\n",
       "      <td>0.030772</td>\n",
       "      <td>-0.008475</td>\n",
       "      <td>-0.011992</td>\n",
       "      <td>0.008461</td>\n",
       "      <td>0.017462</td>\n",
       "      <td>-0.000398</td>\n",
       "      <td>0.055820</td>\n",
       "      <td>...</td>\n",
       "      <td>0.012868</td>\n",
       "      <td>0.015491</td>\n",
       "      <td>0.025353</td>\n",
       "      <td>-0.022701</td>\n",
       "      <td>0.017980</td>\n",
       "      <td>-0.013423</td>\n",
       "      <td>0.015605</td>\n",
       "      <td>0.013174</td>\n",
       "      <td>0.031217</td>\n",
       "      <td>0.008107</td>\n",
       "    </tr>\n",
       "    <tr>\n",
       "      <th>2016-12-29</th>\n",
       "      <td>-0.002867</td>\n",
       "      <td>0.014342</td>\n",
       "      <td>0.016340</td>\n",
       "      <td>-0.021979</td>\n",
       "      <td>0.016878</td>\n",
       "      <td>0.005348</td>\n",
       "      <td>0.033772</td>\n",
       "      <td>0.026283</td>\n",
       "      <td>0.003975</td>\n",
       "      <td>0.010275</td>\n",
       "      <td>...</td>\n",
       "      <td>-0.000914</td>\n",
       "      <td>0.014076</td>\n",
       "      <td>0.006071</td>\n",
       "      <td>0.033277</td>\n",
       "      <td>0.025683</td>\n",
       "      <td>-0.027399</td>\n",
       "      <td>0.010270</td>\n",
       "      <td>0.017835</td>\n",
       "      <td>-0.038202</td>\n",
       "      <td>0.016699</td>\n",
       "    </tr>\n",
       "  </tbody>\n",
       "</table>\n",
       "<p>991 rows × 40 columns</p>\n",
       "</div>"
      ],
      "text/plain": [
       "Ticker         ABCB4     BBAS3     BBDC4     BRAP4     BRML3     BRPR3  \\\n",
       "Day                                                                      \n",
       "2013-01-02       NaN       NaN       NaN       NaN       NaN       NaN   \n",
       "2013-01-03  0.002823  0.019575  0.056665 -0.010573  0.002160 -0.009737   \n",
       "2013-01-04 -0.014195 -0.011853 -0.017732 -0.019980 -0.005770  0.009350   \n",
       "2013-01-07  0.007832  0.005753 -0.004282 -0.036814 -0.008718 -0.003496   \n",
       "2013-01-08  0.010582  0.011407  0.003480  0.000000 -0.009531  0.001944   \n",
       "...              ...       ...       ...       ...       ...       ...   \n",
       "2016-12-23  0.020370  0.028064  0.020718  0.000000  0.021883  0.013210   \n",
       "2016-12-26  0.002983  0.015585  0.018143  0.036343  0.010336  0.013038   \n",
       "2016-12-27  0.022092  0.006971 -0.009756 -0.008793  0.015306 -0.022267   \n",
       "2016-12-28  0.017329  0.012355  0.035317  0.030772 -0.008475 -0.011992   \n",
       "2016-12-29 -0.002867  0.014342  0.016340 -0.021979  0.016878  0.005348   \n",
       "\n",
       "Ticker         CCRO3     CMIG4     CPFE3     CSAN3  ...     MRVE3     MULT3  \\\n",
       "Day                                                 ...                       \n",
       "2013-01-02       NaN       NaN       NaN       NaN  ...       NaN       NaN   \n",
       "2013-01-03  0.017690  0.001303 -0.009522 -0.006136  ...  0.017022 -0.006187   \n",
       "2013-01-04  0.024957 -0.049398 -0.030530 -0.003082  ... -0.017880  0.005019   \n",
       "2013-01-07 -0.008588 -0.033870 -0.033432  0.004502  ... -0.019957 -0.015473   \n",
       "2013-01-08 -0.000507 -0.027753 -0.021601  0.010582  ... -0.023051  0.000000   \n",
       "...              ...       ...       ...       ...  ...       ...       ...   \n",
       "2016-12-23 -0.002613  0.014736  0.000398 -0.006215  ... -0.000931  0.008906   \n",
       "2016-12-26  0.008466 -0.016086 -0.001990 -0.010628  ...  0.007421 -0.000174   \n",
       "2016-12-27 -0.007813 -0.002706  0.000796 -0.021881  ... -0.000925  0.002431   \n",
       "2016-12-28  0.008461  0.017462 -0.000398  0.055820  ...  0.012868  0.015491   \n",
       "2016-12-29  0.033772  0.026283  0.003975  0.010275  ... -0.000914  0.014076   \n",
       "\n",
       "Ticker         PETR4     RENT3     SBSP3     TCSA3     TIMP3     UGPA3  \\\n",
       "Day                                                                      \n",
       "2013-01-02       NaN       NaN       NaN       NaN       NaN       NaN   \n",
       "2013-01-03  0.035424 -0.006506 -0.015436  0.007273 -0.008734 -0.011419   \n",
       "2013-01-04  0.003914  0.002608  0.004435 -0.013374  0.000000  0.030879   \n",
       "2013-01-07 -0.019725 -0.021319  0.003719 -0.008605 -0.010076  0.006403   \n",
       "2013-01-08 -0.029310  0.000266 -0.014019 -0.012423  0.000000  0.004246   \n",
       "...              ...       ...       ...       ...       ...       ...   \n",
       "2016-12-23  0.016284  0.019026  0.002921  0.041385 -0.001313 -0.001213   \n",
       "2016-12-26  0.012561 -0.014603  0.019495  0.004494  0.003934  0.001516   \n",
       "2016-12-27 -0.000694 -0.003832 -0.014767  0.008929 -0.001310  0.005440   \n",
       "2016-12-28  0.025353 -0.022701  0.017980 -0.013423  0.015605  0.013174   \n",
       "2016-12-29  0.006071  0.033277  0.025683 -0.027399  0.010270  0.017835   \n",
       "\n",
       "Ticker         VALE3     VIVT4  \n",
       "Day                             \n",
       "2013-01-02       NaN       NaN  \n",
       "2013-01-03 -0.017153  0.010026  \n",
       "2013-01-04 -0.019097  0.001396  \n",
       "2013-01-07 -0.016357  0.000199  \n",
       "2013-01-08 -0.007918  0.003976  \n",
       "...              ...       ...  \n",
       "2016-12-23 -0.007514 -0.006065  \n",
       "2016-12-26  0.031265  0.005832  \n",
       "2016-12-27 -0.005014  0.000233  \n",
       "2016-12-28  0.031217  0.008107  \n",
       "2016-12-29 -0.038202  0.016699  \n",
       "\n",
       "[991 rows x 40 columns]"
      ]
     },
     "execution_count": 14,
     "metadata": {},
     "output_type": "execute_result"
    }
   ],
   "source": [
    "# Log-returns\n",
    "df_train_close.apply(np.log).diff()"
   ]
  },
  {
   "cell_type": "code",
   "execution_count": 15,
   "metadata": {
    "execution": {
     "iopub.execute_input": "2020-06-30T02:38:36.277Z",
     "iopub.status.busy": "2020-06-30T02:38:36.250Z",
     "iopub.status.idle": "2020-06-30T02:38:36.338Z",
     "shell.execute_reply": "2020-06-30T02:38:36.373Z"
    }
   },
   "outputs": [
    {
     "data": {
      "text/html": [
       "<div>\n",
       "<style scoped>\n",
       "    .dataframe tbody tr th:only-of-type {\n",
       "        vertical-align: middle;\n",
       "    }\n",
       "\n",
       "    .dataframe tbody tr th {\n",
       "        vertical-align: top;\n",
       "    }\n",
       "\n",
       "    .dataframe thead th {\n",
       "        text-align: right;\n",
       "    }\n",
       "</style>\n",
       "<table border=\"1\" class=\"dataframe\">\n",
       "  <thead>\n",
       "    <tr style=\"text-align: right;\">\n",
       "      <th>Ticker</th>\n",
       "      <th>ABCB4</th>\n",
       "      <th>BBAS3</th>\n",
       "      <th>BBDC4</th>\n",
       "      <th>BRAP4</th>\n",
       "      <th>BRML3</th>\n",
       "      <th>BRPR3</th>\n",
       "      <th>CCRO3</th>\n",
       "      <th>CMIG4</th>\n",
       "      <th>CPFE3</th>\n",
       "      <th>CSAN3</th>\n",
       "      <th>...</th>\n",
       "      <th>MRVE3</th>\n",
       "      <th>MULT3</th>\n",
       "      <th>PETR4</th>\n",
       "      <th>RENT3</th>\n",
       "      <th>SBSP3</th>\n",
       "      <th>TCSA3</th>\n",
       "      <th>TIMP3</th>\n",
       "      <th>UGPA3</th>\n",
       "      <th>VALE3</th>\n",
       "      <th>VIVT4</th>\n",
       "    </tr>\n",
       "    <tr>\n",
       "      <th>Day</th>\n",
       "      <th></th>\n",
       "      <th></th>\n",
       "      <th></th>\n",
       "      <th></th>\n",
       "      <th></th>\n",
       "      <th></th>\n",
       "      <th></th>\n",
       "      <th></th>\n",
       "      <th></th>\n",
       "      <th></th>\n",
       "      <th></th>\n",
       "      <th></th>\n",
       "      <th></th>\n",
       "      <th></th>\n",
       "      <th></th>\n",
       "      <th></th>\n",
       "      <th></th>\n",
       "      <th></th>\n",
       "      <th></th>\n",
       "      <th></th>\n",
       "      <th></th>\n",
       "    </tr>\n",
       "  </thead>\n",
       "  <tbody>\n",
       "    <tr>\n",
       "      <th>2013-01-03</th>\n",
       "      <td>0.002823</td>\n",
       "      <td>0.019575</td>\n",
       "      <td>0.056665</td>\n",
       "      <td>-0.010573</td>\n",
       "      <td>0.002160</td>\n",
       "      <td>-0.009737</td>\n",
       "      <td>0.017690</td>\n",
       "      <td>0.001303</td>\n",
       "      <td>-0.009522</td>\n",
       "      <td>-0.006136</td>\n",
       "      <td>...</td>\n",
       "      <td>0.017022</td>\n",
       "      <td>-0.006187</td>\n",
       "      <td>0.035424</td>\n",
       "      <td>-0.006506</td>\n",
       "      <td>-0.015436</td>\n",
       "      <td>0.007273</td>\n",
       "      <td>-0.008734</td>\n",
       "      <td>-0.011419</td>\n",
       "      <td>-0.017153</td>\n",
       "      <td>0.010026</td>\n",
       "    </tr>\n",
       "    <tr>\n",
       "      <th>2013-01-04</th>\n",
       "      <td>-0.014195</td>\n",
       "      <td>-0.011853</td>\n",
       "      <td>-0.017732</td>\n",
       "      <td>-0.019980</td>\n",
       "      <td>-0.005770</td>\n",
       "      <td>0.009350</td>\n",
       "      <td>0.024957</td>\n",
       "      <td>-0.049398</td>\n",
       "      <td>-0.030530</td>\n",
       "      <td>-0.003082</td>\n",
       "      <td>...</td>\n",
       "      <td>-0.017880</td>\n",
       "      <td>0.005019</td>\n",
       "      <td>0.003914</td>\n",
       "      <td>0.002608</td>\n",
       "      <td>0.004435</td>\n",
       "      <td>-0.013374</td>\n",
       "      <td>0.000000</td>\n",
       "      <td>0.030879</td>\n",
       "      <td>-0.019097</td>\n",
       "      <td>0.001396</td>\n",
       "    </tr>\n",
       "    <tr>\n",
       "      <th>2013-01-07</th>\n",
       "      <td>0.007832</td>\n",
       "      <td>0.005753</td>\n",
       "      <td>-0.004282</td>\n",
       "      <td>-0.036814</td>\n",
       "      <td>-0.008718</td>\n",
       "      <td>-0.003496</td>\n",
       "      <td>-0.008588</td>\n",
       "      <td>-0.033870</td>\n",
       "      <td>-0.033432</td>\n",
       "      <td>0.004502</td>\n",
       "      <td>...</td>\n",
       "      <td>-0.019957</td>\n",
       "      <td>-0.015473</td>\n",
       "      <td>-0.019725</td>\n",
       "      <td>-0.021319</td>\n",
       "      <td>0.003719</td>\n",
       "      <td>-0.008605</td>\n",
       "      <td>-0.010076</td>\n",
       "      <td>0.006403</td>\n",
       "      <td>-0.016357</td>\n",
       "      <td>0.000199</td>\n",
       "    </tr>\n",
       "    <tr>\n",
       "      <th>2013-01-08</th>\n",
       "      <td>0.010582</td>\n",
       "      <td>0.011407</td>\n",
       "      <td>0.003480</td>\n",
       "      <td>0.000000</td>\n",
       "      <td>-0.009531</td>\n",
       "      <td>0.001944</td>\n",
       "      <td>-0.000507</td>\n",
       "      <td>-0.027753</td>\n",
       "      <td>-0.021601</td>\n",
       "      <td>0.010582</td>\n",
       "      <td>...</td>\n",
       "      <td>-0.023051</td>\n",
       "      <td>0.000000</td>\n",
       "      <td>-0.029310</td>\n",
       "      <td>0.000266</td>\n",
       "      <td>-0.014019</td>\n",
       "      <td>-0.012423</td>\n",
       "      <td>0.000000</td>\n",
       "      <td>0.004246</td>\n",
       "      <td>-0.007918</td>\n",
       "      <td>0.003976</td>\n",
       "    </tr>\n",
       "    <tr>\n",
       "      <th>2013-01-09</th>\n",
       "      <td>-0.010582</td>\n",
       "      <td>0.009407</td>\n",
       "      <td>0.012746</td>\n",
       "      <td>-0.001564</td>\n",
       "      <td>0.010989</td>\n",
       "      <td>0.023034</td>\n",
       "      <td>0.001522</td>\n",
       "      <td>0.054297</td>\n",
       "      <td>0.022087</td>\n",
       "      <td>0.002103</td>\n",
       "      <td>...</td>\n",
       "      <td>0.014248</td>\n",
       "      <td>0.005072</td>\n",
       "      <td>0.009188</td>\n",
       "      <td>-0.014736</td>\n",
       "      <td>0.005748</td>\n",
       "      <td>0.000000</td>\n",
       "      <td>-0.011458</td>\n",
       "      <td>-0.002121</td>\n",
       "      <td>0.004567</td>\n",
       "      <td>-0.007968</td>\n",
       "    </tr>\n",
       "  </tbody>\n",
       "</table>\n",
       "<p>5 rows × 40 columns</p>\n",
       "</div>"
      ],
      "text/plain": [
       "Ticker         ABCB4     BBAS3     BBDC4     BRAP4     BRML3     BRPR3  \\\n",
       "Day                                                                      \n",
       "2013-01-03  0.002823  0.019575  0.056665 -0.010573  0.002160 -0.009737   \n",
       "2013-01-04 -0.014195 -0.011853 -0.017732 -0.019980 -0.005770  0.009350   \n",
       "2013-01-07  0.007832  0.005753 -0.004282 -0.036814 -0.008718 -0.003496   \n",
       "2013-01-08  0.010582  0.011407  0.003480  0.000000 -0.009531  0.001944   \n",
       "2013-01-09 -0.010582  0.009407  0.012746 -0.001564  0.010989  0.023034   \n",
       "\n",
       "Ticker         CCRO3     CMIG4     CPFE3     CSAN3  ...     MRVE3     MULT3  \\\n",
       "Day                                                 ...                       \n",
       "2013-01-03  0.017690  0.001303 -0.009522 -0.006136  ...  0.017022 -0.006187   \n",
       "2013-01-04  0.024957 -0.049398 -0.030530 -0.003082  ... -0.017880  0.005019   \n",
       "2013-01-07 -0.008588 -0.033870 -0.033432  0.004502  ... -0.019957 -0.015473   \n",
       "2013-01-08 -0.000507 -0.027753 -0.021601  0.010582  ... -0.023051  0.000000   \n",
       "2013-01-09  0.001522  0.054297  0.022087  0.002103  ...  0.014248  0.005072   \n",
       "\n",
       "Ticker         PETR4     RENT3     SBSP3     TCSA3     TIMP3     UGPA3  \\\n",
       "Day                                                                      \n",
       "2013-01-03  0.035424 -0.006506 -0.015436  0.007273 -0.008734 -0.011419   \n",
       "2013-01-04  0.003914  0.002608  0.004435 -0.013374  0.000000  0.030879   \n",
       "2013-01-07 -0.019725 -0.021319  0.003719 -0.008605 -0.010076  0.006403   \n",
       "2013-01-08 -0.029310  0.000266 -0.014019 -0.012423  0.000000  0.004246   \n",
       "2013-01-09  0.009188 -0.014736  0.005748  0.000000 -0.011458 -0.002121   \n",
       "\n",
       "Ticker         VALE3     VIVT4  \n",
       "Day                             \n",
       "2013-01-03 -0.017153  0.010026  \n",
       "2013-01-04 -0.019097  0.001396  \n",
       "2013-01-07 -0.016357  0.000199  \n",
       "2013-01-08 -0.007918  0.003976  \n",
       "2013-01-09  0.004567 -0.007968  \n",
       "\n",
       "[5 rows x 40 columns]"
      ]
     },
     "execution_count": 15,
     "metadata": {},
     "output_type": "execute_result"
    }
   ],
   "source": [
    "# Remove the seasonality\n",
    "df_train_close = df_train_close.apply(np.log).diff().iloc[1:].dropna()\n",
    "df_train_close.head()"
   ]
  },
  {
   "cell_type": "code",
   "execution_count": 16,
   "metadata": {
    "colab": {},
    "colab_type": "code",
    "execution": {
     "iopub.execute_input": "2020-06-30T02:38:40.701Z",
     "iopub.status.busy": "2020-06-30T02:38:40.674Z",
     "iopub.status.idle": "2020-06-30T02:38:40.735Z",
     "shell.execute_reply": "2020-06-30T02:38:40.756Z"
    },
    "id": "Ay1mj50aReKj"
   },
   "outputs": [],
   "source": [
    "#imports the dcor module to calculate distance correlation\n",
    "import dcor\n",
    "\n",
    "#function to compute the distance correlation (dcor) matrix from a DataFrame and output a DataFrame \n",
    "#of dcor values.\n",
    "from header import df_distance_correlation"
   ]
  },
  {
   "cell_type": "code",
   "execution_count": 18,
   "metadata": {
    "colab": {},
    "colab_type": "code",
    "execution": {
     "iopub.execute_input": "2020-06-30T02:39:00.941Z",
     "iopub.status.busy": "2020-06-30T02:39:00.820Z",
     "iopub.status.idle": "2020-06-30T02:39:14.516Z",
     "shell.execute_reply": "2020-06-30T02:39:14.598Z"
    },
    "id": "5QiwM6FnReKl",
    "scrolled": true
   },
   "outputs": [
    {
     "data": {
      "text/html": [
       "<div>\n",
       "<style scoped>\n",
       "    .dataframe tbody tr th:only-of-type {\n",
       "        vertical-align: middle;\n",
       "    }\n",
       "\n",
       "    .dataframe tbody tr th {\n",
       "        vertical-align: top;\n",
       "    }\n",
       "\n",
       "    .dataframe thead th {\n",
       "        text-align: right;\n",
       "    }\n",
       "</style>\n",
       "<table border=\"1\" class=\"dataframe\">\n",
       "  <thead>\n",
       "    <tr style=\"text-align: right;\">\n",
       "      <th></th>\n",
       "      <th>ABCB4</th>\n",
       "      <th>BBAS3</th>\n",
       "      <th>BBDC4</th>\n",
       "      <th>BRAP4</th>\n",
       "      <th>BRML3</th>\n",
       "      <th>BRPR3</th>\n",
       "      <th>CCRO3</th>\n",
       "      <th>CMIG4</th>\n",
       "      <th>CPFE3</th>\n",
       "      <th>CSAN3</th>\n",
       "      <th>...</th>\n",
       "      <th>MRVE3</th>\n",
       "      <th>MULT3</th>\n",
       "      <th>PETR4</th>\n",
       "      <th>RENT3</th>\n",
       "      <th>SBSP3</th>\n",
       "      <th>TCSA3</th>\n",
       "      <th>TIMP3</th>\n",
       "      <th>UGPA3</th>\n",
       "      <th>VALE3</th>\n",
       "      <th>VIVT4</th>\n",
       "    </tr>\n",
       "  </thead>\n",
       "  <tbody>\n",
       "    <tr>\n",
       "      <th>ABCB4</th>\n",
       "      <td>1</td>\n",
       "      <td>0.437615</td>\n",
       "      <td>0.478087</td>\n",
       "      <td>0.259211</td>\n",
       "      <td>0.335553</td>\n",
       "      <td>0.198967</td>\n",
       "      <td>0.283889</td>\n",
       "      <td>0.324016</td>\n",
       "      <td>0.278715</td>\n",
       "      <td>0.297009</td>\n",
       "      <td>...</td>\n",
       "      <td>0.228829</td>\n",
       "      <td>0.322597</td>\n",
       "      <td>0.354368</td>\n",
       "      <td>0.280869</td>\n",
       "      <td>0.302807</td>\n",
       "      <td>0.29853</td>\n",
       "      <td>0.2157</td>\n",
       "      <td>0.329163</td>\n",
       "      <td>0.205284</td>\n",
       "      <td>0.28386</td>\n",
       "    </tr>\n",
       "    <tr>\n",
       "      <th>BBAS3</th>\n",
       "      <td>0.437615</td>\n",
       "      <td>1</td>\n",
       "      <td>0.676935</td>\n",
       "      <td>0.366711</td>\n",
       "      <td>0.483295</td>\n",
       "      <td>0.29179</td>\n",
       "      <td>0.419315</td>\n",
       "      <td>0.429405</td>\n",
       "      <td>0.413376</td>\n",
       "      <td>0.393474</td>\n",
       "      <td>...</td>\n",
       "      <td>0.368762</td>\n",
       "      <td>0.450552</td>\n",
       "      <td>0.546885</td>\n",
       "      <td>0.369564</td>\n",
       "      <td>0.39142</td>\n",
       "      <td>0.381254</td>\n",
       "      <td>0.307464</td>\n",
       "      <td>0.414213</td>\n",
       "      <td>0.318512</td>\n",
       "      <td>0.37403</td>\n",
       "    </tr>\n",
       "    <tr>\n",
       "      <th>BBDC4</th>\n",
       "      <td>0.478087</td>\n",
       "      <td>0.676935</td>\n",
       "      <td>1</td>\n",
       "      <td>0.399386</td>\n",
       "      <td>0.511997</td>\n",
       "      <td>0.331582</td>\n",
       "      <td>0.441633</td>\n",
       "      <td>0.416678</td>\n",
       "      <td>0.46451</td>\n",
       "      <td>0.44649</td>\n",
       "      <td>...</td>\n",
       "      <td>0.373357</td>\n",
       "      <td>0.492249</td>\n",
       "      <td>0.583978</td>\n",
       "      <td>0.420374</td>\n",
       "      <td>0.42504</td>\n",
       "      <td>0.405225</td>\n",
       "      <td>0.348445</td>\n",
       "      <td>0.463342</td>\n",
       "      <td>0.365086</td>\n",
       "      <td>0.407144</td>\n",
       "    </tr>\n",
       "    <tr>\n",
       "      <th>BRAP4</th>\n",
       "      <td>0.259211</td>\n",
       "      <td>0.366711</td>\n",
       "      <td>0.399386</td>\n",
       "      <td>1</td>\n",
       "      <td>0.318442</td>\n",
       "      <td>0.191926</td>\n",
       "      <td>0.292073</td>\n",
       "      <td>0.318885</td>\n",
       "      <td>0.286116</td>\n",
       "      <td>0.28417</td>\n",
       "      <td>...</td>\n",
       "      <td>0.263662</td>\n",
       "      <td>0.285027</td>\n",
       "      <td>0.469788</td>\n",
       "      <td>0.285551</td>\n",
       "      <td>0.264666</td>\n",
       "      <td>0.269324</td>\n",
       "      <td>0.326041</td>\n",
       "      <td>0.287027</td>\n",
       "      <td>0.877145</td>\n",
       "      <td>0.309648</td>\n",
       "    </tr>\n",
       "    <tr>\n",
       "      <th>BRML3</th>\n",
       "      <td>0.335553</td>\n",
       "      <td>0.483295</td>\n",
       "      <td>0.511997</td>\n",
       "      <td>0.318442</td>\n",
       "      <td>1</td>\n",
       "      <td>0.429177</td>\n",
       "      <td>0.516971</td>\n",
       "      <td>0.344609</td>\n",
       "      <td>0.440007</td>\n",
       "      <td>0.385689</td>\n",
       "      <td>...</td>\n",
       "      <td>0.378027</td>\n",
       "      <td>0.623562</td>\n",
       "      <td>0.463181</td>\n",
       "      <td>0.413816</td>\n",
       "      <td>0.36458</td>\n",
       "      <td>0.365397</td>\n",
       "      <td>0.299732</td>\n",
       "      <td>0.425991</td>\n",
       "      <td>0.271807</td>\n",
       "      <td>0.354704</td>\n",
       "    </tr>\n",
       "  </tbody>\n",
       "</table>\n",
       "<p>5 rows × 40 columns</p>\n",
       "</div>"
      ],
      "text/plain": [
       "          ABCB4     BBAS3     BBDC4     BRAP4     BRML3     BRPR3     CCRO3  \\\n",
       "ABCB4         1  0.437615  0.478087  0.259211  0.335553  0.198967  0.283889   \n",
       "BBAS3  0.437615         1  0.676935  0.366711  0.483295   0.29179  0.419315   \n",
       "BBDC4  0.478087  0.676935         1  0.399386  0.511997  0.331582  0.441633   \n",
       "BRAP4  0.259211  0.366711  0.399386         1  0.318442  0.191926  0.292073   \n",
       "BRML3  0.335553  0.483295  0.511997  0.318442         1  0.429177  0.516971   \n",
       "\n",
       "          CMIG4     CPFE3     CSAN3  ...     MRVE3     MULT3     PETR4  \\\n",
       "ABCB4  0.324016  0.278715  0.297009  ...  0.228829  0.322597  0.354368   \n",
       "BBAS3  0.429405  0.413376  0.393474  ...  0.368762  0.450552  0.546885   \n",
       "BBDC4  0.416678   0.46451   0.44649  ...  0.373357  0.492249  0.583978   \n",
       "BRAP4  0.318885  0.286116   0.28417  ...  0.263662  0.285027  0.469788   \n",
       "BRML3  0.344609  0.440007  0.385689  ...  0.378027  0.623562  0.463181   \n",
       "\n",
       "          RENT3     SBSP3     TCSA3     TIMP3     UGPA3     VALE3     VIVT4  \n",
       "ABCB4  0.280869  0.302807   0.29853    0.2157  0.329163  0.205284   0.28386  \n",
       "BBAS3  0.369564   0.39142  0.381254  0.307464  0.414213  0.318512   0.37403  \n",
       "BBDC4  0.420374   0.42504  0.405225  0.348445  0.463342  0.365086  0.407144  \n",
       "BRAP4  0.285551  0.264666  0.269324  0.326041  0.287027  0.877145  0.309648  \n",
       "BRML3  0.413816   0.36458  0.365397  0.299732  0.425991  0.271807  0.354704  \n",
       "\n",
       "[5 rows x 40 columns]"
      ]
     },
     "execution_count": 18,
     "metadata": {},
     "output_type": "execute_result"
    }
   ],
   "source": [
    "df_train_dcor = df_distance_correlation(df_train_close, stocks)\n",
    "df_train_dcor.head()"
   ]
  },
  {
   "cell_type": "markdown",
   "metadata": {
    "colab_type": "text",
    "id": "4HBWLiJYReKp"
   },
   "source": [
    "### Building a Time-Series Correlation Network with Networkx"
   ]
  },
  {
   "cell_type": "code",
   "execution_count": 19,
   "metadata": {
    "colab": {},
    "colab_type": "code",
    "execution": {
     "iopub.execute_input": "2020-06-30T02:39:20.012Z",
     "iopub.status.busy": "2020-06-30T02:39:19.988Z",
     "iopub.status.idle": "2020-06-30T02:39:20.044Z",
     "shell.execute_reply": "2020-06-30T02:39:20.065Z"
    },
    "id": "4sPzxwFrReKq"
   },
   "outputs": [],
   "source": [
    "#imports the NetworkX module\n",
    "import networkx as nx\n",
    "\n",
    "# takes in a pre-processed dataframe and returns a time-series correlation\n",
    "# network with pairwise distance correlation values as the edges\n",
    "from header import build_corr_nx"
   ]
  },
  {
   "cell_type": "code",
   "execution_count": 20,
   "metadata": {
    "colab": {},
    "colab_type": "code",
    "execution": {
     "iopub.execute_input": "2020-06-30T02:39:22.588Z",
     "iopub.status.busy": "2020-06-30T02:39:22.564Z",
     "iopub.status.idle": "2020-06-30T02:39:22.630Z",
     "shell.execute_reply": "2020-06-30T02:39:22.653Z"
    },
    "id": "CxXJOm2PReKs"
   },
   "outputs": [],
   "source": [
    "# builds the distance correlation networks for the training data\n",
    "H_close = build_corr_nx(df_train_dcor, 0.4)"
   ]
  },
  {
   "cell_type": "code",
   "execution_count": 21,
   "metadata": {
    "execution": {
     "iopub.execute_input": "2020-06-30T02:39:26.005Z",
     "iopub.status.busy": "2020-06-30T02:39:25.981Z",
     "iopub.status.idle": "2020-06-30T02:39:26.053Z",
     "shell.execute_reply": "2020-06-30T02:39:26.074Z"
    }
   },
   "outputs": [
    {
     "name": "stdout",
     "output_type": "stream",
     "text": [
      "[]\n",
      "0\n",
      "['ABCB4', 'BBAS3', 'BBDC4', 'BRAP4', 'BRML3', 'BRPR3', 'CCRO3', 'CMIG4', 'CPFE3', 'CSAN3', 'CSNA3', 'CYRE3', 'DTEX3', 'ECOR3', 'ELET3', 'ENBR3', 'EQTL3', 'EVEN3', 'EZTC3', 'GFSA3', 'GGBR4', 'GOAU4', 'GOLL4', 'HYPE3', 'IGTA3', 'ITSA4', 'ITUB4', 'LAME4', 'LIGT3', 'LREN3', 'MRVE3', 'MULT3', 'PETR4', 'RENT3', 'SBSP3', 'TCSA3', 'TIMP3', 'UGPA3', 'VALE3', 'VIVT4']\n",
      "40\n"
     ]
    }
   ],
   "source": [
    "zero_degree = []\n",
    "nonzero_degree = []\n",
    "for t, d in H_close.degree():\n",
    "    if d == 0:\n",
    "        zero_degree.append(t)\n",
    "    else:\n",
    "        nonzero_degree.append(t)\n",
    "        \n",
    "print(zero_degree)\n",
    "print(len(zero_degree))\n",
    "print(nonzero_degree)\n",
    "print(len(nonzero_degree))"
   ]
  },
  {
   "cell_type": "code",
   "execution_count": 22,
   "metadata": {
    "execution": {
     "iopub.execute_input": "2020-06-30T02:39:30.546Z",
     "iopub.status.busy": "2020-06-30T02:39:30.525Z",
     "iopub.status.idle": "2020-06-30T02:39:30.580Z",
     "shell.execute_reply": "2020-06-30T02:39:30.599Z"
    }
   },
   "outputs": [],
   "source": [
    "# Remove nodes with no connections zero \n",
    "H_close.remove_nodes_from(zero_degree)"
   ]
  },
  {
   "cell_type": "code",
   "execution_count": 23,
   "metadata": {
    "execution": {
     "iopub.execute_input": "2020-06-30T02:39:34.648Z",
     "iopub.status.busy": "2020-06-30T02:39:34.620Z",
     "iopub.status.idle": "2020-06-30T02:39:34.686Z",
     "shell.execute_reply": "2020-06-30T02:39:34.709Z"
    }
   },
   "outputs": [],
   "source": [
    "# Remove from original DF (df_validate will be used for backtesting)\n",
    "df_train_close.drop(columns=zero_degree, inplace=True)\n",
    "df_validate.drop(columns=zero_degree, inplace=True)\n",
    "df_train_close_copy.drop(columns=zero_degree, inplace=True)"
   ]
  },
  {
   "cell_type": "markdown",
   "metadata": {
    "colab_type": "text",
    "id": "jYRvbgaiReKu"
   },
   "source": [
    "### Plotting a Time-Series Correlation Network with Seaborn"
   ]
  },
  {
   "cell_type": "code",
   "execution_count": 24,
   "metadata": {
    "colab": {},
    "colab_type": "code",
    "execution": {
     "iopub.execute_input": "2020-06-30T02:39:40.842Z",
     "iopub.status.busy": "2020-06-30T02:39:40.808Z",
     "iopub.status.idle": "2020-06-30T02:39:40.892Z",
     "shell.execute_reply": "2020-06-30T02:39:40.932Z"
    },
    "id": "TWux-ufOReKx"
   },
   "outputs": [],
   "source": [
    "# function to display the network from the distance correlation matrix\n",
    "from header import plt_corr_nx\n",
    "\n",
    "        \n",
    "# function to visualize the degree distribution\n",
    "from header import hist_plot"
   ]
  },
  {
   "cell_type": "code",
   "execution_count": 25,
   "metadata": {
    "execution": {
     "iopub.execute_input": "2020-06-30T02:39:44.464Z",
     "iopub.status.busy": "2020-06-30T02:39:44.422Z",
     "iopub.status.idle": "2020-06-30T02:39:44.542Z",
     "shell.execute_reply": "2020-06-30T02:39:44.574Z"
    }
   },
   "outputs": [
    {
     "name": "stdout",
     "output_type": "stream",
     "text": [
      "Testing for Close price: \n",
      "\n",
      "Testing for threshold 0.0000:\n",
      "Result: Irreducible!\n",
      "\n",
      "Testing for threshold 0.1000:\n",
      "Result: Irreducible!\n",
      "\n",
      "Testing for threshold 0.1500:\n",
      "Result: Irreducible!\n",
      "\n",
      "Testing for threshold 0.2000:\n",
      "Result: Irreducible!\n",
      "\n",
      "Testing for threshold 0.2500:\n",
      "Result: Irreducible!\n",
      "\n",
      "Testing for threshold 0.3000:\n",
      "Result: Irreducible!\n",
      "\n",
      "Testing for threshold 0.3250:\n",
      "Result: Irreducible!\n",
      "\n",
      "Testing for threshold 0.4000:\n",
      "Result: Irreducible!\n",
      "\n",
      "Testing for threshold 0.4500:\n",
      "Result: Not irreducible!\n",
      "\n"
     ]
    }
   ],
   "source": [
    "def is_irreducible(H):\n",
    "    for node, weight in H.degree():\n",
    "        if weight == 0:\n",
    "            return False\n",
    "    return True\n",
    "\n",
    "\n",
    "def grid_search_threshold(df_dcor, threshold_list):\n",
    "    for threshold in threshold_list:\n",
    "        print(\"Testing for threshold {:,.4f}:\".format(threshold))\n",
    "        H = build_corr_nx(df_dcor, corr_threshold=threshold)\n",
    "        print(\"Result: {}\".format(\"Irreducible!\" if is_irreducible(H) else \"Not irreducible!\"))\n",
    "        print()\n",
    "        \n",
    "        \n",
    "threshold_list = [0.0, 0.1, 0.15, 0.2, 0.25, 0.3, 0.325, 0.4, 0.45]\n",
    "print(\"Testing for Close price: \\n\")\n",
    "grid_search_threshold(df_train_dcor, threshold_list)"
   ]
  },
  {
   "cell_type": "markdown",
   "metadata": {
    "colab_type": "text",
    "id": "SdXYy1_NReKz"
   },
   "source": [
    "# Visualizing How A Portfolio is Correlated with Itself (with Physics)\n",
    "\n",
    "The following visualizations are rendered with the [Kamada-Kawai method](http://jgaa.info/accepted/2002/HarelKoren2002.6.3.pdf), which treats each vertex of the graph as a mass and each edge as a spring. The graph is drawn by finding the list of vertex positions that minimize the total energy of the ball-spring system. The method treats the spring lengths as the weights of the graph, which is given by ``` 1 - cor_matrix ``` where ``` cor_matrix ``` is the distance correlation matrix. Nodes seperated by large distances reflect smaller correlations between their time series data, while nodes seperated by small distances reflect larger correlations. The minimum energy configuration consists of vertices with few connections experiencing a repulsive force and vertices with many connections feeling an attractive force. As such, nodes with a larger degree (more correlations) fall towards to the center of the visualization where nodes with a smaller degree (fewer correlations) are pushed outwards. For an overview of physics-based graph visualizations see the [Force-directed graph drawing](https://en.wikipedia.org/wiki/Force-directed_graph_drawing) wiki."
   ]
  },
  {
   "cell_type": "code",
   "execution_count": 26,
   "metadata": {
    "colab": {
     "base_uri": "https://localhost:8080/",
     "height": 538
    },
    "colab_type": "code",
    "execution": {
     "iopub.execute_input": "2020-06-30T02:39:52.460Z",
     "iopub.status.busy": "2020-06-30T02:39:51.829Z",
     "iopub.status.idle": "2020-06-30T02:39:53.818Z",
     "shell.execute_reply": "2020-06-30T02:39:53.883Z"
    },
    "id": "Tmpklb9kReKz",
    "outputId": "e810f7be-6bc6-4c80-b021-9df0d70ea68d"
   },
   "outputs": [
    {
     "data": {
      "image/png": "[encoded data removed]",
      "text/plain": [
       "<Figure size 1152x648 with 2 Axes>"
      ]
     },
     "metadata": {},
     "output_type": "display_data"
    }
   ],
   "source": [
    "# plots the distance correlation network of the daily opening prices from 2006-2014\n",
    "plt_corr_nx(H_close, title='Close prices: final threshold=0.4')"
   ]
  },
  {
   "cell_type": "markdown",
   "metadata": {
    "colab_type": "text",
    "id": "ySi8iGQHReK2"
   },
   "source": [
    "In the above visualization, the sizes of the vertices are proportional to the number of connections they have. The colorbar to the right indicates the degree of disimilarity (the distance) between the stocks. The larger the value (the lighter the color) the less similar the stocks are. Keeping this in mind, several stocks jump out. **JBS**, **CSMG**, **HBOR3**, and all the ones that lie on the periphery of the network with the fewest number of correlations above $\\rho_{c} = 0.325$. On the other hand **BBAS3**, **ITUB4**, **BBDC4**, and **LAME4** sit in the core of the network with the greatest number connections above $\\rho_{c} = 0.325$. It is clear from the closing prices network that our asset allocation algorithm needs to reward vertices on the periphery and punish those nearing the center. In the next code block we build a function to visualize how the edges of the distance correlation network are distributed.\n",
    "\n",
    "## Degree Histogram"
   ]
  },
  {
   "cell_type": "code",
   "execution_count": 27,
   "metadata": {
    "colab": {
     "base_uri": "https://localhost:8080/",
     "height": 434
    },
    "colab_type": "code",
    "execution": {
     "iopub.execute_input": "2020-06-30T02:40:11.562Z",
     "iopub.status.busy": "2020-06-30T02:40:11.526Z",
     "iopub.status.idle": "2020-06-30T02:40:11.794Z",
     "shell.execute_reply": "2020-06-30T02:40:11.867Z"
    },
    "id": "fQEeUrFcReK6",
    "outputId": "06939edf-3d34-40f5-c657-e7c4705447ef"
   },
   "outputs": [
    {
     "data": {
      "image/png": "[encoded data removed]",
      "text/plain": [
       "<Figure size 648x432 with 1 Axes>"
      ]
     },
     "metadata": {},
     "output_type": "display_data"
    }
   ],
   "source": [
    "# plots the degree histogram of the closing prices network\n",
    "hist_plot(\n",
    "    H_close, \n",
    "    'Degree Histogram of the Closing Prices Network', \n",
    "    bins=9, \n",
    "    xticks=range(2, 31, 4)\n",
    ")"
   ]
  },
  {
   "cell_type": "markdown",
   "metadata": {
    "colab_type": "text",
    "id": "oV8ZgyYbReLa"
   },
   "source": [
    "# Communicability as a Measure of Relative Risk\n",
    "\n",
    "We are now in a position to devise a method to compute the allocation weights of our portfolio. To recall, this is the problem:\n",
    "\n",
    "**Given the $N$ assets in our portfolio, find a way of computing the allocation weights $w_{i}$, &thinsp; $\\Big( \\sum_{i=1}^{N}w_{i}=1\\Big)$ such that assets more correlated with each other obtain lower weights while those less correlated with each other obtain higher weights.**\n",
    "\n",
    "Theres an infinite number of possible solutions to the above problem. The asset correlation network we built contains information on how our portfolio is interrelated (whose connected to who), but it does not tell us how each asset *impacts* the other or how those impacts travel throughout the network. If, for example, Apple's stock lost 40% of its value wiping out, say, two years of gains, how would this impact the remaining assets in our portfolio? How easily does this kind of behaviour spread and how can we keep our capital isolated from it? We thus seek a measure of \"relative risk\" that quantifies not only the correlations between assets, but how those correlations mediate perturbations in the portfolio. Our aim, therefore, is twofold: allocate capital inversely proportional to (1) the correlations between assets and (2) proportional to the \"impact resistence\" of each asset. As luck would have it, there is a [centrality](https://en.wikipedia.org/wiki/Centrality) measure that does just this! Let us define the relative risk as follows:\n",
    "\n",
    "<br/><br/>\n",
    "<center>$\\text{Relative Risk of Asset} \\ r$ = $\\dfrac{\\omega_{r}}{\\sum_{r'=1}^{N}\\omega_{r'}}$,</center>\n",
    "<br/><br/>\n",
    "where \n",
    "<center>$\\omega_{r} = \\dfrac{1}{C}\\sum_{p}\\sum_{q}\\dfrac{G_{prq}}{G_{pq}}$</center>\n",
    "\n",
    "is the **Communicability Betweenness centrality** [(Estrada, *et al.* (2009))](https://arxiv.org/pdf/0905.4102.pdf) of node $r$. Here\n",
    "<br/><br/>\n",
    "<center>$G_{prq} = \\big(\\exp{\\textbf{A}}\\big)_{pq} - \\big(\\exp{(\\textbf{A} - \\textbf{E}(r))}\\big)_{pq}$</center>\n",
    "\n",
    "is the number of weighted [walks](http://mathworld.wolfram.com/Walk.html) involving only node $r$,\n",
    "<br/><br/>\n",
    "<center>$G_{pq} = \\big(\\exp{\\textbf{A}}\\big)_{pq}$</center>\n",
    "\n",
    "is the so-called *communicability* between nodes $p$ and $q$,\n",
    "<br/><br/>\n",
    "<center>$A_{pq} = \\begin{cases} \n",
    "      1, & \\text{if} \\ \\rho \\geq \\rho_{c}  \\\\\n",
    "      0, & \\text{otherwise}\n",
    "   \\end{cases}$</center>\n",
    "   \n",
    "is the adjacency matrix induced by the distance correlation matrix $\\text{Cor}_{ij}$, and $\\textbf{E}(r)$ is a matrix such that when added to $\\textbf{A}$, yields a new graph $G(r) = (V, E')$ with all edges connecting $r \\in V$ removed. The constant $C = (n-1)^2 - (n-1)$ normalizes $\\omega_{r}$ such that it takes values between 0 and 1. We can better understand what $\\omega_{r}$ is counting by re-writing the matrix exponential as a taylor series:\n",
    "<br/><br/>\n",
    "\n",
    "<center>$\\exp{\\textbf{A} = \\sum_{k=1}^{\\infty}}\\dfrac{\\textbf{A}^{k}}{k!}$</center>\n",
    "\n",
    "Rasing the adjacency matrix to the power of $k$ counts all walks from $p$ to $q$ of length $k$. The matrix exponential therefore counts all possible ways of moving from $p$ to $q$ weighted by the inverse factorial of $k$. So the denominator of $\\omega_{r}$ counts all weighted walks involving every node. Put simply,\n",
    "<br/><br/>\n",
    "\n",
    "<center>$\\boxed{\\text{Communicability Betweenees centrality} = \\dfrac{\\text{sum of all weighted walks involving node r}}{\\text{sum of all weighted walks involving every node}}}$</center>\n",
    "\n",
    "So the communicability betweenness centrality is proportional to the number of connections (correlations) a node has and therefore satisifies the first requirement of relative risk. Next, we explore how this measure quantifies the spread of impacts throughout the network, satisfying our second requirement.\n",
    "\n",
    "## The Physics of what Communicability Measures\n",
    "\n",
    "[Estrada & Hatano (2007)](https://arxiv.org/pdf/0707.0756.pdf) provided an ingenius argument showing the communicability of a network is identical to the Green's function of a network. That is, it measures how impacts (or more generally thermal fluctuations) travel from one node to another. Their argument works by treating each node as an oscillator and each edge as a spring (which is what we did to generate the visualization of our asset correlation network). Intuitively, we can draw an analogy between the movement of an asset's price and its motion in a ball-spring system. In this analogy, volatility is equivalent to how energetic the oscillator is. Revisiting the hypothetical scenerio of Apple losing 40% of its value: we can visualize this in our mind's eye as an impact to one of the masses---causing it to violently oscillate. How does this motion propagate throughout the rest of the ball-spring system? Which masses absorb the blow and which reflect it? Communicability betweeness centrality answers this question by counting all possible ways the impact can reach node $r$. Higher values indicate the node has a greater susceptiblility to impacts whereas lower values denote just the opposite.\n",
    "\n",
    "# The Bottom Line\n",
    "\n",
    "The communicability of a network quantifies how impacts spread from one node to another. In the context of an asset correlation network, communicability measures how volatility travels node to node. **We aim to position our capital such that it's the most resistant to the communicability of volatility**. Recall we seek a portfolio that (1) consistently generates wealth while minimizing potential losess and (2) is robust against large market fluctuations and economic downturns. Of course, generous returns are desired, but not in a way that threatens our initial investment. To this end, the strategy moving forward is this: allocate capital inversely proportional to its relative (or intraportfolio) risk.\n",
    "\n",
    "\n",
    "## Intraportfolio Risk"
   ]
  },
  {
   "cell_type": "code",
   "execution_count": 28,
   "metadata": {
    "execution": {
     "iopub.execute_input": "2020-06-30T02:40:23.678Z",
     "iopub.status.busy": "2020-06-30T02:40:23.650Z",
     "iopub.status.idle": "2020-06-30T02:40:23.729Z",
     "shell.execute_reply": "2020-06-30T02:40:23.754Z"
    }
   },
   "outputs": [
    {
     "name": "stdout",
     "output_type": "stream",
     "text": [
      "[]\n",
      "0\n",
      "['ABCB4', 'BBAS3', 'BBDC4', 'BRAP4', 'BRML3', 'BRPR3', 'CCRO3', 'CMIG4', 'CPFE3', 'CSAN3', 'CSNA3', 'CYRE3', 'DTEX3', 'ECOR3', 'ELET3', 'ENBR3', 'EQTL3', 'EVEN3', 'EZTC3', 'GFSA3', 'GGBR4', 'GOAU4', 'GOLL4', 'HYPE3', 'IGTA3', 'ITSA4', 'ITUB4', 'LAME4', 'LIGT3', 'LREN3', 'MRVE3', 'MULT3', 'PETR4', 'RENT3', 'SBSP3', 'TCSA3', 'TIMP3', 'UGPA3', 'VALE3', 'VIVT4']\n",
      "40\n"
     ]
    }
   ],
   "source": [
    "zero_degree = []\n",
    "nonzero_degree = []\n",
    "for t, d in H_close.degree():\n",
    "    if d == 0:\n",
    "        zero_degree.append(t)\n",
    "    else:\n",
    "        nonzero_degree.append(t)\n",
    "        \n",
    "print(zero_degree)\n",
    "print(len(zero_degree))\n",
    "print(nonzero_degree)\n",
    "print(len(nonzero_degree))"
   ]
  },
  {
   "cell_type": "code",
   "execution_count": 29,
   "metadata": {
    "execution": {
     "iopub.execute_input": "2020-06-30T02:40:38.314Z",
     "iopub.status.busy": "2020-06-30T02:40:38.281Z",
     "iopub.status.idle": "2020-06-30T02:40:38.396Z",
     "shell.execute_reply": "2020-06-30T02:40:38.431Z"
    }
   },
   "outputs": [
    {
     "data": {
      "text/plain": [
       "0"
      ]
     },
     "execution_count": 29,
     "metadata": {},
     "output_type": "execute_result"
    }
   ],
   "source": [
    "len(zero_degree)"
   ]
  },
  {
   "cell_type": "code",
   "execution_count": 30,
   "metadata": {
    "colab": {
     "base_uri": "https://localhost:8080/",
     "height": 611
    },
    "colab_type": "code",
    "execution": {
     "iopub.execute_input": "2020-06-30T02:40:41.849Z",
     "iopub.status.busy": "2020-06-30T02:40:41.821Z",
     "iopub.status.idle": "2020-06-30T02:40:43.244Z",
     "shell.execute_reply": "2020-06-30T02:40:43.343Z"
    },
    "id": "Ym4P8cD3ReLa",
    "outputId": "d8d8f706-247d-4d37-8b05-751ee3433782",
    "scrolled": true
   },
   "outputs": [
    {
     "data": {
      "image/png": "[encoded data removed]",
      "text/plain": [
       "<Figure size 576x720 with 1 Axes>"
      ]
     },
     "metadata": {},
     "output_type": "display_data"
    }
   ],
   "source": [
    "# calculates the communicability betweeness centrality and returns a dictionary\n",
    "risk_alloc = nx.communicability_betweenness_centrality(H_close)\n",
    "#risk_alloc = nx.eigenvector_centrality(H_master)\n",
    "# print(risk_alloc)\n",
    "# converts the dictionary of degree centralities to a pandas series\n",
    "risk_alloc = pd.Series(risk_alloc)\n",
    "\n",
    "# normalizes the degree centrality \n",
    "risk_alloc = risk_alloc / risk_alloc.sum()\n",
    "\n",
    "# resets the index\n",
    "risk_alloc.reset_index()\n",
    "\n",
    "# converts series to a sorted DataFrame\n",
    "risk_alloc = (\n",
    "    pd.DataFrame({\"Stocks\": risk_alloc.index, \"Risk Allocation\": risk_alloc.values})\n",
    "        .sort_values(by=\"Risk Allocation\", ascending=True)\n",
    "        .reset_index()\n",
    "        .drop(\"index\", axis=1)\n",
    ")\n",
    "\n",
    "with sns.axes_style('whitegrid'):\n",
    "    # initializes figure\n",
    "    plt.figure(figsize=(8,10))\n",
    "\n",
    "    # plots a pretty seaborn barplot\n",
    "    sns.barplot(x='Risk Allocation', y='Stocks', data=risk_alloc, palette=\"rocket\")\n",
    "\n",
    "    # removes spines\n",
    "    sns.despine(right=True, top=True, bottom=True)\n",
    "\n",
    "    # turns xticks off\n",
    "    plt.xticks([])\n",
    "\n",
    "    # labels the x axis\n",
    "    plt.xlabel(\"Relative Risk %\", size=12)\n",
    "\n",
    "    # labels the y axis\n",
    "    plt.ylabel(\"Historical Portfolio\", size=12)\n",
    "\n",
    "    # figure title\n",
    "    plt.title(\"Intraportfolio Risk\", size=18)\n",
    "\n",
    "    # iterates over the stocks (label) and their numerical index (i)\n",
    "    for i, label in enumerate(list(risk_alloc.index)):\n",
    "\n",
    "        # gets the height of each bar in the barplot\n",
    "        height = risk_alloc.loc[label, 'Risk Allocation']\n",
    "\n",
    "        # gets the relative risk as a percentage (the labels)\n",
    "        label = (risk_alloc.loc[label, 'Risk Allocation']*100 \n",
    "                    ).round(2).astype(str) + '%'\n",
    "\n",
    "        # annotates the barplot with the relative risk percentages\n",
    "        plt.annotate(str(label), (height + 0.001, i + 0.15))"
   ]
  },
  {
   "cell_type": "code",
   "execution_count": 31,
   "metadata": {
    "execution": {
     "iopub.execute_input": "2020-06-30T02:40:57.490Z",
     "iopub.status.busy": "2020-06-30T02:40:57.453Z",
     "iopub.status.idle": "2020-06-30T02:40:57.550Z",
     "shell.execute_reply": "2020-06-30T02:40:57.577Z"
    }
   },
   "outputs": [
    {
     "data": {
      "text/plain": [
       "'ITAUSA'"
      ]
     },
     "execution_count": 31,
     "metadata": {},
     "output_type": "execute_result"
    }
   ],
   "source": [
    "# Helper to get company names\n",
    "df.loc[df.Ticker == \"ITSA4\"].Name.iloc[0]"
   ]
  },
  {
   "cell_type": "markdown",
   "metadata": {
    "colab_type": "text",
    "id": "Ttx6TZK5ReLc"
   },
   "source": [
    "We read an intraportfolio risk plot like this: VALE3 (*Companhia Vale do Rio Doce*) is $\\dfrac{0.41}{0.07} = 5.86$ times riskier than GGBR4 (*Gerday*), BBDC4 (*Banco Bradesco*) is $\\dfrac{8.33}{1.65} = 5.05$ times riskier than RENT3 (Localiza), ... , and ITSA4 (Itaú S.A.) is $\\dfrac{8.59}{0.16} = 53.69$ times more risky than EMBR3 (Embraer)! \n",
    "\n",
    "Intuitively, the assets that cluster in the center of the network are most susceptible to impacts, whereas those further from the cluster are the least susceptible. The logic from here is straightforward: take the inverse of the relative risk (which we call the \"relative certainty\") and normalize it such that it adds to 1. These are the asset weights. Formally,\n",
    "<br/><br/>\n",
    "<center>$\\text{w}_{r} = \\dfrac{1}{\\omega_{r} \\sum_{r'}\\omega_{r'}^{-1}}$</center>\n",
    "\n",
    "Next, Let's visualize the allocation of 10,000 (USD) in our portfolio.\n",
    "\n",
    "## Communicability-Based Asset Allocation"
   ]
  },
  {
   "cell_type": "code",
   "execution_count": 32,
   "metadata": {
    "execution": {
     "iopub.execute_input": "2020-06-30T02:41:10.410Z",
     "iopub.status.busy": "2020-06-30T02:41:10.373Z",
     "iopub.status.idle": "2020-06-30T02:41:10.477Z",
     "shell.execute_reply": "2020-06-30T02:41:10.514Z"
    }
   },
   "outputs": [
    {
     "data": {
      "text/plain": [
       "ABCB4    0.003991\n",
       "BBAS3    0.000630\n",
       "BBDC4    0.000441\n",
       "BRAP4    0.009008\n",
       "BRML3    0.000561\n",
       "BRPR3    0.026876\n",
       "CCRO3    0.000736\n",
       "CMIG4    0.001465\n",
       "CPFE3    0.000609\n",
       "CSAN3    0.003081\n",
       "CSNA3    0.009008\n",
       "CYRE3    0.000650\n",
       "DTEX3    0.003854\n",
       "ECOR3    0.001683\n",
       "ELET3    0.001588\n",
       "ENBR3    0.023474\n",
       "EQTL3    0.093438\n",
       "EVEN3    0.001428\n",
       "EZTC3    0.002099\n",
       "GFSA3    0.008530\n",
       "GGBR4    0.052519\n",
       "GOAU4    0.009008\n",
       "GOLL4    0.055231\n",
       "HYPE3    0.009154\n",
       "IGTA3    0.002894\n",
       "ITSA4    0.000428\n",
       "ITUB4    0.000461\n",
       "LAME4    0.000726\n",
       "LIGT3    0.013704\n",
       "LREN3    0.000912\n",
       "MRVE3    0.006452\n",
       "MULT3    0.000870\n",
       "PETR4    0.000577\n",
       "RENT3    0.002228\n",
       "SBSP3    0.003931\n",
       "TCSA3    0.005241\n",
       "TIMP3    0.628771\n",
       "UGPA3    0.001488\n",
       "VALE3    0.009008\n",
       "VIVT4    0.003249\n",
       "dtype: float64"
      ]
     },
     "execution_count": 32,
     "metadata": {},
     "output_type": "execute_result"
    }
   ],
   "source": [
    "# calculates degree centrality and assigns it to investmnet_A\n",
    "investment_A = nx.communicability_betweenness_centrality(H_close)\n",
    "#investment_A = nx.eigenvector_centrality(H_close)\n",
    "\n",
    "# calculates the inverse of the above and re-asigns it to investment_A as a pandas series\n",
    "investment_A = 1 / pd.Series(investment_A)\n",
    "\n",
    "# normalizes the above\n",
    "investment_A = investment_A / investment_A.sum()\n",
    "investment_A"
   ]
  },
  {
   "cell_type": "code",
   "execution_count": 34,
   "metadata": {
    "execution": {
     "iopub.execute_input": "2020-06-30T02:41:29.021Z",
     "iopub.status.busy": "2020-06-30T02:41:28.984Z",
     "iopub.status.idle": "2020-06-30T02:41:29.064Z",
     "shell.execute_reply": "2020-06-30T02:41:29.088Z"
    }
   },
   "outputs": [],
   "source": [
    "def softmax_temp(preds, temperature=1.0):\n",
    "    # helper function to sample an index from a probability array\n",
    "    # preds = np.asarray(preds).astype('float64')\n",
    "    preds = np.log(preds) / temperature\n",
    "    exp_preds = np.exp(preds)\n",
    "    preds = exp_preds / np.sum(exp_preds)\n",
    "    return preds\n"
   ]
  },
  {
   "cell_type": "code",
   "execution_count": 35,
   "metadata": {
    "colab": {
     "base_uri": "https://localhost:8080/",
     "height": 536
    },
    "colab_type": "code",
    "execution": {
     "iopub.execute_input": "2020-06-30T02:41:31.814Z",
     "iopub.status.busy": "2020-06-30T02:41:31.773Z",
     "iopub.status.idle": "2020-06-30T02:41:32.638Z",
     "shell.execute_reply": "2020-06-30T02:41:32.727Z"
    },
    "id": "LQHK1S9xReLc",
    "outputId": "cb5a42f6-0802-445e-cd87-14998e092abf"
   },
   "outputs": [
    {
     "data": {
      "image/png": "[encoded data removed]",
      "text/plain": [
       "<Figure size 576x648 with 1 Axes>"
      ]
     },
     "metadata": {},
     "output_type": "display_data"
    }
   ],
   "source": [
    "# calculates degree centrality and assigns it to investmnet_A\n",
    "investment_A = nx.communicability_betweenness_centrality(H_close)\n",
    "#investment_A = nx.eigenvector_centrality(H_close)\n",
    "\n",
    "# calculates the inverse of the above and re-asigns it to investment_A as a pandas series\n",
    "investment_A = 1 / pd.Series(investment_A)\n",
    "\n",
    "# normalizes the above\n",
    "investment_A = softmax_temp(investment_A, 1.5)# np.exp(investment_A) / np.exp(investment_A).sum()#investment_A / investment_A.sum()\n",
    "\n",
    "# resets the index\n",
    "#investment_A.reset_index()\n",
    "\n",
    "# converts the above series to a sorted DataFrame\n",
    "investment_A = (\n",
    "    pd.DataFrame({\"Stocks\": investment_A.index, \"Asset Allocation\": investment_A.values})\n",
    "        .sort_values(by=\"Asset Allocation\", ascending=False)\n",
    "        .reset_index()\n",
    "        .drop(\"index\", axis=1)\n",
    ")\n",
    "\n",
    "with sns.axes_style('whitegrid'):\n",
    "    # initializes a figure\n",
    "    plt.figure(figsize=(8,9))\n",
    "\n",
    "    # plot a pretty seaborn barplot\n",
    "    sns.barplot(x='Asset Allocation', y='Stocks', data=investment_A, palette=\"Greens_r\")\n",
    "\n",
    "    # despines the figure\n",
    "    sns.despine(right=True, top=True, bottom=True)\n",
    "\n",
    "    # turns xticks off\n",
    "    plt.xticks([])\n",
    "\n",
    "    # turns the x axis label off\n",
    "    plt.xlabel('')\n",
    "\n",
    "    # fig title\n",
    "    plt.title(\"Asset Allocation: 10,000 (USD)\", size=12)\n",
    "\n",
    "    # y axis label\n",
    "    plt.ylabel(\"Historical MRP Portfolio\", size=12)\n",
    "\n",
    "    # captial to be allocated\n",
    "    capital = 10000\n",
    "\n",
    "    # iterates over the stocks (label) and their numerical indices (i)\n",
    "    for i, label in enumerate(list(investment_A.index)):\n",
    "\n",
    "        # gets the height of each bar\n",
    "        height = investment_A.loc[label, 'Asset Allocation']\n",
    "\n",
    "        # calculates the capital to be allocated\n",
    "        label = (investment_A.loc[label, 'Asset Allocation'] * capital\n",
    "                    ).round(2)\n",
    "\n",
    "        # annotes the capital above each bar\n",
    "        plt.annotate('${:,.0f}'.format(label), (height + 0.002, i + 0.15))"
   ]
  },
  {
   "cell_type": "code",
   "execution_count": 36,
   "metadata": {
    "execution": {
     "iopub.execute_input": "2020-06-30T02:41:35.574Z",
     "iopub.status.busy": "2020-06-30T02:41:35.544Z",
     "iopub.status.idle": "2020-06-30T02:41:35.623Z",
     "shell.execute_reply": "2020-06-30T02:41:35.646Z"
    }
   },
   "outputs": [
    {
     "data": {
      "text/plain": [
       "0     0.348924\n",
       "1     0.446817\n",
       "2     0.515766\n",
       "3     0.582438\n",
       "4     0.625093\n",
       "5     0.664069\n",
       "6     0.691294\n",
       "7     0.712097\n",
       "8     0.732680\n",
       "9     0.753263\n",
       "10    0.773845\n",
       "11    0.794428\n",
       "12    0.814276\n",
       "13    0.830753\n",
       "14    0.845098\n",
       "15    0.857060\n",
       "16    0.868901\n",
       "17    0.880586\n",
       "18    0.891014\n",
       "19    0.901081\n",
       "20    0.910735\n",
       "21    0.918843\n",
       "22    0.926637\n",
       "23    0.933363\n",
       "24    0.939833\n",
       "25    0.946028\n",
       "26    0.952160\n",
       "27    0.958188\n",
       "28    0.962658\n",
       "29    0.966991\n",
       "30    0.970867\n",
       "31    0.974706\n",
       "32    0.978272\n",
       "33    0.981767\n",
       "34    0.985183\n",
       "35    0.988477\n",
       "36    0.991711\n",
       "37    0.994547\n",
       "38    0.997301\n",
       "39    1.000000\n",
       "Name: Asset Allocation, dtype: float64"
      ]
     },
     "execution_count": 36,
     "metadata": {},
     "output_type": "execute_result"
    }
   ],
   "source": [
    "investment_A.iloc[:, 1].cumsum()"
   ]
  },
  {
   "cell_type": "code",
   "execution_count": 37,
   "metadata": {
    "execution": {
     "iopub.execute_input": "2020-06-30T02:41:38.005Z",
     "iopub.status.busy": "2020-06-30T02:41:37.974Z",
     "iopub.status.idle": "2020-06-30T02:41:38.056Z",
     "shell.execute_reply": "2020-06-30T02:41:38.085Z"
    }
   },
   "outputs": [
    {
     "data": {
      "text/html": [
       "<div>\n",
       "<style scoped>\n",
       "    .dataframe tbody tr th:only-of-type {\n",
       "        vertical-align: middle;\n",
       "    }\n",
       "\n",
       "    .dataframe tbody tr th {\n",
       "        vertical-align: top;\n",
       "    }\n",
       "\n",
       "    .dataframe thead th {\n",
       "        text-align: right;\n",
       "    }\n",
       "</style>\n",
       "<table border=\"1\" class=\"dataframe\">\n",
       "  <thead>\n",
       "    <tr style=\"text-align: right;\">\n",
       "      <th></th>\n",
       "      <th>Stocks</th>\n",
       "      <th>Asset Allocation</th>\n",
       "    </tr>\n",
       "  </thead>\n",
       "  <tbody>\n",
       "    <tr>\n",
       "      <th>0</th>\n",
       "      <td>TIMP3</td>\n",
       "      <td>0.348924</td>\n",
       "    </tr>\n",
       "    <tr>\n",
       "      <th>1</th>\n",
       "      <td>EQTL3</td>\n",
       "      <td>0.097893</td>\n",
       "    </tr>\n",
       "    <tr>\n",
       "      <th>2</th>\n",
       "      <td>GOLL4</td>\n",
       "      <td>0.068949</td>\n",
       "    </tr>\n",
       "    <tr>\n",
       "      <th>3</th>\n",
       "      <td>GGBR4</td>\n",
       "      <td>0.066672</td>\n",
       "    </tr>\n",
       "    <tr>\n",
       "      <th>4</th>\n",
       "      <td>BRPR3</td>\n",
       "      <td>0.042655</td>\n",
       "    </tr>\n",
       "    <tr>\n",
       "      <th>5</th>\n",
       "      <td>ENBR3</td>\n",
       "      <td>0.038976</td>\n",
       "    </tr>\n",
       "    <tr>\n",
       "      <th>6</th>\n",
       "      <td>LIGT3</td>\n",
       "      <td>0.027225</td>\n",
       "    </tr>\n",
       "    <tr>\n",
       "      <th>7</th>\n",
       "      <td>HYPE3</td>\n",
       "      <td>0.020803</td>\n",
       "    </tr>\n",
       "    <tr>\n",
       "      <th>8</th>\n",
       "      <td>GOAU4</td>\n",
       "      <td>0.020583</td>\n",
       "    </tr>\n",
       "    <tr>\n",
       "      <th>9</th>\n",
       "      <td>VALE3</td>\n",
       "      <td>0.020583</td>\n",
       "    </tr>\n",
       "  </tbody>\n",
       "</table>\n",
       "</div>"
      ],
      "text/plain": [
       "  Stocks  Asset Allocation\n",
       "0  TIMP3          0.348924\n",
       "1  EQTL3          0.097893\n",
       "2  GOLL4          0.068949\n",
       "3  GGBR4          0.066672\n",
       "4  BRPR3          0.042655\n",
       "5  ENBR3          0.038976\n",
       "6  LIGT3          0.027225\n",
       "7  HYPE3          0.020803\n",
       "8  GOAU4          0.020583\n",
       "9  VALE3          0.020583"
      ]
     },
     "execution_count": 37,
     "metadata": {},
     "output_type": "execute_result"
    }
   ],
   "source": [
    "investment_A.iloc[:10]"
   ]
  },
  {
   "cell_type": "code",
   "execution_count": 38,
   "metadata": {
    "execution": {
     "iopub.execute_input": "2020-06-30T02:41:41.090Z",
     "iopub.status.busy": "2020-06-30T02:41:41.069Z",
     "iopub.status.idle": "2020-06-30T02:41:41.141Z",
     "shell.execute_reply": "2020-06-30T02:41:41.170Z"
    }
   },
   "outputs": [
    {
     "data": {
      "text/html": [
       "<div>\n",
       "<style scoped>\n",
       "    .dataframe tbody tr th:only-of-type {\n",
       "        vertical-align: middle;\n",
       "    }\n",
       "\n",
       "    .dataframe tbody tr th {\n",
       "        vertical-align: top;\n",
       "    }\n",
       "\n",
       "    .dataframe thead th {\n",
       "        text-align: right;\n",
       "    }\n",
       "</style>\n",
       "<table border=\"1\" class=\"dataframe\">\n",
       "  <thead>\n",
       "    <tr style=\"text-align: right;\">\n",
       "      <th></th>\n",
       "      <th>Stocks</th>\n",
       "      <th>Asset Allocation</th>\n",
       "    </tr>\n",
       "  </thead>\n",
       "  <tbody>\n",
       "    <tr>\n",
       "      <th>35</th>\n",
       "      <td>PETR4</td>\n",
       "      <td>0.003294</td>\n",
       "    </tr>\n",
       "    <tr>\n",
       "      <th>36</th>\n",
       "      <td>BRML3</td>\n",
       "      <td>0.003235</td>\n",
       "    </tr>\n",
       "    <tr>\n",
       "      <th>37</th>\n",
       "      <td>ITUB4</td>\n",
       "      <td>0.002835</td>\n",
       "    </tr>\n",
       "    <tr>\n",
       "      <th>38</th>\n",
       "      <td>BBDC4</td>\n",
       "      <td>0.002754</td>\n",
       "    </tr>\n",
       "    <tr>\n",
       "      <th>39</th>\n",
       "      <td>ITSA4</td>\n",
       "      <td>0.002699</td>\n",
       "    </tr>\n",
       "  </tbody>\n",
       "</table>\n",
       "</div>"
      ],
      "text/plain": [
       "   Stocks  Asset Allocation\n",
       "35  PETR4          0.003294\n",
       "36  BRML3          0.003235\n",
       "37  ITUB4          0.002835\n",
       "38  BBDC4          0.002754\n",
       "39  ITSA4          0.002699"
      ]
     },
     "execution_count": 38,
     "metadata": {},
     "output_type": "execute_result"
    }
   ],
   "source": [
    "investment_A.tail()"
   ]
  },
  {
   "cell_type": "markdown",
   "metadata": {
    "colab_type": "text",
    "id": "ZrY59eywReLg"
   },
   "source": [
    "It's worth pointing out that the methods we've used to generate the asset allocation weights differ dramatically from the contemporary methods of MPT and its extensions. The approach taken in this project makes no assumptions of future outcomes of a portfolio, i.e., the algorithm doesn't require us to make a prediction of the expected returns (as MPT does). What's more---we're not solving an optimization problem---there's nothing to be minimized or maximized. Instead, we observe the topology (interrelatedness) of our portfolio, predict which assets are the most susceptible to the communicability of volatile behaviour and allocate capital accordingly."
   ]
  },
  {
   "cell_type": "code",
   "execution_count": 39,
   "metadata": {
    "execution": {
     "iopub.execute_input": "2020-06-30T02:42:20.586Z",
     "iopub.status.busy": "2020-06-30T02:42:20.554Z",
     "iopub.status.idle": "2020-06-30T02:42:20.646Z",
     "shell.execute_reply": "2020-06-30T02:42:20.679Z"
    },
    "jupyter": {
     "outputs_hidden": false,
     "source_hidden": false
    },
    "nteract": {
     "transient": {
      "deleting": false
     }
    }
   },
   "outputs": [
    {
     "data": {
      "text/plain": [
       "'2016-12-29'"
      ]
     },
     "execution_count": 39,
     "metadata": {},
     "output_type": "execute_result"
    }
   ],
   "source": [
    "df_train_close_copy.index.max()"
   ]
  },
  {
   "cell_type": "code",
   "execution_count": 40,
   "metadata": {
    "colab": {},
    "colab_type": "code",
    "execution": {
     "iopub.execute_input": "2020-06-30T02:42:22.811Z",
     "iopub.status.busy": "2020-06-30T02:42:22.784Z",
     "iopub.status.idle": "2020-06-30T02:42:22.870Z",
     "shell.execute_reply": "2020-06-30T02:42:22.909Z"
    },
    "id": "pIFcc1KBReLh",
    "scrolled": true
   },
   "outputs": [
    {
     "data": {
      "text/html": [
       "<div>\n",
       "<style scoped>\n",
       "    .dataframe tbody tr th:only-of-type {\n",
       "        vertical-align: middle;\n",
       "    }\n",
       "\n",
       "    .dataframe tbody tr th {\n",
       "        vertical-align: top;\n",
       "    }\n",
       "\n",
       "    .dataframe thead th {\n",
       "        text-align: right;\n",
       "    }\n",
       "</style>\n",
       "<table border=\"1\" class=\"dataframe\">\n",
       "  <thead>\n",
       "    <tr style=\"text-align: right;\">\n",
       "      <th></th>\n",
       "      <th>Buy In: 2016-12-29</th>\n",
       "    </tr>\n",
       "    <tr>\n",
       "      <th>Ticker</th>\n",
       "      <th></th>\n",
       "    </tr>\n",
       "  </thead>\n",
       "  <tbody>\n",
       "    <tr>\n",
       "      <th>ABCB4</th>\n",
       "      <td>13.93</td>\n",
       "    </tr>\n",
       "    <tr>\n",
       "      <th>BBAS3</th>\n",
       "      <td>28.09</td>\n",
       "    </tr>\n",
       "    <tr>\n",
       "      <th>BBDC4</th>\n",
       "      <td>29.00</td>\n",
       "    </tr>\n",
       "    <tr>\n",
       "      <th>BRAP4</th>\n",
       "      <td>14.85</td>\n",
       "    </tr>\n",
       "    <tr>\n",
       "      <th>BRML3</th>\n",
       "      <td>11.95</td>\n",
       "    </tr>\n",
       "    <tr>\n",
       "      <th>BRPR3</th>\n",
       "      <td>7.50</td>\n",
       "    </tr>\n",
       "    <tr>\n",
       "      <th>CCRO3</th>\n",
       "      <td>15.96</td>\n",
       "    </tr>\n",
       "    <tr>\n",
       "      <th>CMIG4</th>\n",
       "      <td>7.71</td>\n",
       "    </tr>\n",
       "    <tr>\n",
       "      <th>CPFE3</th>\n",
       "      <td>25.21</td>\n",
       "    </tr>\n",
       "    <tr>\n",
       "      <th>CSAN3</th>\n",
       "      <td>38.15</td>\n",
       "    </tr>\n",
       "    <tr>\n",
       "      <th>CSNA3</th>\n",
       "      <td>10.85</td>\n",
       "    </tr>\n",
       "    <tr>\n",
       "      <th>CYRE3</th>\n",
       "      <td>10.27</td>\n",
       "    </tr>\n",
       "    <tr>\n",
       "      <th>DTEX3</th>\n",
       "      <td>6.80</td>\n",
       "    </tr>\n",
       "    <tr>\n",
       "      <th>ECOR3</th>\n",
       "      <td>8.24</td>\n",
       "    </tr>\n",
       "    <tr>\n",
       "      <th>ELET3</th>\n",
       "      <td>22.81</td>\n",
       "    </tr>\n",
       "    <tr>\n",
       "      <th>ENBR3</th>\n",
       "      <td>13.40</td>\n",
       "    </tr>\n",
       "    <tr>\n",
       "      <th>EQTL3</th>\n",
       "      <td>54.40</td>\n",
       "    </tr>\n",
       "    <tr>\n",
       "      <th>EVEN3</th>\n",
       "      <td>3.70</td>\n",
       "    </tr>\n",
       "    <tr>\n",
       "      <th>EZTC3</th>\n",
       "      <td>15.65</td>\n",
       "    </tr>\n",
       "    <tr>\n",
       "      <th>GFSA3</th>\n",
       "      <td>1.86</td>\n",
       "    </tr>\n",
       "    <tr>\n",
       "      <th>GGBR4</th>\n",
       "      <td>10.80</td>\n",
       "    </tr>\n",
       "    <tr>\n",
       "      <th>GOAU4</th>\n",
       "      <td>4.80</td>\n",
       "    </tr>\n",
       "    <tr>\n",
       "      <th>GOLL4</th>\n",
       "      <td>4.62</td>\n",
       "    </tr>\n",
       "    <tr>\n",
       "      <th>HYPE3</th>\n",
       "      <td>26.13</td>\n",
       "    </tr>\n",
       "    <tr>\n",
       "      <th>IGTA3</th>\n",
       "      <td>26.67</td>\n",
       "    </tr>\n",
       "    <tr>\n",
       "      <th>ITSA4</th>\n",
       "      <td>8.28</td>\n",
       "    </tr>\n",
       "    <tr>\n",
       "      <th>ITUB4</th>\n",
       "      <td>33.85</td>\n",
       "    </tr>\n",
       "    <tr>\n",
       "      <th>LAME4</th>\n",
       "      <td>17.00</td>\n",
       "    </tr>\n",
       "    <tr>\n",
       "      <th>LIGT3</th>\n",
       "      <td>17.36</td>\n",
       "    </tr>\n",
       "    <tr>\n",
       "      <th>LREN3</th>\n",
       "      <td>23.17</td>\n",
       "    </tr>\n",
       "    <tr>\n",
       "      <th>MRVE3</th>\n",
       "      <td>10.94</td>\n",
       "    </tr>\n",
       "    <tr>\n",
       "      <th>MULT3</th>\n",
       "      <td>59.38</td>\n",
       "    </tr>\n",
       "    <tr>\n",
       "      <th>PETR4</th>\n",
       "      <td>14.87</td>\n",
       "    </tr>\n",
       "    <tr>\n",
       "      <th>RENT3</th>\n",
       "      <td>34.22</td>\n",
       "    </tr>\n",
       "    <tr>\n",
       "      <th>SBSP3</th>\n",
       "      <td>28.79</td>\n",
       "    </tr>\n",
       "    <tr>\n",
       "      <th>TCSA3</th>\n",
       "      <td>2.16</td>\n",
       "    </tr>\n",
       "    <tr>\n",
       "      <th>TIMP3</th>\n",
       "      <td>7.83</td>\n",
       "    </tr>\n",
       "    <tr>\n",
       "      <th>UGPA3</th>\n",
       "      <td>68.45</td>\n",
       "    </tr>\n",
       "    <tr>\n",
       "      <th>VALE3</th>\n",
       "      <td>25.68</td>\n",
       "    </tr>\n",
       "    <tr>\n",
       "      <th>VIVT4</th>\n",
       "      <td>44.08</td>\n",
       "    </tr>\n",
       "  </tbody>\n",
       "</table>\n",
       "</div>"
      ],
      "text/plain": [
       "        Buy In: 2016-12-29\n",
       "Ticker                    \n",
       "ABCB4                13.93\n",
       "BBAS3                28.09\n",
       "BBDC4                29.00\n",
       "BRAP4                14.85\n",
       "BRML3                11.95\n",
       "BRPR3                 7.50\n",
       "CCRO3                15.96\n",
       "CMIG4                 7.71\n",
       "CPFE3                25.21\n",
       "CSAN3                38.15\n",
       "CSNA3                10.85\n",
       "CYRE3                10.27\n",
       "DTEX3                 6.80\n",
       "ECOR3                 8.24\n",
       "ELET3                22.81\n",
       "ENBR3                13.40\n",
       "EQTL3                54.40\n",
       "EVEN3                 3.70\n",
       "EZTC3                15.65\n",
       "GFSA3                 1.86\n",
       "GGBR4                10.80\n",
       "GOAU4                 4.80\n",
       "GOLL4                 4.62\n",
       "HYPE3                26.13\n",
       "IGTA3                26.67\n",
       "ITSA4                 8.28\n",
       "ITUB4                33.85\n",
       "LAME4                17.00\n",
       "LIGT3                17.36\n",
       "LREN3                23.17\n",
       "MRVE3                10.94\n",
       "MULT3                59.38\n",
       "PETR4                14.87\n",
       "RENT3                34.22\n",
       "SBSP3                28.79\n",
       "TCSA3                 2.16\n",
       "TIMP3                 7.83\n",
       "UGPA3                68.45\n",
       "VALE3                25.68\n",
       "VIVT4                44.08"
      ]
     },
     "execution_count": 40,
     "metadata": {},
     "output_type": "execute_result"
    }
   ],
   "source": [
    "# DataFrame of the prices we buy stock at\n",
    "df_buy_in = df_train_close_copy.loc[TRAIN_RANGE[1]].sort_index().to_frame('Buy In: {}'.format(TRAIN_RANGE[1]))\n",
    "df_buy_in"
   ]
  },
  {
   "cell_type": "markdown",
   "metadata": {
    "colab_type": "text",
    "id": "RdYtLtGcReLi"
   },
   "source": [
    "## Alternative Allocation Strategy: Allocate Capital in the Maximum Independent Set\n",
    "\n",
    "The maximum independent set (MIS) is the largest set of vertices such that no two are adjacent. Applied to our asset correlation network, the MIS is the greatest number of assets such that every pair has a correlation below $\\rho_{c}$. The size of the MIS is inversely proportional to the threshold $\\rho_{c}$. Larger values of $\\rho_{c}$ produce a sparse network (more edges are removed) and therefore the MIS tends to be larger. An optimized portfolio would therefore correspond to maximizing the size of the MIS subject to minimizing $\\rho_{c}$. The best way to do this is to increase the universe of assets we're willing to invest in. By further diversifying the portfolio with many asset types and classes, we can isolate the largest number of minimally correlated assets and allocate capital inversely proportional to their relative risk. While generating the asset weights remains a non-optimization problem, generating the asset correlation network *becomes* one. We're really solving two sepreate problems: determing how to build the asset correlation network (there are many) and determining which graph invariants (there are many) extract the asset weights from the network. As such, one can easily imagine a vast landscape of portfolios beyond that of MPT and a metric fuck-tonne of wealth to create. **Unfortunately, solving the MIS problem is NP-hard. The best we can do is find an approximation.**\n",
    "\n",
    "## Using Expert Knowledge to Approximate the Maximum Independent Set\n",
    "\n",
    "We have two options: randomly generate a list of maximal indpendent sets (subgraphs of $G$ such that no two vertices share an edge) and select the largest one, or use expert knowledge to reduce the number of sets to generate and do the latter. Both methods are imperfect, but the former is far more computationally expensive than the latter. Suppose we do fundamentals research and conclude ITUB4 must be in our portfolio. How could we imbue the algorithm with this knowledge? Can we make the algorithm flexible enough for portfolio managers to fine-tune with goold-ole' fashioned research, while at the same time keeping it rigged enough to prevent poor decisions from producing terribe portfolios? We confront this problem in the code block below by extracting an approximate MIS by generating 100 random maximal indpendent sets containing ITUB4."
   ]
  },
  {
   "cell_type": "code",
   "execution_count": 41,
   "metadata": {
    "colab": {
     "base_uri": "https://localhost:8080/",
     "height": 34
    },
    "colab_type": "code",
    "execution": {
     "iopub.execute_input": "2020-06-30T02:42:31.366Z",
     "iopub.status.busy": "2020-06-30T02:42:31.336Z",
     "iopub.status.idle": "2020-06-30T02:42:31.412Z",
     "shell.execute_reply": "2020-06-30T02:42:31.438Z"
    },
    "id": "m_TziKb2ReLj",
    "outputId": "5748c64b-157f-45a9-9135-2c9fb4a25064",
    "scrolled": true
   },
   "outputs": [],
   "source": [
    "# a function to generate a random approximate MIS\n",
    "### WARNING: rerunning kernel will produce different MISs\n",
    "from header import generate_mis"
   ]
  },
  {
   "cell_type": "code",
   "execution_count": 42,
   "metadata": {
    "execution": {
     "iopub.execute_input": "2020-06-30T02:42:33.694Z",
     "iopub.status.busy": "2020-06-30T02:42:33.661Z",
     "iopub.status.idle": "2020-06-30T02:42:33.750Z",
     "shell.execute_reply": "2020-06-30T02:42:33.780Z"
    }
   },
   "outputs": [
    {
     "name": "stdout",
     "output_type": "stream",
     "text": [
      "['ELET3', 'BRPR3', 'GFSA3', 'CSAN3', 'EZTC3', 'IGTA3', 'GGBR4', 'LAME4', 'EQTL3', 'ENBR3', 'GOLL4', 'HYPE3', 'TIMP3', 'DTEX3', 'TCSA3', 'ABCB4', 'RENT3', 'SBSP3']\n"
     ]
    }
   ],
   "source": [
    "max_ind_set = generate_mis(H_close, sample_size=500)\n",
    "print(max_ind_set)"
   ]
  },
  {
   "cell_type": "markdown",
   "metadata": {
    "colab_type": "text",
    "id": "atrHCDPAReLl"
   },
   "source": [
    "The ```generate_mis``` function generates a maximal independent set that approximates the true maximum independent set. As an option, the user can pick a list of assets they want in their portfolio and ```generate_mis``` will return the safest assets to complement the user's choice. Picking UNH and AMZN left us with VZ and MCD. The weights of these assets will remain directly inversely proportional to the communicability betweeness centrality."
   ]
  },
  {
   "cell_type": "code",
   "execution_count": 43,
   "metadata": {
    "colab": {
     "base_uri": "https://localhost:8080/",
     "height": 204
    },
    "colab_type": "code",
    "execution": {
     "iopub.execute_input": "2020-06-30T02:42:37.980Z",
     "iopub.status.busy": "2020-06-30T02:42:37.957Z",
     "iopub.status.idle": "2020-06-30T02:42:38.038Z",
     "shell.execute_reply": "2020-06-30T02:42:38.064Z"
    },
    "id": "p-HOJndfReLl",
    "outputId": "17e26ac0-3b60-4303-e0fe-235c45b0c84d"
   },
   "outputs": [
    {
     "data": {
      "text/html": [
       "<div>\n",
       "<style scoped>\n",
       "    .dataframe tbody tr th:only-of-type {\n",
       "        vertical-align: middle;\n",
       "    }\n",
       "\n",
       "    .dataframe tbody tr th {\n",
       "        vertical-align: top;\n",
       "    }\n",
       "\n",
       "    .dataframe thead th {\n",
       "        text-align: right;\n",
       "    }\n",
       "</style>\n",
       "<table border=\"1\" class=\"dataframe\">\n",
       "  <thead>\n",
       "    <tr style=\"text-align: right;\">\n",
       "      <th></th>\n",
       "      <th>Buy In: 2016-12-29</th>\n",
       "    </tr>\n",
       "    <tr>\n",
       "      <th>Ticker</th>\n",
       "      <th></th>\n",
       "    </tr>\n",
       "  </thead>\n",
       "  <tbody>\n",
       "    <tr>\n",
       "      <th>ELET3</th>\n",
       "      <td>22.81</td>\n",
       "    </tr>\n",
       "    <tr>\n",
       "      <th>BRPR3</th>\n",
       "      <td>7.50</td>\n",
       "    </tr>\n",
       "    <tr>\n",
       "      <th>GFSA3</th>\n",
       "      <td>1.86</td>\n",
       "    </tr>\n",
       "    <tr>\n",
       "      <th>CSAN3</th>\n",
       "      <td>38.15</td>\n",
       "    </tr>\n",
       "    <tr>\n",
       "      <th>EZTC3</th>\n",
       "      <td>15.65</td>\n",
       "    </tr>\n",
       "    <tr>\n",
       "      <th>IGTA3</th>\n",
       "      <td>26.67</td>\n",
       "    </tr>\n",
       "    <tr>\n",
       "      <th>GGBR4</th>\n",
       "      <td>10.80</td>\n",
       "    </tr>\n",
       "    <tr>\n",
       "      <th>LAME4</th>\n",
       "      <td>17.00</td>\n",
       "    </tr>\n",
       "    <tr>\n",
       "      <th>EQTL3</th>\n",
       "      <td>54.40</td>\n",
       "    </tr>\n",
       "    <tr>\n",
       "      <th>ENBR3</th>\n",
       "      <td>13.40</td>\n",
       "    </tr>\n",
       "    <tr>\n",
       "      <th>GOLL4</th>\n",
       "      <td>4.62</td>\n",
       "    </tr>\n",
       "    <tr>\n",
       "      <th>HYPE3</th>\n",
       "      <td>26.13</td>\n",
       "    </tr>\n",
       "    <tr>\n",
       "      <th>TIMP3</th>\n",
       "      <td>7.83</td>\n",
       "    </tr>\n",
       "    <tr>\n",
       "      <th>DTEX3</th>\n",
       "      <td>6.80</td>\n",
       "    </tr>\n",
       "    <tr>\n",
       "      <th>TCSA3</th>\n",
       "      <td>2.16</td>\n",
       "    </tr>\n",
       "    <tr>\n",
       "      <th>ABCB4</th>\n",
       "      <td>13.93</td>\n",
       "    </tr>\n",
       "    <tr>\n",
       "      <th>RENT3</th>\n",
       "      <td>34.22</td>\n",
       "    </tr>\n",
       "    <tr>\n",
       "      <th>SBSP3</th>\n",
       "      <td>28.79</td>\n",
       "    </tr>\n",
       "  </tbody>\n",
       "</table>\n",
       "</div>"
      ],
      "text/plain": [
       "        Buy In: 2016-12-29\n",
       "Ticker                    \n",
       "ELET3                22.81\n",
       "BRPR3                 7.50\n",
       "GFSA3                 1.86\n",
       "CSAN3                38.15\n",
       "EZTC3                15.65\n",
       "IGTA3                26.67\n",
       "GGBR4                10.80\n",
       "LAME4                17.00\n",
       "EQTL3                54.40\n",
       "ENBR3                13.40\n",
       "GOLL4                 4.62\n",
       "HYPE3                26.13\n",
       "TIMP3                 7.83\n",
       "DTEX3                 6.80\n",
       "TCSA3                 2.16\n",
       "ABCB4                13.93\n",
       "RENT3                34.22\n",
       "SBSP3                28.79"
      ]
     },
     "execution_count": 43,
     "metadata": {},
     "output_type": "execute_result"
    }
   ],
   "source": [
    "# prices of shares to buy for the MIS\n",
    "df_mis_buy_in = df_buy_in.loc[list(max_ind_set)]\n",
    "df_mis_buy_in"
   ]
  },
  {
   "cell_type": "markdown",
   "metadata": {
    "colab_type": "text",
    "id": "C0ROB5CQReLn"
   },
   "source": [
    "# Backtesting with Modern Portfolio Theory\n",
    "\n",
    "Now that we have a viable alternative to portfolio optimization, it's time to see how the Hedgecraft portfolio performed in the validation years (15', 16', and 17') with respect to the Markowitz portfolio (i.e., the [efficient frontier](https://www.investopedia.com/video/play/explaining-efficient-frontier/) model) and the overall market. To summarize our workflow thus far we:\n",
    "\n",
    "1. Preprocessed historical pricing data of 31 stocks for time series analyses.\n",
    "2. Computed the distance correlation matrix $\\rho_{D}(X_{i}, X_{j})$ for the ``Open``, ``High``, ``Low``, ``Close``, and ``Close_diff`` from 2006-2014.\n",
    "3. Used the NetworkX module to transform each distance correlation matrix into a weighted graph.\n",
    "4. Adopted the winner-take-all method by Tse, et al. and removed edges with correlations below a threshold value of $\\rho_{c} = 0.325$.\n",
    "5. Built a master network by averaging over the edge weights of the ``Open``, ``High``, ``Low``, ``Close``, and ``Close_diff`` networks.\n",
    "6. Calculated the \"relative risk\" of each asset as the communicabality betweeness centrality assigned to each node.\n",
    "7. Generated the asset weights as the normalized inverse of communicability betweeness centrality.\n",
    "\n",
    "In addition to the above steps, we introduced a human-in-the-middle strategy, giving the user flexible control over the portfolio construction process. This is the extra step we added:\n",
    "\n",
    "8. Adjust the asset weights for an approximate maximum independent set, either with or without human intervention.\n",
    "\n",
    "To distinguish bewteen these two approaches we designate steps 1-7 as the *Hedgecraft* algo and steps 1-8 as the *Hedgecraft MIS* algo. Below we observe how these models perform with the Efficient Frontier as a benchmark."
   ]
  },
  {
   "cell_type": "markdown",
   "metadata": {
    "colab_type": "text",
    "id": "MYDsg_LEReLn"
   },
   "source": [
    "## Generating Hedgecraft Portfolio Weights"
   ]
  },
  {
   "cell_type": "code",
   "execution_count": 44,
   "metadata": {
    "colab": {
     "base_uri": "https://localhost:8080/",
     "height": 105
    },
    "colab_type": "code",
    "execution": {
     "iopub.execute_input": "2020-06-30T02:42:44.855Z",
     "iopub.status.busy": "2020-06-30T02:42:44.823Z",
     "iopub.status.idle": "2020-06-30T02:42:44.918Z",
     "shell.execute_reply": "2020-06-30T02:42:44.943Z"
    },
    "id": "F-fuUb4HReLo",
    "outputId": "ca80d5da-2587-4589-cf0a-5a6db7a99e5f"
   },
   "outputs": [
    {
     "name": "stdout",
     "output_type": "stream",
     "text": [
      "{'ABCB4': 0.004, 'BBAS3': 0.001, 'BBDC4': 0.0, 'BRAP4': 0.009, 'BRML3': 0.001, 'BRPR3': 0.027, 'CCRO3': 0.001, 'CMIG4': 0.001, 'CPFE3': 0.001, 'CSAN3': 0.003, 'CSNA3': 0.009, 'CYRE3': 0.001, 'DTEX3': 0.004, 'ECOR3': 0.002, 'ELET3': 0.002, 'ENBR3': 0.023, 'EQTL3': 0.093, 'EVEN3': 0.001, 'EZTC3': 0.002, 'GFSA3': 0.009, 'GGBR4': 0.053, 'GOAU4': 0.009, 'GOLL4': 0.055, 'HYPE3': 0.009, 'IGTA3': 0.003, 'ITSA4': 0.0, 'ITUB4': 0.0, 'LAME4': 0.001, 'LIGT3': 0.014, 'LREN3': 0.001, 'MRVE3': 0.006, 'MULT3': 0.001, 'PETR4': 0.001, 'RENT3': 0.002, 'SBSP3': 0.004, 'TCSA3': 0.005, 'TIMP3': 0.629, 'UGPA3': 0.001, 'VALE3': 0.009, 'VIVT4': 0.003}\n",
      "\n",
      "\n",
      "{'ELET3': 0.002, 'BRPR3': 0.029, 'GFSA3': 0.009, 'CSAN3': 0.003, 'EZTC3': 0.002, 'IGTA3': 0.003, 'GGBR4': 0.057, 'LAME4': 0.001, 'EQTL3': 0.101, 'ENBR3': 0.025, 'GOLL4': 0.06, 'HYPE3': 0.01, 'TIMP3': 0.678, 'DTEX3': 0.004, 'TCSA3': 0.006, 'ABCB4': 0.004, 'RENT3': 0.002, 'SBSP3': 0.004}\n"
     ]
    }
   ],
   "source": [
    "# calculates communicability betweeness centrality\n",
    "weights = nx.communicability_betweenness_centrality(H_close)\n",
    "#weights = nx.eigenvector_centrality(H_master)\n",
    "\n",
    "# dictionary comprehension of communicability centrality for the maximum independent set\n",
    "mis_weights = {key: weights[key] for key in list(max_ind_set)}\n",
    "\n",
    "\n",
    "# a function to convert centrality scores to portfolio weights\n",
    "from header import centrality_to_portfolio_weights\n",
    "\n",
    "print(centrality_to_portfolio_weights(weights))\n",
    "print('\\n')\n",
    "print(centrality_to_portfolio_weights(mis_weights))"
   ]
  },
  {
   "cell_type": "markdown",
   "metadata": {
    "colab_type": "text",
    "id": "OsY7QJUFReLq"
   },
   "source": [
    "Hedgecraft MIS allocates a staggering 91.4% of the investment to UNH. At first sight this portfolio appears far less diversified than Hedgecraft. However, if we recall, the relative risk of UNH was two orders of magnitude smaller than **every** other security (with the sole exception of Altaba). If our only options are the above 31 securities, the algorithm predicts UNH is the safest pick and allocates accordingly."
   ]
  },
  {
   "cell_type": "markdown",
   "metadata": {
    "colab_type": "text",
    "id": "i5CvyNCLReLq"
   },
   "source": [
    "## Allocating Shares to the Hedgecraft Portfolio"
   ]
  },
  {
   "cell_type": "code",
   "execution_count": null,
   "metadata": {
    "colab": {
     "base_uri": "https://localhost:8080/",
     "height": 581
    },
    "colab_type": "code",
    "id": "ncKBdztGZQ_Y",
    "outputId": "567fe98e-3f90-4f82-a152-50d97723216f"
   },
   "outputs": [],
   "source": [
    "# !pip install pyportfolioopt"
   ]
  },
  {
   "cell_type": "code",
   "execution_count": 45,
   "metadata": {
    "colab": {
     "base_uri": "https://localhost:8080/",
     "height": 51
    },
    "colab_type": "code",
    "execution": {
     "iopub.execute_input": "2020-06-30T02:42:52.038Z",
     "iopub.status.busy": "2020-06-30T02:42:52.009Z",
     "iopub.status.idle": "2020-06-30T02:42:52.090Z",
     "shell.execute_reply": "2020-06-30T02:42:52.116Z"
    },
    "id": "H2XN4A6KReLr",
    "outputId": "4554b691-70f7-487e-a61a-b16051ba367f"
   },
   "outputs": [
    {
     "name": "stdout",
     "output_type": "stream",
     "text": [
      "33 out of 40 tickers were removed\n",
      "12 out of 18 tickers were removed\n"
     ]
    }
   ],
   "source": [
    "# imports a tool to convert capital into shares\n",
    "from pypfopt import discrete_allocation\n",
    "\n",
    "# returns the number of shares to buy given the asset weights, prices, and capital to invest\n",
    "alloc = discrete_allocation.DiscreteAllocation(\n",
    "    weights, \n",
    "    df_buy_in['Buy In: {}'.format(TRAIN_RANGE[1])],\n",
    "    total_portfolio_value=capital\n",
    ")\n",
    "\n",
    "# returns same as above but for the MIS\n",
    "mis_alloc = discrete_allocation.DiscreteAllocation(\n",
    "    mis_weights, \n",
    "    df_mis_buy_in['Buy In: {}'.format(TRAIN_RANGE[1])],\n",
    "    total_portfolio_value=capital\n",
    ")"
   ]
  },
  {
   "cell_type": "code",
   "execution_count": 46,
   "metadata": {
    "colab": {},
    "colab_type": "code",
    "execution": {
     "iopub.execute_input": "2020-06-30T02:42:55.777Z",
     "iopub.status.busy": "2020-06-30T02:42:55.747Z",
     "iopub.status.idle": "2020-06-30T02:42:55.905Z",
     "shell.execute_reply": "2020-06-30T02:42:55.939Z"
    },
    "id": "QGKbznPUReLt"
   },
   "outputs": [],
   "source": [
    "alloc = alloc.greedy_portfolio()[0]\n",
    "\n",
    "mis_alloc = mis_alloc.greedy_portfolio()[0]"
   ]
  },
  {
   "cell_type": "code",
   "execution_count": 47,
   "metadata": {
    "colab": {
     "base_uri": "https://localhost:8080/",
     "height": 714
    },
    "colab_type": "code",
    "execution": {
     "iopub.execute_input": "2020-06-30T02:42:57.493Z",
     "iopub.status.busy": "2020-06-30T02:42:57.447Z",
     "iopub.status.idle": "2020-06-30T02:42:57.586Z",
     "shell.execute_reply": "2020-06-30T02:42:57.632Z"
    },
    "id": "WPwjx22YReLv",
    "outputId": "6d1365fa-bef5-4a9a-fb83-9bd7ea66d150"
   },
   "outputs": [
    {
     "name": "stdout",
     "output_type": "stream",
     "text": [
      "Assets\n",
      "TIMP3    803\n",
      "EQTL3     17\n",
      "GOLL4    119\n",
      "GGBR4     49\n",
      "BRPR3     36\n",
      "ENBR3     17\n",
      "LIGT3      8\n",
      "Name: Shares, dtype: int64\n",
      "\n",
      "\n",
      "Assets\n",
      "TIMP3    865\n",
      "EQTL3     18\n",
      "GOLL4    129\n",
      "GGBR4     52\n",
      "BRPR3     38\n",
      "ENBR3     18\n",
      "Name: MIS Shares, dtype: int64\n"
     ]
    }
   ],
   "source": [
    "# converts above shares to a pandas series\n",
    "alloc_series = pd.Series(alloc, name='Shares')\n",
    "\n",
    "# names the series\n",
    "alloc_series.index.name = 'Assets'\n",
    "\n",
    "# resets index, prints assets with the shares we buy\n",
    "alloc_series.reset_index\n",
    "print(alloc_series)\n",
    "\n",
    "print('\\n')\n",
    "\n",
    "# does same as above but for the MIS\n",
    "mis_alloc_series = pd.Series(mis_alloc, name='MIS Shares')\n",
    "mis_alloc_series.index.name = 'Assets'\n",
    "mis_alloc_series.reset_index\n",
    "print(mis_alloc_series)"
   ]
  },
  {
   "cell_type": "code",
   "execution_count": 48,
   "metadata": {
    "colab": {},
    "colab_type": "code",
    "execution": {
     "iopub.execute_input": "2020-06-30T02:43:01.222Z",
     "iopub.status.busy": "2020-06-30T02:43:01.187Z",
     "iopub.status.idle": "2020-06-30T02:43:01.272Z",
     "shell.execute_reply": "2020-06-30T02:43:01.302Z"
    },
    "id": "_ipGaCQWReLw"
   },
   "outputs": [],
   "source": [
    "# converts Hedgecraft shares series to a DataFrame\n",
    "df_alloc = alloc_series.sort_index().to_frame('Shares')\n",
    "\n",
    "# converts Hedgecraft MIS shares series to a DataFrame\n",
    "df_mis_alloc = mis_alloc_series.sort_index().to_frame('MIS Shares')"
   ]
  },
  {
   "cell_type": "code",
   "execution_count": 49,
   "metadata": {
    "execution": {
     "iopub.execute_input": "2020-06-30T02:43:02.207Z",
     "iopub.status.busy": "2020-06-30T02:43:02.170Z",
     "iopub.status.idle": "2020-06-30T02:43:02.539Z",
     "shell.execute_reply": "2020-06-30T02:43:02.568Z"
    }
   },
   "outputs": [],
   "source": [
    "df_mis_alloc.to_csv(\"data/mis_alloc.csv\")\n",
    "df_alloc.to_csv(\"data/mrp_alloc.csv\")"
   ]
  },
  {
   "cell_type": "markdown",
   "metadata": {
    "colab_type": "text",
    "id": "Kn0hQLJoReLy"
   },
   "source": [
    "##  The Efficient Frontier\n",
    "\n",
    "Harry Markowitz's 1952 paper [Portfolio Selection](https://www.math.ust.hk/~maykwok/courses/ma362/07F/markowitz_JF.pdf) transformed portfolio management from an art to a science. Markowitz's key insight came from diversification: by combinining uncorrelated assets with different expected returns and volatilities, one can calculate an optimal allocation.\n",
    "\n",
    "The main idea is this: if $w$ is the fraction of capital to be allocated to some asset, then the portfolio risk in terms of the covariance matrix $\\Sigma$ is given by $w^{\\top}\\Sigma w$ and its expected returns are given by $w^{\\top}\\mu$. The optimal portfolio can therefore be regarded as a convex optimization problem, and a solution can be found with quadratic programming. Denoting the target returns as $\\mu*$ the optimization problem is mathmeatically expressed as follows:\n",
    "<br/><br/>\n",
    "<center>\\begin{split}\\begin{equation*}\n",
    "\\begin{aligned}\n",
    "& \\underset{w}{\\text{minimise}} & & w^T \\Sigma w \\\\\n",
    "& \\text{subject to} & & w^T\\mu \\geq \\mu^*\\\\\n",
    "&&& w^T\\mathbf{1} = 1 \\\\\n",
    "&&& w_i \\geq 0 \\\\\n",
    "\\end{aligned}\n",
    "\\end{equation*}\\end{split}</center>\n",
    "\n",
    "Varying the target return yields a different set of weights (i.e., a different portfolio). The set of all the portfolios with optimal weights is referred to as the **efficient frontier**.\n",
    "\n",
    "![](https://pyportfolioopt.readthedocs.io/en/latest/_images/efficient_frontier.png)\n",
    "\n",
    "Each dot in the above plot represents a different possible portoflio, with darker blue corresponding to better portfolios (in terms of the Sharpe ratio). The dotted black line is the frontier. The triangular markers denote the optimal portfolios subjected to different optimization objectives.\n",
    "\n",
    "In the code blocks bellow we use the PyPortfolioOpt library to implement the Efficient Frontier algorithm. Rather than optimizing for a maximum Sharpe ratio, we optimize for a minimum volatility as these portfolios tend to outperform portfolio's with a maximized Sharpe ratio."
   ]
  },
  {
   "cell_type": "code",
   "execution_count": 50,
   "metadata": {
    "colab": {},
    "colab_type": "code",
    "execution": {
     "iopub.execute_input": "2020-06-30T02:43:09.260Z",
     "iopub.status.busy": "2020-06-30T02:43:09.219Z",
     "iopub.status.idle": "2020-06-30T02:43:09.767Z",
     "shell.execute_reply": "2020-06-30T02:43:09.792Z"
    },
    "id": "xW8ycRAtReLy"
   },
   "outputs": [],
   "source": [
    "# imports a tool to calculate the mean historical return from a \n",
    "# portfolio optimization package called pypfopt\n",
    "from pypfopt.expected_returns import mean_historical_return\n",
    "\n",
    "# returns the mean historical return of the training data\n",
    "mu = mean_historical_return(df.pivot(columns='Ticker', values='Close').dropna())\n",
    "\n",
    "# computes the covariance matrix\n",
    "S = df.pivot(columns='Ticker', values='Close').dropna().cov()"
   ]
  },
  {
   "cell_type": "code",
   "execution_count": 51,
   "metadata": {
    "colab": {
     "base_uri": "https://localhost:8080/",
     "height": 54
    },
    "colab_type": "code",
    "execution": {
     "iopub.execute_input": "2020-06-30T02:43:11.052Z",
     "iopub.status.busy": "2020-06-30T02:43:11.023Z",
     "iopub.status.idle": "2020-06-30T02:43:11.609Z",
     "shell.execute_reply": "2020-06-30T02:43:11.686Z"
    },
    "id": "qgc84mpDReL0",
    "outputId": "ddb56c26-d3c0-4d6b-e183-7f47a33736b6"
   },
   "outputs": [
    {
     "name": "stdout",
     "output_type": "stream",
     "text": [
      "{'ABCB4': 0.0, 'BBAS3': 0.0, 'BBDC4': 0.0, 'BRAP4': 0.0, 'BRML3': 0.0, 'BRPR3': 0.0, 'CCRO3': 0.0, 'CMIG4': 0.0, 'CPFE3': 0.0, 'CSAN3': 0.0, 'CSNA3': 0.0, 'CYRE3': 0.0, 'DTEX3': 0.0, 'ECOR3': 0.0, 'ELET3': 0.0, 'ENBR3': 0.16285, 'EQTL3': 0.01771, 'EVEN3': 0.0, 'EZTC3': 0.0, 'GFSA3': 0.0, 'GGBR4': 0.0, 'GOAU4': 0.0, 'GOLL4': 0.0, 'HYPE3': 0.0, 'IGTA3': 0.0, 'ITSA4': 0.01722, 'ITUB4': 0.0, 'LAME4': 0.16042, 'LIGT3': 0.0, 'LREN3': 0.0, 'MRVE3': 0.0, 'MULT3': 0.0, 'PETR4': 0.0, 'RENT3': 0.0, 'SBSP3': 0.0, 'TCSA3': 0.40081, 'TIMP3': 0.20682, 'UGPA3': 0.03417, 'VALE3': 0.0, 'VIVT4': 0.0}\n"
     ]
    }
   ],
   "source": [
    "# imports the efficient frontier model for asset allocation\n",
    "from pypfopt.efficient_frontier import EfficientFrontier\n",
    "\n",
    "# runs the efficient frontier (EF) algo\n",
    "ef = EfficientFrontier(mu, S)\n",
    "\n",
    "# computes portfolio weights subject to minimizing the volatility (portfolio std)\n",
    "weights_ef = ef.min_volatility()\n",
    "\n",
    "# rounds and prints the weights\n",
    "cleaned_weights = ef.clean_weights()\n",
    "print(cleaned_weights)"
   ]
  },
  {
   "cell_type": "markdown",
   "metadata": {
    "colab_type": "text",
    "id": "8gygF3K0ReL4"
   },
   "source": [
    "## Allocating Shares to the Markowitz Portfolio"
   ]
  },
  {
   "cell_type": "code",
   "execution_count": 52,
   "metadata": {
    "colab": {
     "base_uri": "https://localhost:8080/",
     "height": 34
    },
    "colab_type": "code",
    "execution": {
     "iopub.execute_input": "2020-06-30T02:43:14.687Z",
     "iopub.status.busy": "2020-06-30T02:43:14.640Z",
     "iopub.status.idle": "2020-06-30T02:43:14.766Z",
     "shell.execute_reply": "2020-06-30T02:43:14.796Z"
    },
    "id": "TFOjj6YQReL5",
    "outputId": "a016f4db-e3f8-4c83-974d-040ac17eb2b3"
   },
   "outputs": [
    {
     "name": "stdout",
     "output_type": "stream",
     "text": [
      "33 out of 40 tickers were removed\n"
     ]
    }
   ],
   "source": [
    "# returns the number of shares to buy given asset prices, weights, and capital to invest for the EF model\n",
    "ef_alloc = discrete_allocation.DiscreteAllocation(\n",
    "    weights_ef,\n",
    "    df_buy_in['Buy In: {}'.format(TRAIN_RANGE[1])],\n",
    "    total_portfolio_value=capital\n",
    ")"
   ]
  },
  {
   "cell_type": "code",
   "execution_count": 53,
   "metadata": {
    "colab": {},
    "colab_type": "code",
    "execution": {
     "iopub.execute_input": "2020-06-30T02:43:17.459Z",
     "iopub.status.busy": "2020-06-30T02:43:17.425Z",
     "iopub.status.idle": "2020-06-30T02:43:17.512Z",
     "shell.execute_reply": "2020-06-30T02:43:17.538Z"
    },
    "id": "FlTY-0e-ReL7"
   },
   "outputs": [],
   "source": [
    "ef_alloc = ef_alloc.greedy_portfolio()[0]"
   ]
  },
  {
   "cell_type": "code",
   "execution_count": 54,
   "metadata": {
    "colab": {
     "base_uri": "https://localhost:8080/",
     "height": 119
    },
    "colab_type": "code",
    "execution": {
     "iopub.execute_input": "2020-06-30T02:43:18.678Z",
     "iopub.status.busy": "2020-06-30T02:43:18.646Z",
     "iopub.status.idle": "2020-06-30T02:43:18.734Z",
     "shell.execute_reply": "2020-06-30T02:43:18.788Z"
    },
    "id": "VeR10ADOReL9",
    "outputId": "6b2fc902-c5f0-4db3-d889-1a500d4f5e01"
   },
   "outputs": [
    {
     "data": {
      "text/plain": [
       "<bound method Series.reset_index of Assets\n",
       "TCSA3    1855\n",
       "TIMP3     264\n",
       "ENBR3     122\n",
       "LAME4      94\n",
       "UGPA3       5\n",
       "EQTL3       3\n",
       "ITSA4      21\n",
       "Name: Shares, dtype: int64>"
      ]
     },
     "execution_count": 54,
     "metadata": {},
     "output_type": "execute_result"
    }
   ],
   "source": [
    "# converts EF shares to a pandas series\n",
    "ef_alloc_series = pd.Series(ef_alloc, name='Shares')\n",
    "\n",
    "# names the series\n",
    "ef_alloc_series.index.name = 'Assets'\n",
    "\n",
    "# resets index, prints assets and the shares we buy\n",
    "ef_alloc_series.reset_index"
   ]
  },
  {
   "cell_type": "markdown",
   "metadata": {
    "colab_type": "text",
    "id": "jB--jfMkReMC"
   },
   "source": [
    "The Efficient Frontier produces a radically different portfolio than Hedgecraft or its MIS variant."
   ]
  },
  {
   "cell_type": "code",
   "execution_count": 55,
   "metadata": {
    "colab": {},
    "colab_type": "code",
    "execution": {
     "iopub.execute_input": "2020-06-30T02:43:22.517Z",
     "iopub.status.busy": "2020-06-30T02:43:22.494Z",
     "iopub.status.idle": "2020-06-30T02:43:22.571Z",
     "shell.execute_reply": "2020-06-30T02:43:22.596Z"
    },
    "id": "v_Qb3gHwReMD"
   },
   "outputs": [
    {
     "data": {
      "text/html": [
       "<div>\n",
       "<style scoped>\n",
       "    .dataframe tbody tr th:only-of-type {\n",
       "        vertical-align: middle;\n",
       "    }\n",
       "\n",
       "    .dataframe tbody tr th {\n",
       "        vertical-align: top;\n",
       "    }\n",
       "\n",
       "    .dataframe thead th {\n",
       "        text-align: right;\n",
       "    }\n",
       "</style>\n",
       "<table border=\"1\" class=\"dataframe\">\n",
       "  <thead>\n",
       "    <tr style=\"text-align: right;\">\n",
       "      <th></th>\n",
       "      <th>Shares</th>\n",
       "    </tr>\n",
       "    <tr>\n",
       "      <th>Assets</th>\n",
       "      <th></th>\n",
       "    </tr>\n",
       "  </thead>\n",
       "  <tbody>\n",
       "    <tr>\n",
       "      <th>ENBR3</th>\n",
       "      <td>122</td>\n",
       "    </tr>\n",
       "    <tr>\n",
       "      <th>EQTL3</th>\n",
       "      <td>3</td>\n",
       "    </tr>\n",
       "    <tr>\n",
       "      <th>ITSA4</th>\n",
       "      <td>21</td>\n",
       "    </tr>\n",
       "    <tr>\n",
       "      <th>LAME4</th>\n",
       "      <td>94</td>\n",
       "    </tr>\n",
       "    <tr>\n",
       "      <th>TCSA3</th>\n",
       "      <td>1855</td>\n",
       "    </tr>\n",
       "    <tr>\n",
       "      <th>TIMP3</th>\n",
       "      <td>264</td>\n",
       "    </tr>\n",
       "    <tr>\n",
       "      <th>UGPA3</th>\n",
       "      <td>5</td>\n",
       "    </tr>\n",
       "  </tbody>\n",
       "</table>\n",
       "</div>"
      ],
      "text/plain": [
       "        Shares\n",
       "Assets        \n",
       "ENBR3      122\n",
       "EQTL3        3\n",
       "ITSA4       21\n",
       "LAME4       94\n",
       "TCSA3     1855\n",
       "TIMP3      264\n",
       "UGPA3        5"
      ]
     },
     "execution_count": 55,
     "metadata": {},
     "output_type": "execute_result"
    }
   ],
   "source": [
    "# converts EF shares series to a DataFrame\n",
    "df_ef_alloc = ef_alloc_series.sort_index().to_frame('Shares')\n",
    "df_ef_alloc"
   ]
  },
  {
   "cell_type": "code",
   "execution_count": 158,
   "metadata": {},
   "outputs": [],
   "source": [
    "df_ef_alloc.to_csv(\"data/ef_alloc.csv\")"
   ]
  },
  {
   "cell_type": "markdown",
   "metadata": {
    "colab_type": "text",
    "id": "416GhhCaReME"
   },
   "source": [
    "# Portfolio Performance: Hedgecraft vs. Efficient Frontier\n",
    "\n",
    "In this section we write production (almost) ready code for portfolio analysis and include our own risk-adjusted returns score. The section looks something like this:\n",
    "\n",
    "* We obtain the cumulative returns and returns on investment,\n",
    "* extract the end of year returns and annual return rates,\n",
    "* calculate the average annual rate of returns and annualized portfolio standard deviation,\n",
    "* compute the Sharpe Ratio, \n",
    "* Maximum Drawdown, \n",
    "* Returns over Maximum Drawdown, \n",
    "* and our own unique measure: the Growth-Risk Ratio.\n",
    "\n",
    "Finally, we visualize the returns, drawdowns, and returns distribution of each model and analyze the results."
   ]
  },
  {
   "cell_type": "code",
   "execution_count": 56,
   "metadata": {
    "colab": {},
    "colab_type": "code",
    "execution": {
     "iopub.execute_input": "2020-06-30T02:43:29.557Z",
     "iopub.status.busy": "2020-06-30T02:43:29.534Z",
     "iopub.status.idle": "2020-06-30T02:43:29.659Z",
     "shell.execute_reply": "2020-06-30T02:43:29.617Z"
    },
    "id": "mUB8Ixy2ReMF"
   },
   "outputs": [],
   "source": [
    "# total capital invested in the Hedgecraft portfolio after buying shares\n",
    "capital = (df_buy_in['Buy In: {}'.format(TRAIN_RANGE[1])]*df_alloc['Shares']).sum()\n",
    "\n",
    "# total capital invested in Efficient Frontier portfolio after buying shares\n",
    "ef_capital = (df_buy_in['Buy In: {}'.format(TRAIN_RANGE[1])]*df_ef_alloc['Shares']).sum()\n",
    "\n",
    "# total capital invested in Hedgecraft MIS portfolio after buying shares\n",
    "mis_capital = (df_mis_buy_in['Buy In: {}'.format(TRAIN_RANGE[1])]*df_mis_alloc['MIS Shares']).sum()\n",
    "\n",
    "\n",
    "# function to compute the cumulative returns of a portfolio\n",
    "from header import cumulative_returns\n",
    "\n",
    "# Hedgecraft cumulative daily returns\n",
    "total_daily_returns = cumulative_returns(\n",
    "    df_alloc, \n",
    "    capital, \n",
    "    df_validate\n",
    ").rename('MRP Cumulative Daily Returns')\n",
    "\n",
    "\n",
    "# Efficient Frontier cumulative daily returns\n",
    "ef_total_daily_returns = cumulative_returns(\n",
    "    df_ef_alloc, \n",
    "    ef_capital, \n",
    "    df_validate\n",
    ").rename('EF Cumulative Daily Returns')\n",
    "\n",
    "\n",
    "# Hedgecraft MIS cumulative daily returns\n",
    "mis_total_daily_returns = cumulative_returns(\n",
    "    df_mis_alloc, \n",
    "    mis_capital, \n",
    "    df_validate\n",
    ").rename('MIS Cumulative Daily Returns')\n",
    "\n",
    "# function to compute daily return on investment (roi)\n",
    "from header import portfolio_daily_roi\n",
    "\n",
    "# Hedgecraft daily return on investment\n",
    "daily_roi = portfolio_daily_roi(\n",
    "    df_alloc, \n",
    "    capital, \n",
    "    df_validate\n",
    ").rename('MRP Daily Returns')\n",
    "\n",
    "\n",
    "# Efficient Frontier daily return on investment\n",
    "ef_daily_roi = portfolio_daily_roi(\n",
    "    df_ef_alloc, \n",
    "    ef_capital, \n",
    "    df_validate\n",
    ").rename('EF Daily Returns')\n",
    "\n",
    "\n",
    "# Hedgecraft MIS daily return on investment\n",
    "mis_daily_roi = portfolio_daily_roi(\n",
    "    df_mis_alloc, \n",
    "    mis_capital, \n",
    "    df_validate\n",
    ").rename('MIS Daily Returns')\n"
   ]
  },
  {
   "cell_type": "code",
   "execution_count": 57,
   "metadata": {
    "execution": {
     "iopub.execute_input": "2020-06-30T02:43:34.065Z",
     "iopub.status.busy": "2020-06-30T02:43:34.023Z",
     "iopub.status.idle": "2020-06-30T02:43:34.121Z",
     "shell.execute_reply": "2020-06-30T02:43:34.153Z"
    }
   },
   "outputs": [
    {
     "name": "stdout",
     "output_type": "stream",
     "text": [
      "8927.949999999999\n",
      "9435.93\n",
      "9986.05\n"
     ]
    }
   ],
   "source": [
    "print(capital)\n",
    "print(mis_capital)\n",
    "print(ef_capital)"
   ]
  },
  {
   "cell_type": "markdown",
   "metadata": {
    "colab_type": "text",
    "id": "pNYYCCOUReMH"
   },
   "source": [
    "# End of Year Returns"
   ]
  },
  {
   "cell_type": "code",
   "execution_count": 58,
   "metadata": {
    "colab": {},
    "colab_type": "code",
    "execution": {
     "iopub.execute_input": "2020-06-30T02:43:38.123Z",
     "iopub.status.busy": "2020-06-30T02:43:38.101Z",
     "iopub.status.idle": "2020-06-30T02:43:38.157Z",
     "shell.execute_reply": "2020-06-30T02:43:38.205Z"
    },
    "id": "WVPR4VC3ReMJ"
   },
   "outputs": [],
   "source": [
    "# imports datetime manipluation library\n",
    "from datetime import datetime\n",
    "\n",
    "# function to extract the end of year returns\n",
    "from header import end_of_year_returns\n",
    "\n",
    "# Hedgecraft annual return rates     \n",
    "returns_dict = end_of_year_returns(\n",
    "    daily_roi, \n",
    "    'return_rates', \n",
    "    int(TEST_RANGE[0][:4]),\n",
    "    int(TEST_RANGE[1][:4])\n",
    ")\n",
    "\n",
    "# Efficient Frontier annual return rates\n",
    "ef_returns_dict = end_of_year_returns(\n",
    "    ef_daily_roi, \n",
    "    'return_rates', \n",
    "    int(TEST_RANGE[0][:4]),\n",
    "    int(TEST_RANGE[1][:4])\n",
    ")\n",
    "\n",
    "# Hedgecraft MIS annual return rates\n",
    "mis_returns_dict = end_of_year_returns(\n",
    "    mis_daily_roi, \n",
    "    'return_rates', \n",
    "    int(TEST_RANGE[0][:4]),\n",
    "    int(TEST_RANGE[1][:4])\n",
    ")\n",
    "\n",
    "# Hedgecraft annual returns\n",
    "tot_returns_dict = end_of_year_returns(\n",
    "    daily_roi, \n",
    "    'returns', \n",
    "    int(TEST_RANGE[0][:4]),\n",
    "    int(TEST_RANGE[1][:4])\n",
    ")\n",
    "\n",
    "# Efficient Frontier annual returns\n",
    "ef_tot_returns_dict = end_of_year_returns(\n",
    "    ef_daily_roi, \n",
    "    'returns', \n",
    "    int(TEST_RANGE[0][:4]),\n",
    "    int(TEST_RANGE[1][:4])\n",
    ")\n",
    "\n",
    "# Hedgecraft MIS annual returns\n",
    "mis_tot_returns_dict = end_of_year_returns(\n",
    "    mis_daily_roi, \n",
    "    'returns', \n",
    "    int(TEST_RANGE[0][:4]),\n",
    "    int(TEST_RANGE[1][:4])\n",
    ")"
   ]
  },
  {
   "cell_type": "markdown",
   "metadata": {
    "colab_type": "text",
    "id": "1CimcOMAReMK"
   },
   "source": [
    "# Average Annual Rate of Returns"
   ]
  },
  {
   "cell_type": "code",
   "execution_count": 59,
   "metadata": {
    "colab": {
     "base_uri": "https://localhost:8080/",
     "height": 68
    },
    "colab_type": "code",
    "execution": {
     "iopub.execute_input": "2020-06-30T02:43:42.612Z",
     "iopub.status.busy": "2020-06-30T02:43:42.591Z",
     "iopub.status.idle": "2020-06-30T02:43:42.653Z",
     "shell.execute_reply": "2020-06-30T02:43:42.678Z"
    },
    "id": "XDF3Apn1ReML",
    "outputId": "e87ba5f7-1290-4e8c-ff64-b8f278be7d97"
   },
   "outputs": [
    {
     "name": "stdout",
     "output_type": "stream",
     "text": [
      "0.74\n",
      "-2.39\n",
      "0.86\n"
     ]
    }
   ],
   "source": [
    "# function to calculate avg annual portfolio returns\n",
    "from header import avg_annual_returns\n",
    "\n",
    "# Hedgecraft avg annual returns    \n",
    "gmean_returns = avg_annual_returns(returns_dict, mstat='geometric')\n",
    "\n",
    "# Efficient Frontier avg annual returns\n",
    "ef_gmean_returns = avg_annual_returns(ef_returns_dict, mstat='geometric')\n",
    "\n",
    "# Hedgecraft MIS avg annual returns\n",
    "mis_gmean_returns = avg_annual_returns(mis_returns_dict, mstat='geometric')\n",
    "\n",
    "print(gmean_returns)\n",
    "print(ef_gmean_returns)\n",
    "print(mis_gmean_returns)"
   ]
  },
  {
   "cell_type": "code",
   "execution_count": 60,
   "metadata": {
    "execution": {
     "iopub.execute_input": "2020-06-30T02:43:47.631Z",
     "iopub.status.busy": "2020-06-30T02:43:47.607Z",
     "iopub.status.idle": "2020-06-30T02:43:47.686Z",
     "shell.execute_reply": "2020-06-30T02:43:47.715Z"
    }
   },
   "outputs": [
    {
     "data": {
      "text/plain": [
       "{'2017': 66.3, '2018': 5.2, '2019': 47.9, '2020': -60.0}"
      ]
     },
     "execution_count": 60,
     "metadata": {},
     "output_type": "execute_result"
    }
   ],
   "source": [
    "mis_returns_dict"
   ]
  },
  {
   "cell_type": "markdown",
   "metadata": {
    "colab_type": "text",
    "id": "9Aqqp8TbReMN"
   },
   "source": [
    "# Annualized Portfolio Standard Deviation\n",
    "\n",
    "The annualized standard deviation (a.k.a volatility) measures how far the portfolio's returns vary from the mean, that is, it measures how spread out the data is. It can be readily calculated as:\n",
    "\n",
    "$\\sigma = \\sqrt{252 \\cdot \\textbf{w}^{\\top}\\mathbf{\\Sigma} \\textbf{w}}$\n",
    "\n",
    "where $252$ is the number of trading days in a year, $\\textbf{w}$ is the vector of portfolio weights, and $\\mathbf{\\Sigma}$ is the covariance matrix."
   ]
  },
  {
   "cell_type": "markdown",
   "metadata": {
    "colab_type": "text",
    "id": "nlyPoI5TReMP"
   },
   "source": [
    "# Annualized Sharpe Ratio\n",
    "\n",
    "The Sharpe ratio is one of the most popular measures of risk-adjusted returns. It measures the excess of mean returns per unit deviation of the returns. The annualized Sharpe Ratio is given by,\n",
    "<br/><br/>\n",
    "<center>$ S = \\dfrac{\\bar{R} - \\bar{R}_{f}}{\\sigma} $</center>\n",
    "\n",
    "where $\\bar{R}$ is the average annual rate of returns, $\\bar{R}_{f}$ is the average risk-free rate for the duration of the investment (usually taken as the 10-year treasurey rate), and $\\sigma$ is the annualized standard deviation. A Sharpe ratio greater than one usually signifies a portfolio of superior performance as opposed to a portfolio with a Sharpe ratio less than one. In general, a portfolio with a larger Sharpe ratio will outperform one with a smaller ratio. A snazzy article summarizing the use of the Sharpe ratio is given [here](https://www.investopedia.com/terms/s/sharperatio.asp)."
   ]
  },
  {
   "cell_type": "code",
   "execution_count": 62,
   "metadata": {
    "colab": {
     "base_uri": "https://localhost:8080/",
     "height": 68
    },
    "colab_type": "code",
    "execution": {
     "iopub.execute_input": "2020-06-30T02:44:05.442Z",
     "iopub.status.busy": "2020-06-30T02:44:05.416Z",
     "iopub.status.idle": "2020-06-30T02:44:05.571Z",
     "shell.execute_reply": "2020-06-30T02:44:05.626Z"
    },
    "id": "4bz23MiFReMN",
    "outputId": "0eecf564-e939-473c-97fb-f61336cc8e01"
   },
   "outputs": [
    {
     "name": "stdout",
     "output_type": "stream",
     "text": [
      "30.82\n",
      "33.5\n",
      "31.16\n"
     ]
    }
   ],
   "source": [
    "# function to calculate annualized portoflio standard deviation\n",
    "from header import portfolio_std\n",
    "# function to calculate annualized portfolio standard deviation with a\n",
    "# maximum independent set parameter\n",
    "from header import mis_portfolio_std\n",
    "\n",
    "# Hedgecraft annualized volatility\n",
    "portfolio_std_dev = portfolio_std(\n",
    "    weights=weights, \n",
    "    test_data=df_validate\n",
    ")\n",
    "\n",
    "# Efficient Frontier annualized volatility\n",
    "ef_portfolio_std_dev = portfolio_std(\n",
    "    weights=weights_ef, \n",
    "    test_data=df_validate\n",
    ")\n",
    "\n",
    "# Hedgecraft MIS annualized volatility\n",
    "mis_portfolio_std_dev = mis_portfolio_std(\n",
    "    weights=mis_weights, \n",
    "    test_data=df_validate,\n",
    "    maximum_independent_set=max_ind_set\n",
    ")\n",
    "\n",
    "print(portfolio_std_dev)\n",
    "print(ef_portfolio_std_dev)\n",
    "print(mis_portfolio_std_dev)"
   ]
  },
  {
   "cell_type": "code",
   "execution_count": 63,
   "metadata": {
    "colab": {
     "base_uri": "https://localhost:8080/",
     "height": 68
    },
    "colab_type": "code",
    "execution": {
     "iopub.execute_input": "2020-06-30T02:44:10.746Z",
     "iopub.status.busy": "2020-06-30T02:44:10.718Z",
     "iopub.status.idle": "2020-06-30T02:44:10.791Z",
     "shell.execute_reply": "2020-06-30T02:44:10.813Z"
    },
    "id": "IKSbigMMReMP",
    "outputId": "98ed4246-079e-41f1-d84e-20a58196ada5"
   },
   "outputs": [
    {
     "name": "stdout",
     "output_type": "stream",
     "text": [
      "-0.04\n",
      "-0.13\n",
      "-0.04\n"
     ]
    }
   ],
   "source": [
    "# function to compute the Sharpe ratio\n",
    "selic_dec2016 = 13.75\n",
    "risk_free = 2 # Approx. savings earnings\n",
    "from header import portfolio_sharpe_ratio\n",
    "\n",
    "# Sharpe ratio of the Hedgecraft portfolio\n",
    "## we use a 2% risk free rate\n",
    "sharpe_ratio = portfolio_sharpe_ratio(\n",
    "    gmean_returns, \n",
    "    portfolio_std_dev, \n",
    "    risk_free\n",
    ")\n",
    "\n",
    "# Sharpe ratio of the Markowitz portfolio\n",
    "ef_sharpe_ratio = portfolio_sharpe_ratio(\n",
    "    ef_gmean_returns, \n",
    "    ef_portfolio_std_dev, \n",
    "    risk_free\n",
    ")\n",
    "\n",
    "# Sharpe ratio of the Hedgecraft MIS portfolio\n",
    "mis_sharpe_ratio = portfolio_sharpe_ratio(\n",
    "    mis_gmean_returns, \n",
    "    mis_portfolio_std_dev, \n",
    "    risk_free\n",
    ")\n",
    "\n",
    "print(sharpe_ratio)\n",
    "print(ef_sharpe_ratio)\n",
    "print(mis_sharpe_ratio)"
   ]
  },
  {
   "cell_type": "markdown",
   "metadata": {
    "colab_type": "text",
    "id": "JNrAtVZVReMR"
   },
   "source": [
    "# Drawdown Statistics\n",
    "\n",
    "The drawdown is the extent to which the portfolio's cumulative returns falls below its historical maximum. Put plainly, it's the net loss since the previous peak. The drawdown can also be interpreted as the rate at which the portfolio shrinks and is commonly thought of as a measure of downside risk, that is, the risk associated with losses. The *drawdown duration* or 'time under water' is the length of peak-to-peak periods, or the time required for the portfolio to recoup its losses. As such, smaller drawdown durations enable a portfolio's growth to outpace its losses. Formally, the drawdown is defined in two steps: first, we find the rolling maximum up to time $t$,\n",
    "<br/><br/>\n",
    "\n",
    "<center>$M_{t} = \\text{max}_{u \\in [0, t]} \\ R_{u}$</center>\n",
    "\n",
    "where $R_{t}$ is cumulative returns up to time $t$. The **drawdown** up to time $t$ (as a percentage) is then,\n",
    "<br/><br/>\n",
    "\n",
    "<center>$DD_{t} = \\dfrac{R_{t}}{M_{t}} - 1.$</center>\n",
    "\n",
    "The **maximum drawdown** is thus the largest drop in cumulative returns from its rolling maximum over a given time frame:\n",
    "<br/><br/>\n",
    "\n",
    "<center>$MDD_{t} = \\text{min}_{u \\in [0, t]} \\ DD_{u}.$</center>\n",
    "\n",
    "Below we write code that returns the daily rolling maximum (```daily_rolling_max```) in a 252-day window. That is, we take $u \\in [t_{i}, t_{f}]$ where $t_{i}$ and $t_{f}$ denote the beginning and end of each trading year, respectively. Then we compute the drawdown (```daily_rolling_drawdown```), the maximum drawdown (```max_daily_rolling_drawdown```), and the lifetime maximum drawdown (```lifetime_max_drawdown```) for each portfolio. For more information see [Vercer, 2006](http://www.stat.columbia.edu/~vecer/maxdrawdown2.pdf)."
   ]
  },
  {
   "cell_type": "code",
   "execution_count": 64,
   "metadata": {
    "colab": {},
    "colab_type": "code",
    "execution": {
     "iopub.execute_input": "2020-06-30T02:44:16.334Z",
     "iopub.status.busy": "2020-06-30T02:44:16.306Z",
     "iopub.status.idle": "2020-06-30T02:44:16.375Z",
     "shell.execute_reply": "2020-06-30T02:44:16.403Z"
    },
    "id": "gcVMH4_dReMR"
   },
   "outputs": [],
   "source": [
    "# function to compute the 252-day daily rolling maximum \n",
    "from header import daily_rolling_max\n",
    "\n",
    "# function to compute the 252-day rolling drawdown\n",
    "from header import daily_rolling_drawdown\n",
    "\n",
    "# function to compute the 252-day maximum daily drawdown\n",
    "from header import max_daily_rolling_drawdown\n",
    "\n",
    "# function to compute the lifetime maximum drawdown\n",
    "from header import lifetime_max_drawdown\n",
    "\n",
    "# Hedgecraft 252-day daily rolling maximum, 252-day daily rollng drawdown,\n",
    "# 252-day daily rolling maximum drawdown, and lifetime max drawdown\n",
    "roll_max = daily_rolling_max(total_daily_returns)\n",
    "daily_drawdown = daily_rolling_drawdown(\n",
    "    total_daily_returns, \n",
    "    roll_max\n",
    ")\n",
    "max_daily_drawdown = max_daily_rolling_drawdown(daily_drawdown)\n",
    "max_drawdown = lifetime_max_drawdown(daily_drawdown)\n",
    "\n",
    "# Efficient Frontier 252-day daily rolling maximum, 252-day daily rollng drawdown,\n",
    "# 252-day daily rolling maximum drawdown, and lifetime max drawdown\n",
    "ef_roll_max = daily_rolling_max(ef_total_daily_returns)\n",
    "ef_daily_drawdown = daily_rolling_drawdown(\n",
    "    ef_total_daily_returns, \n",
    "    ef_roll_max\n",
    ")\n",
    "ef_max_daily_drawdown = max_daily_rolling_drawdown(ef_daily_drawdown)\n",
    "ef_max_drawdown = lifetime_max_drawdown(ef_daily_drawdown)\n",
    "\n",
    "# Hedgecraft MIS 252-day daily rolling maximum, 252-day daily rollng drawdown,\n",
    "# 252-day daily rolling maximum drawdown, and lifetime max drawdown\n",
    "mis_roll_max = daily_rolling_max(mis_total_daily_returns)\n",
    "mis_daily_drawdown = daily_rolling_drawdown(\n",
    "    mis_total_daily_returns, \n",
    "    mis_roll_max\n",
    ")\n",
    "mis_max_daily_drawdown = max_daily_rolling_drawdown(mis_daily_drawdown)\n",
    "mis_max_drawdown = lifetime_max_drawdown(mis_daily_drawdown)\n"
   ]
  },
  {
   "cell_type": "markdown",
   "metadata": {
    "colab_type": "text",
    "id": "_Cf0O1m2ReMU"
   },
   "source": [
    "# Return Over Maximum Drawdown (Risk-Return-Ratio)\n",
    "\n",
    "Deviation-based performance measures (like the Sharpe Ratio) implicity assume the distribution of returns follows a normal distribution. There's a growing a consensus the returns of hedge funds are not normal. As such, the Return Over Maximum Drawdown (RoMaD) has become a popular risk-adjusted return metric for hedge funds. The metric attempts to answer the following question: is the invester willing to accept an occasional drawdown of $X\\%$ in order to generate a return on investment of $Y\\%$? Mathematically, we express the risk-return-ratio as follows,\n",
    "<br/><br/>\n",
    "<center>$RRR = \\dfrac{R_{t}}{|MDD_{t}|}$</center>\n",
    "\n",
    "where $R_{t}$ is the return on investment at time $t$ and $|MDD_{t}|$ is the absolute value of the maximum drawdown over some specified time interval. Usually, $R_{t}$ is taken as either the return on investment to-date or the average annual return, while $MDD_{t}$ is taken over the entire history of the portfolio, i.e., it's the lifetime maximum drawdown. We take $R_{t}$ as the former. There are numerous variations of the metric, including the Calmar and Sterling ratio. In practice, portfolio managers aim to observe a risk-return-ratio of at least two or more. We provide the risk-return-ratio in the code block below. For more information see this [article](https://www.investopedia.com/terms/r/return-over-maximum-drawdown-romad.asp) and [Johnsson, 2010](http://www.richardcbjohnsson.com/wp-content/uploads/risk_return_ratio.pdf)."
   ]
  },
  {
   "cell_type": "code",
   "execution_count": 65,
   "metadata": {
    "colab": {
     "base_uri": "https://localhost:8080/",
     "height": 68
    },
    "colab_type": "code",
    "execution": {
     "iopub.execute_input": "2020-06-30T02:44:19.749Z",
     "iopub.status.busy": "2020-06-30T02:44:19.726Z",
     "iopub.status.idle": "2020-06-30T02:44:19.813Z",
     "shell.execute_reply": "2020-06-30T02:44:19.839Z"
    },
    "id": "eAt5PRHPReMU",
    "outputId": "3fe56ca5-08f7-4a95-e862-0fe0625f10f9"
   },
   "outputs": [
    {
     "name": "stdout",
     "output_type": "stream",
     "text": [
      "Risk-Return Ratios:\n",
      "MRP: 1.36\n",
      "EF: 0.03\n",
      "MIS: 1.4\n"
     ]
    }
   ],
   "source": [
    "# calculates returns over lifetime maximum drawdown\n",
    "from header import returns_over_max_drawdown\n",
    "\n",
    "# Hedgecraft risk-return ratio\n",
    "risk_return_ratio = returns_over_max_drawdown(\n",
    "    tot_returns_dict, \n",
    "    TEST_RANGE[1][:4],\n",
    "    max_drawdown\n",
    ")\n",
    "\n",
    "# Efficient Frontier risk-return ratio\n",
    "ef_risk_return_ratio = returns_over_max_drawdown(\n",
    "    ef_tot_returns_dict, \n",
    "    TEST_RANGE[1][:4],\n",
    "    ef_max_drawdown\n",
    ")\n",
    "\n",
    "# Hedgecraft MIS risk-return ratio\n",
    "mis_risk_return_ratio = returns_over_max_drawdown(\n",
    "    mis_tot_returns_dict, \n",
    "    TEST_RANGE[1][:4],\n",
    "    mis_max_drawdown\n",
    ")\n",
    "\n",
    "print(\"Risk-Return Ratios:\")\n",
    "print(\"MRP: {}\".format(risk_return_ratio))\n",
    "print(\"EF: {}\".format(ef_risk_return_ratio))\n",
    "print(\"MIS: {}\".format(mis_risk_return_ratio))"
   ]
  },
  {
   "cell_type": "markdown",
   "metadata": {
    "colab_type": "text",
    "id": "IOMGEY2KReMY"
   },
   "source": [
    "# Growth-Risk-Ratio\n",
    "\n",
    "We are now in position to define our own risk-adjusted performance metric to evaluate and compare the Hedgecrafted and Markowitz portfolios. Like the risk-return-ratio, we aim to define a metric of downside-risk-adjusted returns that answers the following question: At what rate does the portfolio's growth outpace the frequency and magnitude of its largest losses? That is, how consistent is its rate of growth? To this end, let's define the growth-risk-ratio as,\n",
    "<br/><br/>\n",
    "<center>$\\text{GRR} = \\dfrac{\\overline{R}}{|\\overline{MDD_{t}}|}$</center>\n",
    "\n",
    "where $\\overline{R}$ is the average annual rate of returns and $\\overline{MDD_{t}}$ is the average 252-day rolling maximum drawdown. The growth-risk-ratio is similiar to the Sterling ratio which is defined as the average annual rate of returns divided by the average annual maximum drawdown. Here $MDD_{t}$ replaces the denominator of the Sterling ratio, giving a more fine-grained account of the portfolio's losses by tracking the dynamic behavior of the maximum drawdowns. If GRR < 1 the portfolio is at risk of losing all or most of its growth, whereas a GRR > 1 indicates the portfolio's growth outpaces the frequency and magnitude of its maximum drawdowns. The larger the value of GRR the more consistent the more consistent the growth rate. In what's to follow, we provide code for the growth-risk-ratio, collect the results of each metric, and discuss the performance of each portfolio."
   ]
  },
  {
   "cell_type": "code",
   "execution_count": 66,
   "metadata": {
    "colab": {
     "base_uri": "https://localhost:8080/",
     "height": 68
    },
    "colab_type": "code",
    "execution": {
     "iopub.execute_input": "2020-06-30T02:44:24.958Z",
     "iopub.status.busy": "2020-06-30T02:44:24.928Z",
     "iopub.status.idle": "2020-06-30T02:44:25.006Z",
     "shell.execute_reply": "2020-06-30T02:44:25.034Z"
    },
    "id": "GdWQ4St3ReMZ",
    "outputId": "0271a07c-f58d-48be-ccfb-5cd0067e9737"
   },
   "outputs": [
    {
     "name": "stdout",
     "output_type": "stream",
     "text": [
      "0.04\n",
      "-0.09\n",
      "0.04\n"
     ]
    }
   ],
   "source": [
    "# function to calculate the growth-risk ratio\n",
    "from header import portfolio_growth_risk\n",
    "\n",
    "# growth-risk ratios for each model\n",
    "growth_risk_ratio = portfolio_growth_risk(gmean_returns, max_daily_drawdown)\n",
    "ef_growth_risk_ratio = portfolio_growth_risk(ef_gmean_returns, ef_max_daily_drawdown)\n",
    "mis_growth_risk_ratio = portfolio_growth_risk(mis_gmean_returns, mis_max_daily_drawdown)\n",
    "\n",
    "print(growth_risk_ratio)\n",
    "print(ef_growth_risk_ratio)\n",
    "print(mis_growth_risk_ratio)"
   ]
  },
  {
   "cell_type": "markdown",
   "metadata": {
    "colab_type": "text",
    "id": "45jUIroVReMc"
   },
   "source": [
    "# Collecting the Results\n",
    "\n",
    "It's the moment of truth: How well did Hedgecraft spar with the Efficient Frontier? Scroll down to find out!"
   ]
  },
  {
   "cell_type": "code",
   "execution_count": 71,
   "metadata": {
    "colab": {},
    "colab_type": "code",
    "execution": {
     "iopub.execute_input": "2020-06-30T02:46:16.593Z",
     "iopub.status.busy": "2020-06-30T02:46:16.538Z",
     "iopub.status.idle": "2020-06-30T02:46:16.680Z",
     "shell.execute_reply": "2020-06-30T02:46:16.718Z"
    },
    "id": "ZkxGSFnYReMd"
   },
   "outputs": [],
   "source": [
    "def collect_results(model):\n",
    "\n",
    "    if model == 'MRP':\n",
    "\n",
    "        collection = [[], [], []]\n",
    "\n",
    "        collection[0].append([str(x) + '%' for x in list(returns_dict.values())])\n",
    "        collection[1].append([str(x) + '%' for x in list(tot_returns_dict.values())])\n",
    "        collection[2].append([str(x) + '%' for x in [gmean_returns, portfolio_std_dev, max_drawdown]])\n",
    "        collection[2].append([sharpe_ratio, risk_return_ratio, growth_risk_ratio])\n",
    "\n",
    "        return collection\n",
    "\n",
    "    if model == 'efficient_frontier':\n",
    "\n",
    "        collection = [[], [], []]\n",
    "\n",
    "        collection[0].append([str(x) + '%' for x in list(ef_returns_dict.values())])\n",
    "        collection[1].append([str(x) + '%' for x in list(ef_tot_returns_dict.values())])\n",
    "\n",
    "        collection[2].append([str(x) + '%' for x in [\n",
    "            ef_gmean_returns,\n",
    "            ef_portfolio_std_dev,\n",
    "            ef_max_drawdown]\n",
    "                             ]\n",
    "                            )\n",
    "\n",
    "        collection[2].append([ef_sharpe_ratio, ef_risk_return_ratio, ef_growth_risk_ratio])\n",
    "\n",
    "        return collection\n",
    "\n",
    "    if model == 'MIS':\n",
    "\n",
    "        collection = [[], [], []]\n",
    "\n",
    "        collection[0].append([str(x) + '%' for x in list(mis_returns_dict.values())])\n",
    "        collection[1].append([str(x) + '%' for x in list(mis_tot_returns_dict.values())])\n",
    "\n",
    "        collection[2].append([str(x) + '%' for x in [\n",
    "            mis_gmean_returns,\n",
    "            mis_portfolio_std_dev,\n",
    "            mis_max_drawdown]\n",
    "                             ]\n",
    "                            )\n",
    "\n",
    "        collection[2].append([mis_sharpe_ratio, mis_risk_return_ratio, mis_growth_risk_ratio])\n",
    "\n",
    "        return collection\n",
    "    \n",
    "yearly_return_rates = collect_results(model = 'MRP')[0][0]\n",
    "yearly_returns = collect_results(model='MRP')[1][0]\n",
    "\n",
    "summary_stats = (collect_results(model='MRP')[2][0] \n",
    "    + collect_results(model='MRP')[2][1])\n",
    "\n",
    "ef_yearly_return_rates = collect_results(model = 'efficient_frontier')[0][0]\n",
    "ef_yearly_returns = collect_results(model='efficient_frontier')[1][0]\n",
    "ef_summary_stats = (collect_results(model='efficient_frontier')[2][0] \n",
    "    + collect_results(model='efficient_frontier')[2][1])\n",
    "\n",
    "mis_yearly_return_rates = collect_results(model = 'MIS')[0][0]\n",
    "mis_yearly_returns = collect_results(model='MIS')[1][0]\n",
    "mis_summary_stats = (collect_results(model='MIS')[2][0] \n",
    "    + collect_results(model='MIS')[2][1])\n",
    "\n",
    "\n",
    "#dow_yearly_return_rates=[0.10, 16.28, 27.97]\n",
    "#dow_yearly_return_rates=[str(x) + '%' for x in dow_yearly_return_rates]\n",
    "#sp500_yearly_return_rates=[-0.73, 9.54, 19.42]\n",
    "#sp500_yearly_return_rates=[str(x) + '%' for x in sp500_yearly_return_rates]\n",
    "\n",
    "# source: http://www.b3.com.br/pt_br/market-data-e-indices/indices/indices-amplos/indice-ibovespa-ibovespa-estatisticas-historicas.htm\n",
    "ibovespa_yearly_return_rates = [\"26.86%\", \"15.09%\", \"31.58%\", \"-30.39%\"]\n",
    "smll_yearly_return_rates = [\"49.35%\", \"8.13%\", \"58.20%\", \"-34.07%\"]\n"
   ]
  },
  {
   "cell_type": "code",
   "execution_count": 72,
   "metadata": {
    "execution": {
     "iopub.execute_input": "2020-06-30T02:46:24.170Z",
     "iopub.status.busy": "2020-06-30T02:46:24.122Z",
     "iopub.status.idle": "2020-06-30T02:46:24.248Z",
     "shell.execute_reply": "2020-06-30T02:46:24.281Z"
    }
   },
   "outputs": [
    {
     "data": {
      "text/plain": [
       "{'MRP Returns': ['65.0%', '70.0%', '117.5%', '57.8%'],\n",
       " 'MIS Returns': ['66.3%', '71.5%', '119.4%', '59.4%'],\n",
       " 'Efficient Frontier Returns': ['14.1%', '2.3%', '31.7%', '1.4%'],\n",
       " 'Ibovespa Return Rates': ['26.86%', '15.09%', '31.58%', '-30.39%'],\n",
       " 'SMLL Return Rates': ['49.35%', '8.13%', '58.20%', '-34.07%'],\n",
       " 'MRP Return Rates': ['65.0%', '5.0%', '47.5%', '-59.7%'],\n",
       " 'MIS Return Rates': ['66.3%', '5.2%', '47.9%', '-60.0%'],\n",
       " 'Efficient Frontier Return Rates': ['14.1%', '-11.8%', '29.4%', '-30.3%']}"
      ]
     },
     "execution_count": 72,
     "metadata": {},
     "output_type": "execute_result"
    }
   ],
   "source": [
    "# dictionary summary of model performances\n",
    "returns_summary = {\n",
    "                    'MRP Returns': yearly_returns,\n",
    "                    'MIS Returns': mis_yearly_returns,\n",
    "                    'Efficient Frontier Returns': ef_yearly_returns,\n",
    "                    'Ibovespa Return Rates': ibovespa_yearly_return_rates,\n",
    "                    'SMLL Return Rates': smll_yearly_return_rates,\n",
    "                    'MRP Return Rates': yearly_return_rates,\n",
    "                    'MIS Return Rates': mis_yearly_return_rates, \n",
    "                    'Efficient Frontier Return Rates': ef_yearly_return_rates,\n",
    "}\n",
    "returns_summary\n"
   ]
  },
  {
   "cell_type": "code",
   "execution_count": 73,
   "metadata": {
    "colab": {},
    "colab_type": "code",
    "execution": {
     "iopub.execute_input": "2020-06-30T02:46:32.898Z",
     "iopub.status.busy": "2020-06-30T02:46:32.872Z",
     "iopub.status.idle": "2020-06-30T02:46:32.931Z",
     "shell.execute_reply": "2020-06-30T02:46:32.953Z"
    },
    "id": "5525XzdUReMf"
   },
   "outputs": [],
   "source": [
    "# dictionary summary of model performances\n",
    "returns_summary = {\n",
    "                    'MRP Returns': yearly_returns,\n",
    "                    'MIS Returns': mis_yearly_returns,\n",
    "                    'Efficient Frontier Returns': ef_yearly_returns,\n",
    "                    'Ibovespa Return Rates': ibovespa_yearly_return_rates,\n",
    "                    'SMLL Return Rates': smll_yearly_return_rates,\n",
    "                    'MRP Return Rates': yearly_return_rates,\n",
    "                    'MIS Return Rates': mis_yearly_return_rates, \n",
    "                    'Efficient Frontier Return Rates': ef_yearly_return_rates,\n",
    "}\n",
    "\n",
    "# converts above dict to a DataFrame\n",
    "returns_summary = pd.DataFrame.from_dict(returns_summary)\n",
    "\n",
    "# Get TEST years\n",
    "firstyear = int(TEST_RANGE[0][:4])\n",
    "years = [firstyear] + [firstyear+i for i in range(1, len(yearly_returns))]\n",
    "\n",
    "# relabels indices as years\n",
    "returns_summary = returns_summary.rename(index={k:v for k,v in zip(returns_summary.index, years)});\n",
    "\n",
    "# dictionary of stats\n",
    "backtest_stats = {\n",
    "                  'MRP': summary_stats, \n",
    "                  'MIS': mis_summary_stats, \n",
    "                  'Efficient Frontier': ef_summary_stats\n",
    "}\n",
    "\n",
    "# converts above dict to DataFrame\n",
    "backtest_stats =  pd.DataFrame.from_dict(backtest_stats)\n",
    "\n",
    "# renames the indices\n",
    "backtest_stats = backtest_stats.rename(index={\n",
    "                                        0:'Avg Annual Rate of Returns', \n",
    "                                        1:'Annual Volatility',\n",
    "                                        2:'Maximum Drawdown',\n",
    "                                        3:'Annualized Sharpe Ratio',\n",
    "                                        4:'Returns Over Maximum Drawdown',\n",
    "                                        5:'Growth-Risk Ratio'\n",
    "                                }\n",
    ");"
   ]
  },
  {
   "cell_type": "markdown",
   "metadata": {
    "colab_type": "text",
    "id": "hBYJX7ZYReMh"
   },
   "source": [
    "# Visualizing the Returns"
   ]
  },
  {
   "cell_type": "code",
   "execution_count": 74,
   "metadata": {
    "colab": {
     "base_uri": "https://localhost:8080/",
     "height": 489
    },
    "colab_type": "code",
    "execution": {
     "iopub.execute_input": "2020-06-30T02:46:36.920Z",
     "iopub.status.busy": "2020-06-30T02:46:36.889Z",
     "iopub.status.idle": "2020-06-30T02:46:36.964Z",
     "shell.execute_reply": "2020-06-30T02:46:36.989Z"
    },
    "id": "rY7oTTTQReMh",
    "outputId": "773a9d42-bd6f-4a55-b4d7-4f6b9943a1f5"
   },
   "outputs": [],
   "source": [
    "# imports matplotlib submodule to aesthetically place date ticks\n",
    "from matplotlib.dates import AutoDateFormatter, AutoDateLocator\n",
    "\n",
    "# returns Hedgecraft 20 day moving avg\n",
    "rolling_20d_avg = (daily_roi.rename('MRP 20 day Rolling Avg')\n",
    "                        .rolling(20)\n",
    "                        .mean()\n",
    ")\n",
    "\n",
    "# returns Efficient Frontier 20 day moving avg\n",
    "ef_rolling_20d_avg = (ef_daily_roi.rename('EF 20 day Rolling Avg')\n",
    "                            .rolling(20)\n",
    "                            .mean()\n",
    ")\n",
    "\n",
    "# returns Hedgecraft MIS 20 day moving avg\n",
    "mis_rolling_20d_avg = (mis_daily_roi.rename('MIS 20 day Rolling Avg')\n",
    "                                .rolling(20)\n",
    "                                .mean()\n",
    ")\n"
   ]
  },
  {
   "cell_type": "code",
   "execution_count": 75,
   "metadata": {
    "execution": {
     "iopub.execute_input": "2020-06-30T02:46:39.845Z",
     "iopub.status.busy": "2020-06-30T02:46:39.818Z",
     "iopub.status.idle": "2020-06-30T02:46:40.205Z",
     "shell.execute_reply": "2020-06-30T02:46:40.403Z"
    }
   },
   "outputs": [
    {
     "data": {
      "image/png": "[encoded data removed]",
      "text/plain": [
       "<Figure size 864x576 with 1 Axes>"
      ]
     },
     "metadata": {},
     "output_type": "display_data"
    }
   ],
   "source": [
    "with sns.axes_style('whitegrid'):\n",
    "    # initializes figure and axis\n",
    "    fig = plt.figure(figsize=(12,8))\n",
    "    ax = fig.add_subplot(111)\n",
    "\n",
    "    # gets xtick postions for datetime objects, set minimum number of xticks to 3\n",
    "    xtick_locator = AutoDateLocator(minticks=3)\n",
    "\n",
    "    # aesthetically formats xticks\n",
    "    xtick_formatter = AutoDateFormatter(xtick_locator)\n",
    "\n",
    "    # returns pretty seaborn plot of hedgecraft returns and its 20 day rolling avg\n",
    "    daily_roi.plot(color='royalblue', alpha=0.8)\n",
    "    rolling_20d_avg.plot(color='blue', ls='dashed')\n",
    "\n",
    "    # returns pretty seaborn plot of EF returns and its 20 day rolling avg\n",
    "    ef_daily_roi.plot(color='darksalmon', alpha=0.8)\n",
    "    ef_rolling_20d_avg.plot(color='red', ls='dashed')\n",
    "\n",
    "    # returns pretty seaborn plot of hedgecraft MIS returns and its 20 day rolling avg\n",
    "    mis_daily_roi.plot(color='seagreen', alpha=0.8)\n",
    "    mis_rolling_20d_avg.plot(color='green', ls='dashed')\n",
    "\n",
    "    # renders xticks, sets ylabel, and turns legend on\n",
    "    #ax.xaxis.set_major_locator(xtick_locator)\n",
    "    #ax.xaxis.set_major_formatter(xtick_formatter)\n",
    "    ax.set_title('Model Performance ({}-{})'.format(TEST_RANGE[0][:4], TEST_RANGE[1][:4]))\n",
    "    ax.set_ylabel('Returns')\n",
    "    ax.legend()\n",
    "\n",
    "    # gets ytick labels and converts to pct format\n",
    "    vals = ax.get_yticks()\n",
    "    ax.set_yticklabels(['{:.0f}%'.format(x) for x in vals])\n",
    "\n",
    "    # draws a horizontal line at 0, turns grid on\n",
    "    plt.axhline(0, color='black');\n",
    "    plt.tick_params(left=False, bottom=False)"
   ]
  },
  {
   "cell_type": "markdown",
   "metadata": {
    "colab_type": "text",
    "id": "-WeefHaXReMk"
   },
   "source": [
    "Pictured above are the daily returns for Hedgecraft MIS (solid green curve), Hedgecraft (solid blue curve), and the Efficient Frontier portfolio (solid red curve) from January, 2019 to May, 2020. The color-coded dashed curves represent the 20 day rolling averages of the respective portfolios. \n",
    "\n",
    "Several observations pop: \n",
    "\n",
    "1. Efficient frontier performs well before the COVID-19 pandemia, but performs badly during the pandemia;\n",
    "2. MIS is the opposite to EF;\n",
    "3. Our risk portfolio `Close` shows more robusteness in the period, and obtain high returns during the pandemia period;\n",
    "4. The results from Close and MIS suggests that this approach to minimize systemic risk performs well during crisis; and\n",
    "5. It is good to note that the Brazilian market is not too stable in the recent years due to uncertainties in the political, economic, and social point of view.\n",
    "\n",
    "Next, let's observe the annual returns for each portfolio and compare them with the market."
   ]
  },
  {
   "cell_type": "code",
   "execution_count": 76,
   "metadata": {
    "colab": {
     "base_uri": "https://localhost:8080/",
     "height": 176
    },
    "colab_type": "code",
    "execution": {
     "iopub.execute_input": "2020-06-30T02:46:46.608Z",
     "iopub.status.busy": "2020-06-30T02:46:46.575Z",
     "iopub.status.idle": "2020-06-30T02:46:46.682Z",
     "shell.execute_reply": "2020-06-30T02:46:46.730Z"
    },
    "id": "YMLOif6CReMl",
    "outputId": "554fffbd-2fcb-43bb-df79-a67272dcd2d6",
    "scrolled": true
   },
   "outputs": [
    {
     "data": {
      "text/html": [
       "<div>\n",
       "<style scoped>\n",
       "    .dataframe tbody tr th:only-of-type {\n",
       "        vertical-align: middle;\n",
       "    }\n",
       "\n",
       "    .dataframe tbody tr th {\n",
       "        vertical-align: top;\n",
       "    }\n",
       "\n",
       "    .dataframe thead th {\n",
       "        text-align: right;\n",
       "    }\n",
       "</style>\n",
       "<table border=\"1\" class=\"dataframe\">\n",
       "  <thead>\n",
       "    <tr style=\"text-align: right;\">\n",
       "      <th></th>\n",
       "      <th>MRP Returns</th>\n",
       "      <th>MIS Returns</th>\n",
       "      <th>Efficient Frontier Returns</th>\n",
       "      <th>Ibovespa Return Rates</th>\n",
       "      <th>SMLL Return Rates</th>\n",
       "      <th>MRP Return Rates</th>\n",
       "      <th>MIS Return Rates</th>\n",
       "      <th>Efficient Frontier Return Rates</th>\n",
       "    </tr>\n",
       "  </thead>\n",
       "  <tbody>\n",
       "    <tr>\n",
       "      <th>2017</th>\n",
       "      <td>65.0%</td>\n",
       "      <td>66.3%</td>\n",
       "      <td>14.1%</td>\n",
       "      <td>26.86%</td>\n",
       "      <td>49.35%</td>\n",
       "      <td>65.0%</td>\n",
       "      <td>66.3%</td>\n",
       "      <td>14.1%</td>\n",
       "    </tr>\n",
       "    <tr>\n",
       "      <th>2018</th>\n",
       "      <td>70.0%</td>\n",
       "      <td>71.5%</td>\n",
       "      <td>2.3%</td>\n",
       "      <td>15.09%</td>\n",
       "      <td>8.13%</td>\n",
       "      <td>5.0%</td>\n",
       "      <td>5.2%</td>\n",
       "      <td>-11.8%</td>\n",
       "    </tr>\n",
       "    <tr>\n",
       "      <th>2019</th>\n",
       "      <td>117.5%</td>\n",
       "      <td>119.4%</td>\n",
       "      <td>31.7%</td>\n",
       "      <td>31.58%</td>\n",
       "      <td>58.20%</td>\n",
       "      <td>47.5%</td>\n",
       "      <td>47.9%</td>\n",
       "      <td>29.4%</td>\n",
       "    </tr>\n",
       "    <tr>\n",
       "      <th>2020</th>\n",
       "      <td>57.8%</td>\n",
       "      <td>59.4%</td>\n",
       "      <td>1.4%</td>\n",
       "      <td>-30.39%</td>\n",
       "      <td>-34.07%</td>\n",
       "      <td>-59.7%</td>\n",
       "      <td>-60.0%</td>\n",
       "      <td>-30.3%</td>\n",
       "    </tr>\n",
       "  </tbody>\n",
       "</table>\n",
       "</div>"
      ],
      "text/plain": [
       "     MRP Returns MIS Returns Efficient Frontier Returns Ibovespa Return Rates  \\\n",
       "2017       65.0%       66.3%                      14.1%                26.86%   \n",
       "2018       70.0%       71.5%                       2.3%                15.09%   \n",
       "2019      117.5%      119.4%                      31.7%                31.58%   \n",
       "2020       57.8%       59.4%                       1.4%               -30.39%   \n",
       "\n",
       "     SMLL Return Rates MRP Return Rates MIS Return Rates  \\\n",
       "2017            49.35%            65.0%            66.3%   \n",
       "2018             8.13%             5.0%             5.2%   \n",
       "2019            58.20%            47.5%            47.9%   \n",
       "2020           -34.07%           -59.7%           -60.0%   \n",
       "\n",
       "     Efficient Frontier Return Rates  \n",
       "2017                           14.1%  \n",
       "2018                          -11.8%  \n",
       "2019                           29.4%  \n",
       "2020                          -30.3%  "
      ]
     },
     "execution_count": 76,
     "metadata": {},
     "output_type": "execute_result"
    }
   ],
   "source": [
    "returns_summary"
   ]
  },
  {
   "cell_type": "code",
   "execution_count": 204,
   "metadata": {},
   "outputs": [],
   "source": [
    "returns_summary.to_csv(\"data/returns_summary.csv\")"
   ]
  },
  {
   "cell_type": "markdown",
   "metadata": {
    "colab_type": "text",
    "id": "vzEOusWlReMp"
   },
   "source": [
    "In comparison, the Ibovespa had a 26.86%, 15.09%, 31.58%, and -30.39% annual return rate in 2017, 2018, 2019, and 2020, respectively. The SMLL had a 49.35%, 8.13%, 58.20%, and -34.07% annual return rate in the same respective years. \n",
    "\n",
    "**MRP and MIS substantially outperformed both the market and the Efficient Frontier.** \n",
    "MRP and MIS substantially outperformed both the Ibovespa and SMLL indexes, as well as the Efficient Frontier. The higher returns, in theory, should be obtained with the trade-off of increasing the risk of the portfolio. But as we will see in the next section, this did not occur with our strategies.  "
   ]
  },
  {
   "cell_type": "markdown",
   "metadata": {
    "colab_type": "text",
    "id": "8FMhGVXmReMp"
   },
   "source": [
    "# Visualizing Drawdowns"
   ]
  },
  {
   "cell_type": "code",
   "execution_count": 77,
   "metadata": {
    "colab": {
     "base_uri": "https://localhost:8080/",
     "height": 509
    },
    "colab_type": "code",
    "execution": {
     "iopub.execute_input": "2020-06-30T02:46:51.543Z",
     "iopub.status.busy": "2020-06-30T02:46:51.502Z",
     "iopub.status.idle": "2020-06-30T02:46:51.814Z",
     "shell.execute_reply": "2020-06-30T02:46:51.885Z"
    },
    "id": "_FW1TinBReMq",
    "outputId": "09838a94-3228-478f-e32b-aa36eec9f505"
   },
   "outputs": [
    {
     "data": {
      "image/png": "[encoded data removed]",
      "text/plain": [
       "<Figure size 1080x576 with 1 Axes>"
      ]
     },
     "metadata": {},
     "output_type": "display_data"
    }
   ],
   "source": [
    "# imports tool to build legends\n",
    "import matplotlib.patches as mpatches\n",
    "\n",
    "with sns.axes_style('whitegrid'):\n",
    "    # initializes figure and axis\n",
    "    fig = plt.figure(figsize=(15,8))\n",
    "    ax = fig.add_subplot(111)\n",
    "\n",
    "    # gets xtick postions for datetime objects, set minimum number of xticks to 3\n",
    "    xtick_locator = AutoDateLocator(minticks=3)\n",
    "\n",
    "    # aesthetically formats xticks\n",
    "    xtick_formatter = AutoDateFormatter(xtick_locator)\n",
    "\n",
    "    ef_daily_drawdown.plot.area(ax=ax, linewidth=0, alpha=0.5, color='darksalmon')\n",
    "    ef_max_daily_drawdown.plot(color='darksalmon')\n",
    "\n",
    "    daily_drawdown.plot.area(ax=ax, linewidth=0, alpha=0.5, color='royalblue')\n",
    "    max_daily_drawdown.plot(color='royalblue')\n",
    "\n",
    "    mis_daily_drawdown.plot.area(ax=ax, linewidth=0, alpha=0.5, color='seagreen')\n",
    "    mis_max_daily_drawdown.plot(color='seagreen')\n",
    "\n",
    "    # renders xticks, sets ylabel, and turns legend on\n",
    "    #ax.xaxis.set_major_locator(xtick_locator)\n",
    "    #ax.xaxis.set_major_formatter(xtick_formatter)\n",
    "    \n",
    "    ax.set_ylabel('Returns')\n",
    "    \n",
    "    # sets legend patches color and labels\n",
    "    ef_patch = mpatches.Patch(color='darksalmon', label='Efficient Frontier', alpha=0.5)\n",
    "    patch = mpatches.Patch(color='royalblue', label='MRP', alpha=0.5)\n",
    "    mis_patch = mpatches.Patch(color='seagreen', label='MIS', alpha=0.5)\n",
    "    \n",
    "    # turns legend on with patches\n",
    "    plt.legend(handles=[ef_patch, patch, mis_patch])\n",
    "\n",
    "    plt.tick_params(left=False, bottom=False)\n",
    "    plt.title('Daily Running 252-day Drawdown ({}-{})'.format(TEST_RANGE[0][:4], TEST_RANGE[1][:4]))\n",
    "\n",
    "     # gets ytick labels and converts to pct format\n",
    "    vals = ax.get_yticks()\n",
    "    ax.set_yticklabels([str(round(x*100,2)) + '%' for x in vals])"
   ]
  },
  {
   "cell_type": "markdown",
   "metadata": {
    "colab_type": "text",
    "id": "mkBEsyhcReMr"
   },
   "source": [
    "Illustrated above is the daily rolling 252-day drawdown for Close MIS (filled sea green curve), Close (filled royal blue curve), and the Efficient Frontier (filled dark salmon curve) along with the respective rolling maximum drawdowns (solid curves). \n",
    "\n",
    "Several observations stick out: \n",
    "\n",
    "1. the Close portfolios have significantly smaller drawdowns than the portfolio generated from the Efficient Frontier;\n",
    "2. All portfolios have roughly the same maximum drawdown (about 45%);\n",
    "3. Close on average lost the least amount of returns; and \n",
    "4. Close's rolling maximum drawdowns are, on average, less pronounced than Close MIS. These results suggest the communicability betweeness centrality has predictive power as a measure of relative or intraportfolio risk, and more generally, that network-based portfolio construction is a promosing alternative to the more traditional approaches like MPT. \n",
    "\n",
    "Next, let's observe how each portfolio performed with the metrics we discussed earlier."
   ]
  },
  {
   "cell_type": "code",
   "execution_count": 78,
   "metadata": {
    "execution": {
     "iopub.execute_input": "2020-06-30T02:46:56.062Z",
     "iopub.status.busy": "2020-06-30T02:46:56.038Z",
     "iopub.status.idle": "2020-06-30T02:46:56.117Z",
     "shell.execute_reply": "2020-06-30T02:46:56.161Z"
    }
   },
   "outputs": [
    {
     "data": {
      "text/plain": [
       "count    841.000000\n",
       "mean      -0.202467\n",
       "std        0.103065\n",
       "min       -0.426445\n",
       "25%       -0.279157\n",
       "50%       -0.215564\n",
       "75%       -0.118973\n",
       "max        0.000000\n",
       "Name: MRP Cumulative Daily Returns, dtype: float64"
      ]
     },
     "execution_count": 78,
     "metadata": {},
     "output_type": "execute_result"
    }
   ],
   "source": [
    "max_daily_drawdown.describe()"
   ]
  },
  {
   "cell_type": "code",
   "execution_count": 79,
   "metadata": {
    "execution": {
     "iopub.execute_input": "2020-06-30T02:46:59.203Z",
     "iopub.status.busy": "2020-06-30T02:46:59.175Z",
     "iopub.status.idle": "2020-06-30T02:46:59.253Z",
     "shell.execute_reply": "2020-06-30T02:46:59.282Z"
    }
   },
   "outputs": [
    {
     "data": {
      "text/plain": [
       "count    841.000000\n",
       "mean      -0.099509\n",
       "std        0.104658\n",
       "min       -0.424770\n",
       "25%       -0.161117\n",
       "50%       -0.071179\n",
       "75%       -0.011963\n",
       "max        0.000000\n",
       "Name: MIS Cumulative Daily Returns, dtype: float64"
      ]
     },
     "execution_count": 79,
     "metadata": {},
     "output_type": "execute_result"
    }
   ],
   "source": [
    "mis_daily_drawdown.describe()"
   ]
  },
  {
   "cell_type": "code",
   "execution_count": 80,
   "metadata": {
    "execution": {
     "iopub.execute_input": "2020-06-30T02:47:01.502Z",
     "iopub.status.busy": "2020-06-30T02:47:01.477Z",
     "iopub.status.idle": "2020-06-30T02:47:01.549Z",
     "shell.execute_reply": "2020-06-30T02:47:01.576Z"
    }
   },
   "outputs": [
    {
     "data": {
      "text/plain": [
       "count    841.000000\n",
       "mean      -0.146402\n",
       "std        0.093251\n",
       "min       -0.453756\n",
       "25%       -0.188730\n",
       "50%       -0.126434\n",
       "75%       -0.090045\n",
       "max        0.000000\n",
       "Name: EF Cumulative Daily Returns, dtype: float64"
      ]
     },
     "execution_count": 80,
     "metadata": {},
     "output_type": "execute_result"
    }
   ],
   "source": [
    "ef_daily_drawdown.describe()"
   ]
  },
  {
   "cell_type": "code",
   "execution_count": 81,
   "metadata": {
    "colab": {
     "base_uri": "https://localhost:8080/",
     "height": 235
    },
    "colab_type": "code",
    "execution": {
     "iopub.execute_input": "2020-06-30T02:47:06.398Z",
     "iopub.status.busy": "2020-06-30T02:47:06.372Z",
     "iopub.status.idle": "2020-06-30T02:47:06.450Z",
     "shell.execute_reply": "2020-06-30T02:47:06.472Z"
    },
    "id": "GfJ9AZ4nReMr",
    "outputId": "5defe9f7-c194-469b-edfe-caa5feb80526"
   },
   "outputs": [
    {
     "data": {
      "text/html": [
       "<div>\n",
       "<style scoped>\n",
       "    .dataframe tbody tr th:only-of-type {\n",
       "        vertical-align: middle;\n",
       "    }\n",
       "\n",
       "    .dataframe tbody tr th {\n",
       "        vertical-align: top;\n",
       "    }\n",
       "\n",
       "    .dataframe thead th {\n",
       "        text-align: right;\n",
       "    }\n",
       "</style>\n",
       "<table border=\"1\" class=\"dataframe\">\n",
       "  <thead>\n",
       "    <tr style=\"text-align: right;\">\n",
       "      <th></th>\n",
       "      <th>MRP</th>\n",
       "      <th>MIS</th>\n",
       "      <th>Efficient Frontier</th>\n",
       "    </tr>\n",
       "  </thead>\n",
       "  <tbody>\n",
       "    <tr>\n",
       "      <th>Avg Annual Rate of Returns</th>\n",
       "      <td>0.74%</td>\n",
       "      <td>0.86%</td>\n",
       "      <td>-2.39%</td>\n",
       "    </tr>\n",
       "    <tr>\n",
       "      <th>Annual Volatility</th>\n",
       "      <td>30.82%</td>\n",
       "      <td>31.16%</td>\n",
       "      <td>33.5%</td>\n",
       "    </tr>\n",
       "    <tr>\n",
       "      <th>Maximum Drawdown</th>\n",
       "      <td>-42.64%</td>\n",
       "      <td>-42.48%</td>\n",
       "      <td>-45.38%</td>\n",
       "    </tr>\n",
       "    <tr>\n",
       "      <th>Annualized Sharpe Ratio</th>\n",
       "      <td>-0.04</td>\n",
       "      <td>-0.04</td>\n",
       "      <td>-0.13</td>\n",
       "    </tr>\n",
       "    <tr>\n",
       "      <th>Returns Over Maximum Drawdown</th>\n",
       "      <td>1.36</td>\n",
       "      <td>1.4</td>\n",
       "      <td>0.03</td>\n",
       "    </tr>\n",
       "    <tr>\n",
       "      <th>Growth-Risk Ratio</th>\n",
       "      <td>0.04</td>\n",
       "      <td>0.04</td>\n",
       "      <td>-0.09</td>\n",
       "    </tr>\n",
       "  </tbody>\n",
       "</table>\n",
       "</div>"
      ],
      "text/plain": [
       "                                   MRP      MIS Efficient Frontier\n",
       "Avg Annual Rate of Returns       0.74%    0.86%             -2.39%\n",
       "Annual Volatility               30.82%   31.16%              33.5%\n",
       "Maximum Drawdown               -42.64%  -42.48%            -45.38%\n",
       "Annualized Sharpe Ratio          -0.04    -0.04              -0.13\n",
       "Returns Over Maximum Drawdown     1.36      1.4               0.03\n",
       "Growth-Risk Ratio                 0.04     0.04              -0.09"
      ]
     },
     "execution_count": 81,
     "metadata": {},
     "output_type": "execute_result"
    }
   ],
   "source": [
    "backtest_stats"
   ]
  },
  {
   "cell_type": "code",
   "execution_count": 211,
   "metadata": {},
   "outputs": [],
   "source": [
    "backtest_stats.to_csv(\"data/backtest_stats.csv\")"
   ]
  },
  {
   "cell_type": "markdown",
   "metadata": {
    "colab_type": "text",
    "id": "UUDja4EmReMt"
   },
   "source": [
    "MRP and MIS outperformed the Efficient Froniter on every metric. These results suggests that our strategy has has potential to be used in a real-world investment. "
   ]
  },
  {
   "cell_type": "markdown",
   "metadata": {
    "colab_type": "text",
    "id": "EbomQ2UpReMu"
   },
   "source": [
    "# Analyzing the Distribution of Returns"
   ]
  },
  {
   "cell_type": "code",
   "execution_count": 82,
   "metadata": {
    "colab": {},
    "colab_type": "code",
    "execution": {
     "iopub.execute_input": "2020-06-30T02:47:11.237Z",
     "iopub.status.busy": "2020-06-30T02:47:11.206Z",
     "iopub.status.idle": "2020-06-30T02:47:11.281Z",
     "shell.execute_reply": "2020-06-30T02:47:11.310Z"
    },
    "id": "CVJP6XUZReMu"
   },
   "outputs": [],
   "source": [
    "# probability of Hedgecraft losing money\n",
    "prob_lose_money = (daily_roi[daily_roi < 0].shape[0] \n",
    "                       / daily_roi.shape[0]\n",
    ")\n",
    "\n",
    "# probability of EF losing money\n",
    "ef_prob_lose_money = (ef_daily_roi[ef_daily_roi < 0].shape[0] \n",
    "                          / ef_daily_roi.shape[0]\n",
    ")\n",
    "\n",
    "# probability of Hedgecraft MIS losing money\n",
    "mis_prob_lose_money = (mis_daily_roi[mis_daily_roi < 0].shape[0] \n",
    "                           / mis_daily_roi.shape[0]\n",
    ")\n",
    "\n",
    "# Hedgecraft rolling 30 day avg\n",
    "rolling_30d_avg = (daily_roi.rename('MRP 30 day Rolling Avg')\n",
    "                   .rolling(30)\n",
    "                   .mean()\n",
    ")\n",
    "\n",
    "# EF rolling 30 day avg\n",
    "ef_rolling_30d_avg = (ef_daily_roi.rename('EF 30 day Rolling Avg')\n",
    "                      .rolling(30)\n",
    "                      .mean()\n",
    ")\n",
    "\n",
    "# Hedgecraft MIS rolling 30 day avg\n",
    "mis_rolling_30d_avg = (mis_daily_roi.rename('MIS 30 day Rolling Avg')\n",
    "                       .rolling(30)\n",
    "                       .mean()\n",
    ")\n",
    "\n",
    "\n",
    "# Hedgecraft rolling 50 day avg\n",
    "rolling_50d_avg = (daily_roi.rename('MRP 50 day Rolling Avg')\n",
    "                   .rolling(50)\n",
    "                   .mean()\n",
    ")\n",
    "\n",
    "# EF rolling 50 day avg\n",
    "ef_rolling_50d_avg = (ef_daily_roi.rename('EF 50 day Rolling Avg')\n",
    "                      .rolling(50)\n",
    "                      .mean()\n",
    ")\n",
    "\n",
    "# Hedgecraft MIS rolling 50 day avg\n",
    "mis_rolling_50d_avg = (mis_daily_roi.rename('MIS 50 day Rolling Avg')\n",
    "                       .rolling(50)\n",
    "                       .mean()\n",
    ")\n",
    "\n",
    "# Hedgecraft rolling 90 day avg\n",
    "rolling_90d_avg = (daily_roi.rename('MRP 90 day Rolling Avg')\n",
    "                   .rolling(90)\n",
    "                   .mean()\n",
    ")\n",
    "\n",
    "# EF rolling 90 day avg\n",
    "ef_rolling_90d_avg = (ef_daily_roi.rename('EF 90 day Rolling Avg')\n",
    "                      .rolling(90)\n",
    "                      .mean()\n",
    ")\n",
    "\n",
    "# Hedgecraft MIS rolling 90 day avg\n",
    "mis_rolling_90d_avg = (mis_daily_roi.rename('MIS 90 day Rolling Avg')\n",
    "                       .rolling(90)\n",
    "                       .mean()\n",
    ")\n",
    "\n",
    "# Hedgecraft list of rolling avgs\n",
    "rolling_avg_list = [rolling_30d_avg, rolling_50d_avg, rolling_90d_avg]\n",
    "\n",
    "# EF list of rolling avgs\n",
    "ef_rolling_avg_list = [ef_rolling_30d_avg, ef_rolling_50d_avg, ef_rolling_90d_avg]\n",
    "\n",
    "# Hedgecraft MIS list of rolling avgs\n",
    "mis_rolling_avg_list = [mis_rolling_30d_avg, mis_rolling_50d_avg, mis_rolling_90d_avg]\n",
    "\n",
    "# Hedgecraft probabilities of falling below 30, 50, and 90 day rolling averages\n",
    "prob_below_rolling_avgs = []\n",
    "for i in rolling_avg_list:\n",
    "    (prob_below_rolling_avgs.append(daily_roi[daily_roi < i].shape[0] \n",
    "                                    / daily_roi.shape[0]))\n",
    "\n",
    "# Efficient Frontier probabilities of falling below 30, 50, and 90 day rolling averages\n",
    "ef_prob_below_rolling_avgs = []\n",
    "for i in ef_rolling_avg_list:\n",
    "    (ef_prob_below_rolling_avgs.append(ef_daily_roi[ef_daily_roi < i].shape[0] \n",
    "                                       / ef_daily_roi.shape[0]))\n",
    "\n",
    "# Hedgecraft MIS probabilities of falling below 30, 50, and 90 day rolling averages\n",
    "mis_prob_below_rolling_avgs = []\n",
    "for i in mis_rolling_avg_list:\n",
    "    (mis_prob_below_rolling_avgs.append(mis_daily_roi[mis_daily_roi < i].shape[0] \n",
    "                                        / mis_daily_roi.shape[0]))\n",
    "\n",
    "# worst day for the Hedgecraft model\n",
    "max_loss = min(daily_roi)\n",
    "\n",
    "# worst day for the Efficient Frontier model\n",
    "ef_max_loss = min(ef_daily_roi)\n",
    "\n",
    "# worst day for the Hedgecraft MIS model\n",
    "mis_max_loss = min(mis_daily_roi)\n",
    "\n",
    "# avg amount of money lost by Hedgecraft when returns fell below 0%\n",
    "mean_loss = daily_roi[daily_roi < 0].mean()\n",
    "\n",
    "# avg amount of money lost by EF when returns fell below 0%\n",
    "ef_mean_loss = ef_daily_roi[ef_daily_roi < 0].mean()\n",
    "\n",
    "# avg amount of money lost by Hedgecraft MIS when returns fell below 0%\n",
    "mis_mean_loss = mis_daily_roi[mis_daily_roi < 0].mean()\n",
    "\n",
    "# Hedgecraft distribution of returns statistics\n",
    "dist_stats = [\n",
    "                prob_lose_money*100, \n",
    "                max_loss, \n",
    "                mean_loss, \n",
    "                prob_below_rolling_avgs[0]*100, \n",
    "                prob_below_rolling_avgs[1]*100, \n",
    "                prob_below_rolling_avgs[2]*100\n",
    "]\n",
    "\n",
    "# rounds above list and annotates with % sign\n",
    "dist_stats = [str(round(x, 2)) + '%' for x in dist_stats]\n",
    "\n",
    "# Ef distribution of returns statistics\n",
    "ef_dist_stats = [\n",
    "                    ef_prob_lose_money*100, \n",
    "                    ef_max_loss, ef_mean_loss, \n",
    "                    ef_prob_below_rolling_avgs[0]*100,\n",
    "                    ef_prob_below_rolling_avgs[1]*100, \n",
    "                    ef_prob_below_rolling_avgs[2]*100\n",
    "]\n",
    "\n",
    "# rounds above list and annotates with % sign\n",
    "ef_dist_stats = [str(round(x, 2)) + '%' for x in ef_dist_stats]\n",
    "\n",
    "#  Hedgecraft MIS distribution of returns statistics\n",
    "mis_dist_stats = [\n",
    "                    mis_prob_lose_money*100, \n",
    "                    mis_max_loss, mis_mean_loss, \n",
    "                    mis_prob_below_rolling_avgs[0]*100,\n",
    "                    mis_prob_below_rolling_avgs[1]*100, \n",
    "                    mis_prob_below_rolling_avgs[2]*100\n",
    "]\n",
    "\n",
    "# rounds above list and annotates with % sign\n",
    "mis_dist_stats = [str(round(x, 2)) + '%' for x in mis_dist_stats]\n",
    "\n",
    "# dictionary of distribution stats\n",
    "dist_stats_summary = {\n",
    "                        'MRP': dist_stats, \n",
    "                        'MIS': mis_dist_stats, \n",
    "                        'Efficient Frontier': ef_dist_stats\n",
    "}\n",
    "\n",
    "# converts above dict to a DataFrame\n",
    "dist_stats_summary = pd.DataFrame.from_dict(dist_stats_summary)\n",
    "\n",
    "# renames the indices\n",
    "dist_stats_summary = dist_stats_summary.rename(index={\n",
    "                                 0:'probability of losing money from initial investement', \n",
    "                                 1:'maximum loss',\n",
    "                                 2:'mean loss',\n",
    "                                 3:'Probability of falling bellow 30 day rolling avg',\n",
    "                                 4:'Probability of falling bellow 50 day rolling avg',\n",
    "                                 5:'Probability of falling bellow 90 day rolling avg'\n",
    "                            }\n",
    ");"
   ]
  },
  {
   "cell_type": "markdown",
   "metadata": {
    "colab_type": "text",
    "id": "gO4ACJoKReMw"
   },
   "source": [
    "# Visualizing the Distribution of Returns"
   ]
  },
  {
   "cell_type": "code",
   "execution_count": 85,
   "metadata": {
    "colab": {
     "base_uri": "https://localhost:8080/",
     "height": 350
    },
    "colab_type": "code",
    "execution": {
     "iopub.execute_input": "2020-06-30T02:48:57.977Z",
     "iopub.status.busy": "2020-06-30T02:48:57.938Z",
     "iopub.status.idle": "2020-06-30T02:48:58.311Z",
     "shell.execute_reply": "2020-06-30T02:48:58.384Z"
    },
    "id": "zBMCBQz5ReMw",
    "outputId": "972c6819-8de0-4288-e971-04fdbed1231f"
   },
   "outputs": [
    {
     "data": {
      "image/png": "[encoded data removed]",
      "text/plain": [
       "<Figure size 864x360 with 1 Axes>"
      ]
     },
     "metadata": {
      "needs_background": "light"
     },
     "output_type": "display_data"
    }
   ],
   "source": [
    "# function to plot many overlaping kde plots\n",
    "def multi_distplot(rdist1, rdist2, rdist3, kde=True):\n",
    "    \n",
    "    # initializes figure and axis\n",
    "    fig = plt.figure(figsize=(12,5))\n",
    "    ax = fig.add_subplot(111)\n",
    "\n",
    "    # pretty seaborn kde plots for each model\n",
    "    sns.distplot(rdist1, bins=12, kde=bool)\n",
    "    sns.distplot(rdist2, bins=10, kde=bool)\n",
    "    sns.distplot(rdist3, bins=12, kde=bool)\n",
    "    \n",
    "    # gets xticks\n",
    "    vals1 = ax.get_xticks()\n",
    "    \n",
    "    # reformats xticks to pcts\n",
    "    ax.set_xticklabels(['{:.0f}%'.format(x) for x in vals1])\n",
    "    \n",
    "    # plot labels and title\n",
    "    ax.set_ylabel('Probability')\n",
    "    ax.set_xlabel('Returns')\n",
    "    plt.title('Distribution of Returns')\n",
    "    \n",
    "    # removes spines\n",
    "    sns.despine(top=True, right=True)\n",
    "\n",
    "    # sets legend patches color and labels\n",
    "    ef_patch = mpatches.Patch(color='darksalmon', label='Efficient Frontier', alpha=0.5)\n",
    "    patch = mpatches.Patch(color='royalblue', label='Hedgecraft', alpha=0.5)\n",
    "    mis_patch = mpatches.Patch(color='seagreen', label='Hedgecraft MIS', alpha=0.5)\n",
    "    \n",
    "    # turns legend on with patches\n",
    "    plt.legend(handles=[ef_patch, patch, mis_patch])\n",
    "    \n",
    "multi_distplot(rdist1 = daily_roi, rdist2 = ef_daily_roi, rdist3 = mis_daily_roi)\n",
    "#multi_distplot(rdist1 = daily_roi, rdist2 = None, rdist3 = mis_daily_roi)"
   ]
  },
  {
   "cell_type": "markdown",
   "metadata": {
    "colab_type": "text",
    "id": "oLpR7VBvReMy"
   },
   "source": [
    "Above are the returns distribution for each portfolio: Efficient Frontier (in red), Close (in blue), and Close MIS (in green). The Efficient Frontier algorithm clearly produced a portfolio with a normal distribution of returns; the same can't be said of the Close portfolios.  \n",
    "\n",
    "It's important to emphasize that deviation-based measures of risk-adjusted performance implicitly assume the distribution of returns follows a normal distribution. As such, the Sharpe ratio isn't a suitable measure of performance since the standard deviation isn't a suitable measure of risk for the Close portfolios."
   ]
  },
  {
   "cell_type": "code",
   "execution_count": 86,
   "metadata": {
    "colab": {
     "base_uri": "https://localhost:8080/",
     "height": 235
    },
    "colab_type": "code",
    "execution": {
     "iopub.execute_input": "2020-06-30T02:49:03.151Z",
     "iopub.status.busy": "2020-06-30T02:49:03.117Z",
     "iopub.status.idle": "2020-06-30T02:49:03.198Z",
     "shell.execute_reply": "2020-06-30T02:49:03.222Z"
    },
    "id": "TFcJZp7zReMy",
    "outputId": "bf29b0cc-f183-4cd8-8962-bdae91201f52",
    "scrolled": true
   },
   "outputs": [
    {
     "data": {
      "text/html": [
       "<div>\n",
       "<style scoped>\n",
       "    .dataframe tbody tr th:only-of-type {\n",
       "        vertical-align: middle;\n",
       "    }\n",
       "\n",
       "    .dataframe tbody tr th {\n",
       "        vertical-align: top;\n",
       "    }\n",
       "\n",
       "    .dataframe thead th {\n",
       "        text-align: right;\n",
       "    }\n",
       "</style>\n",
       "<table border=\"1\" class=\"dataframe\">\n",
       "  <thead>\n",
       "    <tr style=\"text-align: right;\">\n",
       "      <th></th>\n",
       "      <th>MRP</th>\n",
       "      <th>MIS</th>\n",
       "      <th>Efficient Frontier</th>\n",
       "    </tr>\n",
       "  </thead>\n",
       "  <tbody>\n",
       "    <tr>\n",
       "      <th>probability of losing money from initial investement</th>\n",
       "      <td>0.12%</td>\n",
       "      <td>0.12%</td>\n",
       "      <td>28.78%</td>\n",
       "    </tr>\n",
       "    <tr>\n",
       "      <th>maximum loss</th>\n",
       "      <td>-0.95%</td>\n",
       "      <td>-0.99%</td>\n",
       "      <td>-20.42%</td>\n",
       "    </tr>\n",
       "    <tr>\n",
       "      <th>mean loss</th>\n",
       "      <td>-0.95%</td>\n",
       "      <td>-0.99%</td>\n",
       "      <td>-6.05%</td>\n",
       "    </tr>\n",
       "    <tr>\n",
       "      <th>Probability of falling bellow 30 day rolling avg</th>\n",
       "      <td>34.96%</td>\n",
       "      <td>34.72%</td>\n",
       "      <td>49.11%</td>\n",
       "    </tr>\n",
       "    <tr>\n",
       "      <th>Probability of falling bellow 50 day rolling avg</th>\n",
       "      <td>36.39%</td>\n",
       "      <td>36.39%</td>\n",
       "      <td>47.68%</td>\n",
       "    </tr>\n",
       "    <tr>\n",
       "      <th>Probability of falling bellow 90 day rolling avg</th>\n",
       "      <td>33.65%</td>\n",
       "      <td>33.65%</td>\n",
       "      <td>47.68%</td>\n",
       "    </tr>\n",
       "  </tbody>\n",
       "</table>\n",
       "</div>"
      ],
      "text/plain": [
       "                                                       MRP     MIS  \\\n",
       "probability of losing money from initial invest...   0.12%   0.12%   \n",
       "maximum loss                                        -0.95%  -0.99%   \n",
       "mean loss                                           -0.95%  -0.99%   \n",
       "Probability of falling bellow 30 day rolling avg    34.96%  34.72%   \n",
       "Probability of falling bellow 50 day rolling avg    36.39%  36.39%   \n",
       "Probability of falling bellow 90 day rolling avg    33.65%  33.65%   \n",
       "\n",
       "                                                   Efficient Frontier  \n",
       "probability of losing money from initial invest...             28.78%  \n",
       "maximum loss                                                  -20.42%  \n",
       "mean loss                                                      -6.05%  \n",
       "Probability of falling bellow 30 day rolling avg               49.11%  \n",
       "Probability of falling bellow 50 day rolling avg               47.68%  \n",
       "Probability of falling bellow 90 day rolling avg               47.68%  "
      ]
     },
     "execution_count": 86,
     "metadata": {},
     "output_type": "execute_result"
    }
   ],
   "source": [
    "dist_stats_summary"
   ]
  },
  {
   "cell_type": "code",
   "execution_count": 151,
   "metadata": {},
   "outputs": [],
   "source": [
    "dist_stats_summary.to_csv(\"data/dist_stats_summary.csv\")"
   ]
  },
  {
   "cell_type": "markdown",
   "metadata": {
    "colab_type": "text",
    "id": "FcBms6j5ReM1"
   },
   "source": [
    "# Conclusion\n",
    "\n",
    "We designed an algorithm to generate a minimum risk portfolio (MRP) asset weights using tools from network science. First, an asset-related statistic is established, and then an appropriate centrality measure is used to extract the asset weight. As an intermediate step, we interpret the centrality score as a measure of relative risk because it captures asset volatility and their impact on the other assets in the network.\n",
    "\n",
    "In addition, we designed a second strategy by allocating the capital by Maximal Independent Set (MIS). This strategy finds the subset of stocks that guarantee all the stocks in the network are connected. They are the most representative stocks.\n",
    "\n",
    "Our strategies were compared with the Modern Portfolio Theory portfolio given by the Efficient Frontier (EF) method.\n",
    "\n",
    "The portfolios were being assessed by cumulative return, rate of return, volatility, maximum withdrawal, risk-adjusted return, and risk-adjusted-performance. In all performance indicators, Hedgecra ȅ algorithm is significantly better than the Efficient frontier of the portfolio and market. \n",
    "\n",
    "**On all performance metrics, the MRP algorithm significantly outperformed both the portfolio generated by the Efficient Frontier and the market.**"
   ]
  },
  {
   "cell_type": "code",
   "execution_count": null,
   "metadata": {
    "colab": {},
    "colab_type": "code",
    "id": "3RUPaAqxReM1"
   },
   "outputs": [],
   "source": []
  }
 ],
 "metadata": {
  "colab": {
   "name": "Network Graph.ipynb",
   "provenance": []
  },
  "kernelspec": {
   "display_name": "Python 3",
   "language": "python",
   "name": "python3"
  },
  "language_info": {
   "codemirror_mode": {
    "name": "ipython",
    "version": 3
   },
   "file_extension": ".py",
   "mimetype": "text/x-python",
   "name": "python",
   "nbconvert_exporter": "python",
   "pygments_lexer": "ipython3",
   "version": "3.7.1"
  },
  "nteract": {
   "version": "0.23.3"
  }
 },
 "nbformat": 4,
 "nbformat_minor": 1
}
